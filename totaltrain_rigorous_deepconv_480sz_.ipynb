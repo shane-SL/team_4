{
  "nbformat": 4,
  "nbformat_minor": 0,
  "metadata": {
    "colab": {
      "name": "totaltrain_rigorous_deepconv_480sz_.ipynb",
      "provenance": [],
      "collapsed_sections": [],
      "include_colab_link": true
    },
    "kernelspec": {
      "name": "python3",
      "display_name": "Python 3"
    },
    "language_info": {
      "name": "python"
    },
    "accelerator": "GPU"
  },
  "cells": [
    {
      "cell_type": "markdown",
      "metadata": {
        "id": "view-in-github",
        "colab_type": "text"
      },
      "source": [
        "<a href=\"https://colab.research.google.com/github/shane-SL/team_4/blob/main/totaltrain_rigorous_deepconv_480sz_.ipynb\" target=\"_parent\"><img src=\"https://colab.research.google.com/assets/colab-badge.svg\" alt=\"Open In Colab\"/></a>"
      ]
    },
    {
      "cell_type": "code",
      "metadata": {
        "colab": {
          "base_uri": "https://localhost:8080/"
        },
        "id": "h6e-rVw9RTNv",
        "outputId": "c164beb0-cd0c-40f2-9a7e-d90859050d88"
      },
      "source": [
        "from google.colab import drive\n",
        "drive.mount('/content/drive')"
      ],
      "execution_count": null,
      "outputs": [
        {
          "output_type": "stream",
          "name": "stdout",
          "text": [
            "Drive already mounted at /content/drive; to attempt to forcibly remount, call drive.mount(\"/content/drive\", force_remount=True).\n"
          ]
        }
      ]
    },
    {
      "cell_type": "markdown",
      "metadata": {
        "id": "4Saheu0D42Me"
      },
      "source": [
        "## 讀取 google drive圖檔 :"
      ]
    },
    {
      "cell_type": "code",
      "metadata": {
        "id": "7cJlniYJUsWj"
      },
      "source": [
        "import glob\n",
        "# GP125\n",
        "gp = glob.glob(\"/content/drive/MyDrive/Tebame_第四組_機車辨識/嚴選資料集/KYMCO_GP_125_裁/*\")\n",
        "\n",
        "# 活力 125 原始+ 裁\n",
        "vivo = glob.glob(\"/content/drive/MyDrive/Tebame_第四組_機車辨識/嚴選資料集/SYM_活力_125_裁/*\")\n",
        "\n",
        "# 勁戰六代 原始+ 裁\n",
        "gryphus6 = glob.glob(\"/content/drive/MyDrive/Tebame_第四組_機車辨識/嚴選資料集/YAMAHA_六代勁戰_125_裁/*\")\n",
        "\n",
        "# SYM JET SR  ...\n",
        "SR = glob.glob(\"/content/drive/MyDrive/Tebame_第四組_機車辨識/嚴選資料集/SYM_JET_SR_125_裁/*\")\n",
        "\n",
        "# SYM JET SL  ...\n",
        "SL = glob.glob(\"/content/drive/MyDrive/Tebame_第四組_機車辨識/嚴選資料集/SYM_JET_SL_125_裁/*\")\n",
        "\n",
        "# YAMAHA JOG  ...\n",
        "JOG = glob.glob(\"/content/drive/MyDrive/Tebame_第四組_機車辨識/嚴選資料集/YAMAHA_JOG_125_裁/*\")\n",
        "\n",
        "# YAMAHA BWS  ...\n",
        "BWS = glob.glob(\"/content/drive/MyDrive/Tebame_第四組_機車辨識/嚴選資料集/YAMAHA_BWS_125_裁/*\")\n",
        "\n",
        "# YAMAHA LIMI  ...\n",
        "LIMI = glob.glob(\"/content/drive/MyDrive/Tebame_第四組_機車辨識/嚴選資料集/YAMAHA_LIMI_125_已裁減/*\")\n",
        "\n",
        "# KYMCO LIKE\n",
        "LIKE = glob.glob(\"/content/drive/MyDrive/Tebame_第四組_機車辨識/嚴選資料集/KYMCO_LIKE_125_裁/*\")\n",
        "\n",
        "# DRG\n",
        "DRG = glob.glob(\"/content/drive/MyDrive/Tebame_第四組_機車辨識/嚴選資料集/SYM_DRG_裁/*\") \n",
        "\n",
        "# FIDDLE\n",
        "FIDDLE = glob.glob(\"/content/drive/MyDrive/Tebame_第四組_機車辨識/嚴選資料集/SYM_FIDDLE_125_裁/*\") \n",
        "\n",
        "# gogoro S2\n",
        "S2 = glob.glob(\"/content/drive/MyDrive/Tebame_第四組_機車辨識/嚴選資料集/GOGORO_S2_裁/*\")\n",
        "\n",
        "# gogoro S3\n",
        "S3 = glob.glob(\"/content/drive/MyDrive/Tebame_第四組_機車辨識/嚴選資料集/GOGORO_S3_裁/*\")\n",
        "\n",
        "# gogoro VIVA_MIX\n",
        "VIVAMIX = glob.glob(\"/content/drive/MyDrive/Tebame_第四組_機車辨識/嚴選資料集/GOGORO_VIVA_MIX_裁/*\")\n",
        "\n",
        "# 新名流125\n",
        "xml125 = glob.glob(\"/content/drive/MyDrive/Tebame_第四組_機車辨識/嚴選資料集/KYMCO_新名流125_裁/*\")\n",
        "\n",
        "# YAMAHA 勁豪\n",
        "JH = glob.glob(\"/content/drive/MyDrive/Tebame_第四組_機車辨識/嚴選資料集/YAMAHA_勁豪_125_裁/*\")\n",
        "\n",
        "# KRV\n",
        "KRV = glob.glob(\"/content/drive/MyDrive/Tebame_第四組_機車辨識/嚴選資料集/KYMCO_KRV_裁/*\")\n",
        "\n",
        "# KYMCO MANY\n",
        "MANY = glob.glob(\"/content/drive/MyDrive/Tebame_第四組_機車辨識/嚴選資料集/KYMCO_MANY_125_裁/*\")\n",
        "\n",
        "# YAMAHA FORCE\n",
        "Force = glob.glob(\"/content/drive/MyDrive/Tebame_第四組_機車辨識/嚴選資料集/YAMAHA_FORCE_裁/*\")\n",
        "\n",
        "# SYM 新迪爵\n",
        "xdj = glob.glob(\"/content/drive/MyDrive/Tebame_第四組_機車辨識/嚴選資料集/SYM_新迪爵_125 _裁/*\")\n",
        "\n"
      ],
      "execution_count": null,
      "outputs": []
    },
    {
      "cell_type": "code",
      "metadata": {
        "colab": {
          "base_uri": "https://localhost:8080/",
          "height": 423
        },
        "id": "blqX5AMgVAOs",
        "outputId": "9f9d9c8c-f92a-4d6d-bb6b-329a812fb2a3"
      },
      "source": [
        "import pandas as pd\n",
        "df = pd.DataFrame({\n",
        "    \"path\": gp + vivo + gryphus6 + SR + SL + JOG + BWS + LIMI + LIKE + DRG + FIDDLE + S2 + S3 + VIVAMIX + xml125 + JH + KRV + MANY + Force +xdj,\n",
        "    \"ans\": [0] * len(gp) + [1] * len(vivo) + [2] * len(gryphus6) + [3] * len(SR) + [4] * len(SL) + [5] * len(JOG) + [6] * len(BWS) + [7] * len(LIMI) + [8] * len(LIKE) + [9] * len(DRG) + [10] * len(FIDDLE) + [11] * len(S2) + [12] * len(S3) + [13] * len(VIVAMIX) + [14] * len(xml125) + [15] * len(JH) + [16] * len(KRV) + [17] * len(MANY) + [18] * len(Force) + [19] * len(xdj)\n",
        "})\n",
        "df"
      ],
      "execution_count": null,
      "outputs": [
        {
          "output_type": "execute_result",
          "data": {
            "text/html": [
              "<div>\n",
              "<style scoped>\n",
              "    .dataframe tbody tr th:only-of-type {\n",
              "        vertical-align: middle;\n",
              "    }\n",
              "\n",
              "    .dataframe tbody tr th {\n",
              "        vertical-align: top;\n",
              "    }\n",
              "\n",
              "    .dataframe thead th {\n",
              "        text-align: right;\n",
              "    }\n",
              "</style>\n",
              "<table border=\"1\" class=\"dataframe\">\n",
              "  <thead>\n",
              "    <tr style=\"text-align: right;\">\n",
              "      <th></th>\n",
              "      <th>path</th>\n",
              "      <th>ans</th>\n",
              "    </tr>\n",
              "  </thead>\n",
              "  <tbody>\n",
              "    <tr>\n",
              "      <th>0</th>\n",
              "      <td>/content/drive/MyDrive/Tebame_第四組_機車辨識/嚴選資料集/K...</td>\n",
              "      <td>0</td>\n",
              "    </tr>\n",
              "    <tr>\n",
              "      <th>1</th>\n",
              "      <td>/content/drive/MyDrive/Tebame_第四組_機車辨識/嚴選資料集/K...</td>\n",
              "      <td>0</td>\n",
              "    </tr>\n",
              "    <tr>\n",
              "      <th>2</th>\n",
              "      <td>/content/drive/MyDrive/Tebame_第四組_機車辨識/嚴選資料集/K...</td>\n",
              "      <td>0</td>\n",
              "    </tr>\n",
              "    <tr>\n",
              "      <th>3</th>\n",
              "      <td>/content/drive/MyDrive/Tebame_第四組_機車辨識/嚴選資料集/K...</td>\n",
              "      <td>0</td>\n",
              "    </tr>\n",
              "    <tr>\n",
              "      <th>4</th>\n",
              "      <td>/content/drive/MyDrive/Tebame_第四組_機車辨識/嚴選資料集/K...</td>\n",
              "      <td>0</td>\n",
              "    </tr>\n",
              "    <tr>\n",
              "      <th>...</th>\n",
              "      <td>...</td>\n",
              "      <td>...</td>\n",
              "    </tr>\n",
              "    <tr>\n",
              "      <th>8101</th>\n",
              "      <td>/content/drive/MyDrive/Tebame_第四組_機車辨識/嚴選資料集/S...</td>\n",
              "      <td>19</td>\n",
              "    </tr>\n",
              "    <tr>\n",
              "      <th>8102</th>\n",
              "      <td>/content/drive/MyDrive/Tebame_第四組_機車辨識/嚴選資料集/S...</td>\n",
              "      <td>19</td>\n",
              "    </tr>\n",
              "    <tr>\n",
              "      <th>8103</th>\n",
              "      <td>/content/drive/MyDrive/Tebame_第四組_機車辨識/嚴選資料集/S...</td>\n",
              "      <td>19</td>\n",
              "    </tr>\n",
              "    <tr>\n",
              "      <th>8104</th>\n",
              "      <td>/content/drive/MyDrive/Tebame_第四組_機車辨識/嚴選資料集/S...</td>\n",
              "      <td>19</td>\n",
              "    </tr>\n",
              "    <tr>\n",
              "      <th>8105</th>\n",
              "      <td>/content/drive/MyDrive/Tebame_第四組_機車辨識/嚴選資料集/S...</td>\n",
              "      <td>19</td>\n",
              "    </tr>\n",
              "  </tbody>\n",
              "</table>\n",
              "<p>8106 rows × 2 columns</p>\n",
              "</div>"
            ],
            "text/plain": [
              "                                                   path  ans\n",
              "0     /content/drive/MyDrive/Tebame_第四組_機車辨識/嚴選資料集/K...    0\n",
              "1     /content/drive/MyDrive/Tebame_第四組_機車辨識/嚴選資料集/K...    0\n",
              "2     /content/drive/MyDrive/Tebame_第四組_機車辨識/嚴選資料集/K...    0\n",
              "3     /content/drive/MyDrive/Tebame_第四組_機車辨識/嚴選資料集/K...    0\n",
              "4     /content/drive/MyDrive/Tebame_第四組_機車辨識/嚴選資料集/K...    0\n",
              "...                                                 ...  ...\n",
              "8101  /content/drive/MyDrive/Tebame_第四組_機車辨識/嚴選資料集/S...   19\n",
              "8102  /content/drive/MyDrive/Tebame_第四組_機車辨識/嚴選資料集/S...   19\n",
              "8103  /content/drive/MyDrive/Tebame_第四組_機車辨識/嚴選資料集/S...   19\n",
              "8104  /content/drive/MyDrive/Tebame_第四組_機車辨識/嚴選資料集/S...   19\n",
              "8105  /content/drive/MyDrive/Tebame_第四組_機車辨識/嚴選資料集/S...   19\n",
              "\n",
              "[8106 rows x 2 columns]"
            ]
          },
          "metadata": {},
          "execution_count": 7
        }
      ]
    },
    {
      "cell_type": "markdown",
      "metadata": {
        "id": "YnwjOmMTWDfb"
      },
      "source": [
        "#### 偷別人卷積網路 :\n",
        "###### google keras application"
      ]
    },
    {
      "cell_type": "code",
      "metadata": {
        "id": "XeAyL9wcWJGQ",
        "colab": {
          "base_uri": "https://localhost:8080/"
        },
        "outputId": "4187ad14-37e2-4aba-c860-a50af11d31d3"
      },
      "source": [
        "from tensorflow.keras.applications.vgg16 import VGG16  # 偷別人眼睛\n",
        "basemodle = VGG16(weights='imagenet', include_top=False,input_shape=(480))\n",
        "#basemodle.summary()"
      ],
      "execution_count": null,
      "outputs": [
        {
          "output_type": "stream",
          "name": "stdout",
          "text": [
            "Downloading data from https://storage.googleapis.com/tensorflow/keras-applications/vgg16/vgg16_weights_tf_dim_ordering_tf_kernels_notop.h5\n",
            "58892288/58889256 [==============================] - 1s 0us/step\n",
            "58900480/58889256 [==============================] - 1s 0us/step\n"
          ]
        }
      ]
    },
    {
      "cell_type": "markdown",
      "metadata": {
        "id": "5d_HP00CX04p"
      },
      "source": [
        "##### 高參數 =>訓練資料要多\n",
        "##### 低參數 =>訓練資料要少"
      ]
    },
    {
      "cell_type": "markdown",
      "metadata": {
        "id": "nvjHIa9RX9IL"
      },
      "source": [
        "#####開始疊層數"
      ]
    },
    {
      "cell_type": "code",
      "metadata": {
        "colab": {
          "base_uri": "https://localhost:8080/"
        },
        "id": "RzPXEjJ9YxAH",
        "outputId": "3455e5cb-7483-4765-8476-3d8d7eddfc9a"
      },
      "source": [
        "from tensorflow.keras.models import Model, Sequential\n",
        "from tensorflow.keras.layers import Dense, BatchNormalization, Layer, GlobalMaxPool2D, LeakyReLU, Conv2D, Input, Concatenate, Add, AveragePooling2D, Dense, MaxPool2D, GlobalAvgPool2D, SeparableConv2D\n",
        "min = Input(shape=(480,480,3))\n",
        "basemodle = VGG16(weights='imagenet', include_top=False,input_shape=(480,480,3))(min)\n",
        "bn = BatchNormalization()(basemodle)\n",
        "conv0 = SeparableConv2D(512,3,padding=\"same\",activation=LeakyReLU(alpha=0.25),strides=1)(bn)\n",
        "add0 = Add()([conv0,bn])\n",
        "conv1 = SeparableConv2D(512,3,padding=\"same\",activation=LeakyReLU(alpha=0.25),strides=1)(add0)\n",
        "add1 = Add()([conv0,conv1])\n",
        "gap = GlobalAvgPool2D()(add1)\n",
        "d0 = Dense(128, activation=LeakyReLU(alpha=0.25))(gap)\n",
        "d1 = Dense(20, activation=\"softmax\")(d0)\n",
        "\n",
        "modle = Model(inputs=[min],outputs=[d1])\n",
        "modle.layers[1].trainable = False\n",
        "modle.summary()"
      ],
      "execution_count": null,
      "outputs": [
        {
          "output_type": "stream",
          "name": "stdout",
          "text": [
            "Model: \"model\"\n",
            "__________________________________________________________________________________________________\n",
            " Layer (type)                   Output Shape         Param #     Connected to                     \n",
            "==================================================================================================\n",
            " input_2 (InputLayer)           [(None, 480, 480, 3  0           []                               \n",
            "                                )]                                                                \n",
            "                                                                                                  \n",
            " vgg16 (Functional)             (None, 15, 15, 512)  14714688    ['input_2[0][0]']                \n",
            "                                                                                                  \n",
            " batch_normalization (BatchNorm  (None, 15, 15, 512)  2048       ['vgg16[0][0]']                  \n",
            " alization)                                                                                       \n",
            "                                                                                                  \n",
            " separable_conv2d (SeparableCon  (None, 15, 15, 512)  267264     ['batch_normalization[0][0]']    \n",
            " v2D)                                                                                             \n",
            "                                                                                                  \n",
            " add (Add)                      (None, 15, 15, 512)  0           ['separable_conv2d[0][0]',       \n",
            "                                                                  'batch_normalization[0][0]']    \n",
            "                                                                                                  \n",
            " separable_conv2d_1 (SeparableC  (None, 15, 15, 512)  267264     ['add[0][0]']                    \n",
            " onv2D)                                                                                           \n",
            "                                                                                                  \n",
            " add_1 (Add)                    (None, 15, 15, 512)  0           ['separable_conv2d[0][0]',       \n",
            "                                                                  'separable_conv2d_1[0][0]']     \n",
            "                                                                                                  \n",
            " global_average_pooling2d (Glob  (None, 512)         0           ['add_1[0][0]']                  \n",
            " alAveragePooling2D)                                                                              \n",
            "                                                                                                  \n",
            " dense (Dense)                  (None, 128)          65664       ['global_average_pooling2d[0][0]'\n",
            "                                                                 ]                                \n",
            "                                                                                                  \n",
            " dense_1 (Dense)                (None, 20)           2580        ['dense[0][0]']                  \n",
            "                                                                                                  \n",
            "==================================================================================================\n",
            "Total params: 15,319,508\n",
            "Trainable params: 603,796\n",
            "Non-trainable params: 14,715,712\n",
            "__________________________________________________________________________________________________\n"
          ]
        }
      ]
    },
    {
      "cell_type": "code",
      "metadata": {
        "colab": {
          "base_uri": "https://localhost:8080/"
        },
        "id": "bBenDtzUBCDK",
        "outputId": "eaf918e1-e6a1-4054-c0b0-c2aa614f9556"
      },
      "source": [
        "from tensorflow.keras.models import Model\n",
        "from tensorflow.keras.layers import Dense, BatchNormalization, Layer, GlobalMaxPool2D, LeakyReLU, Conv2D, Input, Concatenate, Add, AveragePooling2D, Dense, MaxPool2D\n",
        "\n",
        "selfmodelinput = Input(shape=(,,3))\n",
        "conv1x1_0_0 = Conv2D(29,1,padding=\"same\",activation=LeakyReLU(alpha=0.25),strides=2)(selfmodelinput)\n",
        "conv4x4_0_0 = Conv2D(32,4,padding=\"same\",activation=LeakyReLU(alpha=0.25),strides=2)(selfmodelinput)\n",
        "conv4x4_0_1 = Conv2D(32,4,padding=\"same\",activation=LeakyReLU(alpha=0.25),strides=2)(selfmodelinput)\n",
        "conv4x4_0_2 = Conv2D(32,4,padding=\"same\",activation=LeakyReLU(alpha=0.25),strides=1)(conv4x4_0_1)\n",
        "avgpool0 = AveragePooling2D(pool_size=(2,2))(selfmodelinput)\n",
        "concat0 = Concatenate(axis=-1)([conv1x1_0_0,avgpool0])\n",
        "add0 = Add()([conv4x4_0_0,conv4x4_0_2,concat0])\n",
        "bn0 = BatchNormalization(axis=-1)(add0)\n",
        "conv1x1_1_0 = Conv2D(12,1,padding=\"same\",activation=LeakyReLU(alpha=0.25),strides=2)(bn0)\n",
        "conv4x4_1_0 = Conv2D(10,4,padding=\"same\",activation=LeakyReLU(alpha=0.25),strides=2)(bn0)\n",
        "conv4x4_1_1 = Conv2D(10,4,padding=\"same\",activation=LeakyReLU(alpha=0.25),strides=2)(bn0)\n",
        "conv4x4_1_2 = Conv2D(10,4,padding=\"same\",activation=LeakyReLU(alpha=0.25),strides=1)(conv4x4_1_1)\n",
        "avgpool1 = AveragePooling2D(pool_size=(2,2))(bn0)\n",
        "concat1 = Concatenate(axis=-1)([conv1x1_1_0,conv4x4_1_0,conv4x4_1_2])\n",
        "add1 = Add()([avgpool1,concat1])\n",
        "bn1 = BatchNormalization(axis=-1)(add1)\n",
        "conv1x1_2_0 = Conv2D(12,1,padding=\"same\",activation=LeakyReLU(alpha=0.25),strides=2)(bn1)\n",
        "conv4x4_2_0 = Conv2D(10,4,padding=\"same\",activation=LeakyReLU(alpha=0.25),strides=2)(bn1)\n",
        "conv4x4_2_1 = Conv2D(10,4,padding=\"same\",activation=LeakyReLU(alpha=0.25),strides=2)(bn1)\n",
        "conv4x4_2_2 = Conv2D(10,4,padding=\"same\",activation=LeakyReLU(alpha=0.25),strides=1)(conv4x4_2_1)\n",
        "avgpool2 = AveragePooling2D(pool_size=(2,2))(bn1)\n",
        "concat2 = Concatenate(axis=-1)([conv1x1_2_0,conv4x4_2_0,conv4x4_2_2])\n",
        "add2 = Add()([avgpool2,concat2])\n",
        "bn2 = BatchNormalization(axis=-1)(add2)\n",
        "conv1x1_3_0 = Conv2D(12,1,padding=\"same\",activation=LeakyReLU(alpha=0.25),strides=2)(bn2)\n",
        "conv4x4_3_0 = Conv2D(10,4,padding=\"same\",activation=LeakyReLU(alpha=0.25),strides=2)(bn2)\n",
        "conv4x4_3_1 = Conv2D(10,4,padding=\"same\",activation=LeakyReLU(alpha=0.25),strides=2)(bn2)\n",
        "conv4x4_3_2 = Conv2D(10,4,padding=\"same\",activation=LeakyReLU(alpha=0.25),strides=1)(conv4x4_3_1)\n",
        "avgpool3 = AveragePooling2D(pool_size=(2,2))(bn2)\n",
        "avgpool3_0 = AveragePooling2D(pool_size=(16,16))(selfmodelinput)\n",
        "concat3 = Concatenate(axis=-1)([conv1x1_3_0,conv4x4_3_0,conv4x4_3_2])\n",
        "add3 = Add()([avgpool3,concat3])\n",
        "concat3_0 = Concatenate(axis=-1)([add3,avgpool3_0])\n",
        "bn3 = BatchNormalization(axis=-1)(concat3_0)\n",
        "conv1x1_4_0 = Conv2D(12,1,padding=\"same\",activation=LeakyReLU(alpha=0.25),strides=2)(bn3)\n",
        "conv4x4_4_0 = Conv2D(12,4,padding=\"same\",activation=LeakyReLU(alpha=0.25),strides=2)(bn3)\n",
        "conv4x4_4_1 = Conv2D(11,4,padding=\"same\",activation=LeakyReLU(alpha=0.25),strides=2)(bn3)\n",
        "conv4x4_4_2 = Conv2D(11,4,padding=\"same\",activation=LeakyReLU(alpha=0.25),strides=1)(conv4x4_4_1)\n",
        "avgpool4 = AveragePooling2D(pool_size=(2,2))(bn3)\n",
        "concat4 = Concatenate(axis=-1)([conv1x1_4_0,conv4x4_4_0,conv4x4_4_2])\n",
        "add4 = Add()([avgpool4,concat4])\n",
        "bn4 = BatchNormalization(axis=-1)(add4)\n",
        "gp = GlobalMaxPool2D()(bn4)\n",
        "\n",
        "conv3x3_e_0_0 = Conv2D(16,3,padding=\"same\",activation=LeakyReLU(alpha=0.25),strides=1)(selfmodelinput)\n",
        "conv3x3_e_0_1 = Conv2D(16,3,padding=\"same\",activation=LeakyReLU(alpha=0.25),strides=2)(conv3x3_e_0_0)\n",
        "bn_e0 = BatchNormalization(axis=-1)(conv3x3_e_0_1)\n",
        "conv3x3_e_1_0 = Conv2D(16,3,padding=\"same\",activation=LeakyReLU(alpha=0.25),strides=1)(bn_e0)\n",
        "conv3x3_e_1_1 = Conv2D(16,3,padding=\"same\",activation=LeakyReLU(alpha=0.25),strides=2)(conv3x3_e_1_0)\n",
        "maxpool_e_1_1 = MaxPool2D(pool_size=(2,2))(bn_e0)\n",
        "add_e_1 = Add()([conv3x3_e_1_1,maxpool_e_1_1])\n",
        "bn_e1 = BatchNormalization(axis=-1)(add_e_1)\n",
        "conv3x3_e_2_0 = Conv2D(16,3,padding=\"same\",activation=LeakyReLU(alpha=0.25),strides=1)(bn_e1)\n",
        "conv3x3_e_2_1 = Conv2D(16,3,padding=\"same\",activation=LeakyReLU(alpha=0.25),strides=2)(conv3x3_e_2_0)\n",
        "maxpool_e_2_1 = MaxPool2D(pool_size=(2,2))(bn_e1)\n",
        "add_e_2 = Add()([conv3x3_e_2_1,maxpool_e_2_1])\n",
        "bn_e2 = BatchNormalization(axis=-1)(add_e_2)\n",
        "conv3x3_e_3_0 = Conv2D(16,3,padding=\"same\",activation=LeakyReLU(alpha=0.25),strides=1)(bn_e2)\n",
        "conv3x3_e_3_1 = Conv2D(16,3,padding=\"same\",activation=LeakyReLU(alpha=0.25),strides=2)(conv3x3_e_3_0)\n",
        "maxpool_e_3_1 = MaxPool2D(pool_size=(2,2))(bn_e2)\n",
        "add_e_3 = Add()([conv3x3_e_3_1,maxpool_e_3_1])\n",
        "bn_e3 = BatchNormalization(axis=-1)(add_e_3)\n",
        "conv3x3_e_4_0 = Conv2D(16,3,padding=\"same\",activation=LeakyReLU(alpha=0.25),strides=1)(bn_e3)\n",
        "conv3x3_e_4_1 = Conv2D(16,3,padding=\"same\",activation=LeakyReLU(alpha=0.25),strides=2)(conv3x3_e_4_0)\n",
        "maxpool_e_4_1 = MaxPool2D(pool_size=(2,2))(bn_e3)\n",
        "add_e_4 = Add()([conv3x3_e_4_1,maxpool_e_4_1])\n",
        "bn_e4 = BatchNormalization(axis=-1)(add_e_4)\n",
        "gp1 = GlobalMaxPool2D()(bn_e4)\n",
        "\n",
        "concat_all = Concatenate(axis=-1)([gp,gp1])\n",
        "alk0 = Dense(20, activation=LeakyReLU(alpha=0.25))(concat_all)\n",
        "alk = Dense(20, activation=\"softmax\")(alk0)\n",
        "selfmymodel = Model(inputs=[selfmodelinput],outputs=[alk])\n",
        "selfmymodel.summary()"
      ],
      "execution_count": null,
      "outputs": [
        {
          "output_type": "stream",
          "name": "stdout",
          "text": [
            "Model: \"model_3\"\n",
            "__________________________________________________________________________________________________\n",
            " Layer (type)                   Output Shape         Param #     Connected to                     \n",
            "==================================================================================================\n",
            " input_4 (InputLayer)           [(None, 224, 224, 3  0           []                               \n",
            "                                )]                                                                \n",
            "                                                                                                  \n",
            " conv2d_92 (Conv2D)             (None, 112, 112, 32  1568        ['input_4[0][0]']                \n",
            "                                )                                                                 \n",
            "                                                                                                  \n",
            " conv2d_90 (Conv2D)             (None, 112, 112, 29  116         ['input_4[0][0]']                \n",
            "                                )                                                                 \n",
            "                                                                                                  \n",
            " average_pooling2d_18 (AverageP  (None, 112, 112, 3)  0          ['input_4[0][0]']                \n",
            " ooling2D)                                                                                        \n",
            "                                                                                                  \n",
            " conv2d_91 (Conv2D)             (None, 112, 112, 32  1568        ['input_4[0][0]']                \n",
            "                                )                                                                 \n",
            "                                                                                                  \n",
            " conv2d_93 (Conv2D)             (None, 112, 112, 32  16416       ['conv2d_92[0][0]']              \n",
            "                                )                                                                 \n",
            "                                                                                                  \n",
            " concatenate_21 (Concatenate)   (None, 112, 112, 32  0           ['conv2d_90[0][0]',              \n",
            "                                )                                 'average_pooling2d_18[0][0]']   \n",
            "                                                                                                  \n",
            " add_27 (Add)                   (None, 112, 112, 32  0           ['conv2d_91[0][0]',              \n",
            "                                )                                 'conv2d_93[0][0]',              \n",
            "                                                                  'concatenate_21[0][0]']         \n",
            "                                                                                                  \n",
            " batch_normalization_33 (BatchN  (None, 112, 112, 32  128        ['add_27[0][0]']                 \n",
            " ormalization)                  )                                                                 \n",
            "                                                                                                  \n",
            " conv2d_96 (Conv2D)             (None, 56, 56, 10)   5130        ['batch_normalization_33[0][0]'] \n",
            "                                                                                                  \n",
            " conv2d_94 (Conv2D)             (None, 56, 56, 12)   396         ['batch_normalization_33[0][0]'] \n",
            "                                                                                                  \n",
            " conv2d_95 (Conv2D)             (None, 56, 56, 10)   5130        ['batch_normalization_33[0][0]'] \n",
            "                                                                                                  \n",
            " conv2d_97 (Conv2D)             (None, 56, 56, 10)   1610        ['conv2d_96[0][0]']              \n",
            "                                                                                                  \n",
            " average_pooling2d_19 (AverageP  (None, 56, 56, 32)  0           ['batch_normalization_33[0][0]'] \n",
            " ooling2D)                                                                                        \n",
            "                                                                                                  \n",
            " concatenate_22 (Concatenate)   (None, 56, 56, 32)   0           ['conv2d_94[0][0]',              \n",
            "                                                                  'conv2d_95[0][0]',              \n",
            "                                                                  'conv2d_97[0][0]']              \n",
            "                                                                                                  \n",
            " conv2d_110 (Conv2D)            (None, 224, 224, 16  448         ['input_4[0][0]']                \n",
            "                                )                                                                 \n",
            "                                                                                                  \n",
            " add_28 (Add)                   (None, 56, 56, 32)   0           ['average_pooling2d_19[0][0]',   \n",
            "                                                                  'concatenate_22[0][0]']         \n",
            "                                                                                                  \n",
            " conv2d_111 (Conv2D)            (None, 112, 112, 16  2320        ['conv2d_110[0][0]']             \n",
            "                                )                                                                 \n",
            "                                                                                                  \n",
            " batch_normalization_34 (BatchN  (None, 56, 56, 32)  128         ['add_28[0][0]']                 \n",
            " ormalization)                                                                                    \n",
            "                                                                                                  \n",
            " batch_normalization_38 (BatchN  (None, 112, 112, 16  64         ['conv2d_111[0][0]']             \n",
            " ormalization)                  )                                                                 \n",
            "                                                                                                  \n",
            " conv2d_100 (Conv2D)            (None, 28, 28, 10)   5130        ['batch_normalization_34[0][0]'] \n",
            "                                                                                                  \n",
            " conv2d_112 (Conv2D)            (None, 112, 112, 16  2320        ['batch_normalization_38[0][0]'] \n",
            "                                )                                                                 \n",
            "                                                                                                  \n",
            " conv2d_98 (Conv2D)             (None, 28, 28, 12)   396         ['batch_normalization_34[0][0]'] \n",
            "                                                                                                  \n",
            " conv2d_99 (Conv2D)             (None, 28, 28, 10)   5130        ['batch_normalization_34[0][0]'] \n",
            "                                                                                                  \n",
            " conv2d_101 (Conv2D)            (None, 28, 28, 10)   1610        ['conv2d_100[0][0]']             \n",
            "                                                                                                  \n",
            " conv2d_113 (Conv2D)            (None, 56, 56, 16)   2320        ['conv2d_112[0][0]']             \n",
            "                                                                                                  \n",
            " max_pooling2d_12 (MaxPooling2D  (None, 56, 56, 16)  0           ['batch_normalization_38[0][0]'] \n",
            " )                                                                                                \n",
            "                                                                                                  \n",
            " average_pooling2d_20 (AverageP  (None, 28, 28, 32)  0           ['batch_normalization_34[0][0]'] \n",
            " ooling2D)                                                                                        \n",
            "                                                                                                  \n",
            " concatenate_23 (Concatenate)   (None, 28, 28, 32)   0           ['conv2d_98[0][0]',              \n",
            "                                                                  'conv2d_99[0][0]',              \n",
            "                                                                  'conv2d_101[0][0]']             \n",
            "                                                                                                  \n",
            " add_32 (Add)                   (None, 56, 56, 16)   0           ['conv2d_113[0][0]',             \n",
            "                                                                  'max_pooling2d_12[0][0]']       \n",
            "                                                                                                  \n",
            " add_29 (Add)                   (None, 28, 28, 32)   0           ['average_pooling2d_20[0][0]',   \n",
            "                                                                  'concatenate_23[0][0]']         \n",
            "                                                                                                  \n",
            " batch_normalization_39 (BatchN  (None, 56, 56, 16)  64          ['add_32[0][0]']                 \n",
            " ormalization)                                                                                    \n",
            "                                                                                                  \n",
            " batch_normalization_35 (BatchN  (None, 28, 28, 32)  128         ['add_29[0][0]']                 \n",
            " ormalization)                                                                                    \n",
            "                                                                                                  \n",
            " conv2d_114 (Conv2D)            (None, 56, 56, 16)   2320        ['batch_normalization_39[0][0]'] \n",
            "                                                                                                  \n",
            " conv2d_104 (Conv2D)            (None, 14, 14, 10)   5130        ['batch_normalization_35[0][0]'] \n",
            "                                                                                                  \n",
            " conv2d_115 (Conv2D)            (None, 28, 28, 16)   2320        ['conv2d_114[0][0]']             \n",
            "                                                                                                  \n",
            " max_pooling2d_13 (MaxPooling2D  (None, 28, 28, 16)  0           ['batch_normalization_39[0][0]'] \n",
            " )                                                                                                \n",
            "                                                                                                  \n",
            " conv2d_102 (Conv2D)            (None, 14, 14, 12)   396         ['batch_normalization_35[0][0]'] \n",
            "                                                                                                  \n",
            " conv2d_103 (Conv2D)            (None, 14, 14, 10)   5130        ['batch_normalization_35[0][0]'] \n",
            "                                                                                                  \n",
            " conv2d_105 (Conv2D)            (None, 14, 14, 10)   1610        ['conv2d_104[0][0]']             \n",
            "                                                                                                  \n",
            " add_33 (Add)                   (None, 28, 28, 16)   0           ['conv2d_115[0][0]',             \n",
            "                                                                  'max_pooling2d_13[0][0]']       \n",
            "                                                                                                  \n",
            " average_pooling2d_21 (AverageP  (None, 14, 14, 32)  0           ['batch_normalization_35[0][0]'] \n",
            " ooling2D)                                                                                        \n",
            "                                                                                                  \n",
            " concatenate_24 (Concatenate)   (None, 14, 14, 32)   0           ['conv2d_102[0][0]',             \n",
            "                                                                  'conv2d_103[0][0]',             \n",
            "                                                                  'conv2d_105[0][0]']             \n",
            "                                                                                                  \n",
            " batch_normalization_40 (BatchN  (None, 28, 28, 16)  64          ['add_33[0][0]']                 \n",
            " ormalization)                                                                                    \n",
            "                                                                                                  \n",
            " add_30 (Add)                   (None, 14, 14, 32)   0           ['average_pooling2d_21[0][0]',   \n",
            "                                                                  'concatenate_24[0][0]']         \n",
            "                                                                                                  \n",
            " average_pooling2d_22 (AverageP  (None, 14, 14, 3)   0           ['input_4[0][0]']                \n",
            " ooling2D)                                                                                        \n",
            "                                                                                                  \n",
            " conv2d_116 (Conv2D)            (None, 28, 28, 16)   2320        ['batch_normalization_40[0][0]'] \n",
            "                                                                                                  \n",
            " concatenate_25 (Concatenate)   (None, 14, 14, 35)   0           ['add_30[0][0]',                 \n",
            "                                                                  'average_pooling2d_22[0][0]']   \n",
            "                                                                                                  \n",
            " conv2d_117 (Conv2D)            (None, 14, 14, 16)   2320        ['conv2d_116[0][0]']             \n",
            "                                                                                                  \n",
            " max_pooling2d_14 (MaxPooling2D  (None, 14, 14, 16)  0           ['batch_normalization_40[0][0]'] \n",
            " )                                                                                                \n",
            "                                                                                                  \n",
            " batch_normalization_36 (BatchN  (None, 14, 14, 35)  140         ['concatenate_25[0][0]']         \n",
            " ormalization)                                                                                    \n",
            "                                                                                                  \n",
            " add_34 (Add)                   (None, 14, 14, 16)   0           ['conv2d_117[0][0]',             \n",
            "                                                                  'max_pooling2d_14[0][0]']       \n",
            "                                                                                                  \n",
            " conv2d_108 (Conv2D)            (None, 7, 7, 11)     6171        ['batch_normalization_36[0][0]'] \n",
            "                                                                                                  \n",
            " batch_normalization_41 (BatchN  (None, 14, 14, 16)  64          ['add_34[0][0]']                 \n",
            " ormalization)                                                                                    \n",
            "                                                                                                  \n",
            " conv2d_106 (Conv2D)            (None, 7, 7, 12)     432         ['batch_normalization_36[0][0]'] \n",
            "                                                                                                  \n",
            " conv2d_107 (Conv2D)            (None, 7, 7, 12)     6732        ['batch_normalization_36[0][0]'] \n",
            "                                                                                                  \n",
            " conv2d_109 (Conv2D)            (None, 7, 7, 11)     1947        ['conv2d_108[0][0]']             \n",
            "                                                                                                  \n",
            " conv2d_118 (Conv2D)            (None, 14, 14, 16)   2320        ['batch_normalization_41[0][0]'] \n",
            "                                                                                                  \n",
            " average_pooling2d_23 (AverageP  (None, 7, 7, 35)    0           ['batch_normalization_36[0][0]'] \n",
            " ooling2D)                                                                                        \n",
            "                                                                                                  \n",
            " concatenate_26 (Concatenate)   (None, 7, 7, 35)     0           ['conv2d_106[0][0]',             \n",
            "                                                                  'conv2d_107[0][0]',             \n",
            "                                                                  'conv2d_109[0][0]']             \n",
            "                                                                                                  \n",
            " conv2d_119 (Conv2D)            (None, 7, 7, 16)     2320        ['conv2d_118[0][0]']             \n",
            "                                                                                                  \n",
            " max_pooling2d_15 (MaxPooling2D  (None, 7, 7, 16)    0           ['batch_normalization_41[0][0]'] \n",
            " )                                                                                                \n",
            "                                                                                                  \n",
            " add_31 (Add)                   (None, 7, 7, 35)     0           ['average_pooling2d_23[0][0]',   \n",
            "                                                                  'concatenate_26[0][0]']         \n",
            "                                                                                                  \n",
            " add_35 (Add)                   (None, 7, 7, 16)     0           ['conv2d_119[0][0]',             \n",
            "                                                                  'max_pooling2d_15[0][0]']       \n",
            "                                                                                                  \n",
            " batch_normalization_37 (BatchN  (None, 7, 7, 35)    140         ['add_31[0][0]']                 \n",
            " ormalization)                                                                                    \n",
            "                                                                                                  \n",
            " batch_normalization_42 (BatchN  (None, 7, 7, 16)    64          ['add_35[0][0]']                 \n",
            " ormalization)                                                                                    \n",
            "                                                                                                  \n",
            " global_max_pooling2d_6 (Global  (None, 35)          0           ['batch_normalization_37[0][0]'] \n",
            " MaxPooling2D)                                                                                    \n",
            "                                                                                                  \n",
            " global_max_pooling2d_7 (Global  (None, 16)          0           ['batch_normalization_42[0][0]'] \n",
            " MaxPooling2D)                                                                                    \n",
            "                                                                                                  \n",
            " concatenate_27 (Concatenate)   (None, 51)           0           ['global_max_pooling2d_6[0][0]', \n",
            "                                                                  'global_max_pooling2d_7[0][0]'] \n",
            "                                                                                                  \n",
            " dense_7 (Dense)                (None, 20)           1040        ['concatenate_27[0][0]']         \n",
            "                                                                                                  \n",
            "==================================================================================================\n",
            "Total params: 95,100\n",
            "Trainable params: 94,608\n",
            "Non-trainable params: 492\n",
            "__________________________________________________________________________________________________\n"
          ]
        }
      ]
    },
    {
      "cell_type": "code",
      "metadata": {
        "colab": {
          "base_uri": "https://localhost:8080/",
          "height": 214
        },
        "id": "LrQnWNjJZJSG",
        "outputId": "44676e33-0ec2-42f9-c9b2-2a654a3a8979"
      },
      "source": [
        "layers = [\n",
        "          BatchNormalization(),\n",
        "          GlobalAvgPool2D(),\n",
        "          Dense(128, activation=LeakyReLU(alpha=0.25)),\n",
        "          Dense(20, activation=\"softmax\")\n",
        "]\n",
        "mymodel = Sequential(layers)\n",
        "modle= Model(inputs=basemodle.input,outputs = mymodel(basemodle.output))\n",
        "modle.summary()"
      ],
      "execution_count": null,
      "outputs": [
        {
          "output_type": "error",
          "ename": "NameError",
          "evalue": "ignored",
          "traceback": [
            "\u001b[0;31m---------------------------------------------------------------------------\u001b[0m",
            "\u001b[0;31mNameError\u001b[0m                                 Traceback (most recent call last)",
            "\u001b[0;32m<ipython-input-10-0fea4dae3cbe>\u001b[0m in \u001b[0;36m<module>\u001b[0;34m()\u001b[0m\n\u001b[1;32m      6\u001b[0m ]\n\u001b[1;32m      7\u001b[0m \u001b[0mmymodel\u001b[0m \u001b[0;34m=\u001b[0m \u001b[0mSequential\u001b[0m\u001b[0;34m(\u001b[0m\u001b[0mlayers\u001b[0m\u001b[0;34m)\u001b[0m\u001b[0;34m\u001b[0m\u001b[0;34m\u001b[0m\u001b[0m\n\u001b[0;32m----> 8\u001b[0;31m \u001b[0mmodle\u001b[0m\u001b[0;34m=\u001b[0m \u001b[0mModel\u001b[0m\u001b[0;34m(\u001b[0m\u001b[0minputs\u001b[0m\u001b[0;34m=\u001b[0m\u001b[0mbasemodle\u001b[0m\u001b[0;34m.\u001b[0m\u001b[0minput\u001b[0m\u001b[0;34m,\u001b[0m\u001b[0moutputs\u001b[0m \u001b[0;34m=\u001b[0m \u001b[0mmymodel\u001b[0m\u001b[0;34m(\u001b[0m\u001b[0mbasemodle\u001b[0m\u001b[0;34m.\u001b[0m\u001b[0moutput\u001b[0m\u001b[0;34m)\u001b[0m\u001b[0;34m)\u001b[0m\u001b[0;34m\u001b[0m\u001b[0;34m\u001b[0m\u001b[0m\n\u001b[0m\u001b[1;32m      9\u001b[0m \u001b[0mmodle\u001b[0m\u001b[0;34m.\u001b[0m\u001b[0msummary\u001b[0m\u001b[0;34m(\u001b[0m\u001b[0;34m)\u001b[0m\u001b[0;34m\u001b[0m\u001b[0;34m\u001b[0m\u001b[0m\n",
            "\u001b[0;31mNameError\u001b[0m: name 'basemodle' is not defined"
          ]
        }
      ]
    },
    {
      "cell_type": "markdown",
      "metadata": {
        "id": "w-IDhU-nZxCS"
      },
      "source": [
        "##### 模型 compile"
      ]
    },
    {
      "cell_type": "code",
      "metadata": {
        "id": "Wz16ZkEsk_tC"
      },
      "source": [
        "from tensorflow.keras.losses import SparseCategoricalCrossentropy\n",
        "modle.compile(\n",
        "        loss=SparseCategoricalCrossentropy(),\n",
        "        optimizer=\"adam\",\n",
        "        metrics=[\"accuracy\"]\n",
        ")"
      ],
      "execution_count": null,
      "outputs": []
    },
    {
      "cell_type": "code",
      "metadata": {
        "id": "owMIiM0sx12R"
      },
      "source": [
        "from tensorflow.keras.losses import SparseCategoricalCrossentropy\n",
        "selfmymodel.compile(\n",
        "        loss=SparseCategoricalCrossentropy(),\n",
        "        optimizer=\"adam\",\n",
        "        metrics=[\"accuracy\"]\n",
        ")"
      ],
      "execution_count": null,
      "outputs": []
    },
    {
      "cell_type": "markdown",
      "metadata": {
        "id": "O-axp9LJl_Xy"
      },
      "source": [
        "###### 先看一下圖片"
      ]
    },
    {
      "cell_type": "code",
      "metadata": {
        "id": "tHkCt1KTmmiJ",
        "colab": {
          "base_uri": "https://localhost:8080/",
          "height": 1000
        },
        "outputId": "83ce1bd1-ee50-44b6-b062-e59a1fd2b6e7"
      },
      "source": [
        "import random\n",
        "import matplotlib.pyplot as plt\n",
        "from PIL import Image\n",
        "import numpy as np\n",
        "# import 匯入 當初預處理的方式\n",
        "from tensorflow.keras.applications.vgg16 import preprocess_input \n",
        "p = df[\"path\"]\n",
        "idx = random.randint(0, len(p)-1)\n",
        "img = Image.open(p[idx]).resize((480, 480)).convert(\"RGB\")\n",
        "img_np = np.array(img)\n",
        "img_np_pre = preprocess_input(img_np)\n",
        "print(img_np_pre)\n",
        "plt.imshow(img)"
      ],
      "execution_count": null,
      "outputs": [
        {
          "output_type": "stream",
          "name": "stdout",
          "text": [
            "[[[ 58.060997 100.221    118.32    ]\n",
            "  [ 59.060997  97.221    117.32    ]\n",
            "  [ 56.060997  92.221    111.32    ]\n",
            "  ...\n",
            "  [ 69.061     78.221     88.32    ]\n",
            "  [ 69.061     78.221     88.32    ]\n",
            "  [ 69.061     78.221     89.32    ]]\n",
            "\n",
            " [[ 66.061    111.221    131.32    ]\n",
            "  [ 65.061    112.221    131.32    ]\n",
            "  [ 68.061    113.221    130.32    ]\n",
            "  ...\n",
            "  [ 69.061     77.221     87.32    ]\n",
            "  [ 69.061     77.221     86.32    ]\n",
            "  [ 70.061     78.221     88.32    ]]\n",
            "\n",
            " [[ 47.060997  75.221     86.32    ]\n",
            "  [ 51.060997  81.221     91.32    ]\n",
            "  [ 61.060997  87.221     95.32    ]\n",
            "  ...\n",
            "  [ 68.061     75.221     82.32    ]\n",
            "  [ 68.061     74.221     82.32    ]\n",
            "  [ 70.061     76.221     84.32    ]]\n",
            "\n",
            " ...\n",
            "\n",
            " [[ -5.939003 -15.778999 -22.68    ]\n",
            "  [ -5.939003 -14.778999 -21.68    ]\n",
            "  [-18.939003 -28.779    -35.68    ]\n",
            "  ...\n",
            "  [ -6.939003 -16.779    -19.68    ]\n",
            "  [-26.939003 -36.779    -41.68    ]\n",
            "  [-14.939003 -24.779    -29.68    ]]\n",
            "\n",
            " [[ -5.939003 -16.779    -23.68    ]\n",
            "  [ -7.939003 -19.779    -26.68    ]\n",
            "  [ -4.939003 -15.778999 -22.68    ]\n",
            "  ...\n",
            "  [-22.939003 -32.779    -35.68    ]\n",
            "  [-24.939003 -34.779    -37.68    ]\n",
            "  [-22.939003 -32.779    -35.68    ]]\n",
            "\n",
            " [[ -2.939003 -13.778999 -20.68    ]\n",
            "  [-10.939003 -21.779    -28.68    ]\n",
            "  [ -8.939003 -19.779    -26.68    ]\n",
            "  ...\n",
            "  [-24.939003 -33.779    -37.68    ]\n",
            "  [ -5.939003 -15.778999 -18.68    ]\n",
            "  [-21.939003 -31.779    -34.68    ]]]\n"
          ]
        },
        {
          "output_type": "execute_result",
          "data": {
            "text/plain": [
              "<matplotlib.image.AxesImage at 0x7fdf2867d150>"
            ]
          },
          "metadata": {},
          "execution_count": 8
        },
        {
          "output_type": "display_data",
          "data": {
            "image/png": "[encoded data removed]",
            "text/plain": [
              "<Figure size 432x288 with 1 Axes>"
            ]
          },
          "metadata": {
            "needs_background": "light"
          }
        }
      ]
    },
    {
      "cell_type": "code",
      "metadata": {
        "colab": {
          "base_uri": "https://localhost:8080/"
        },
        "id": "x-jv6gU4patC",
        "outputId": "483b352b-6b99-4756-96d2-55402ae70973"
      },
      "source": [
        "p"
      ],
      "execution_count": null,
      "outputs": [
        {
          "output_type": "execute_result",
          "data": {
            "text/plain": [
              "0        /content/drive/MyDrive/Tebame_第四組_機車辨識/原始照片(含外...\n",
              "1        /content/drive/MyDrive/Tebame_第四組_機車辨識/原始照片(含外...\n",
              "2        /content/drive/MyDrive/Tebame_第四組_機車辨識/原始照片(含外...\n",
              "3        /content/drive/MyDrive/Tebame_第四組_機車辨識/原始照片(含外...\n",
              "4        /content/drive/MyDrive/Tebame_第四組_機車辨識/原始照片(含外...\n",
              "                               ...                        \n",
              "11343    /content/drive/MyDrive/Tebame_第四組_機車辨識/裁剪照片(不含...\n",
              "11344    /content/drive/MyDrive/Tebame_第四組_機車辨識/裁剪照片(不含...\n",
              "11345    /content/drive/MyDrive/Tebame_第四組_機車辨識/裁剪照片(不含...\n",
              "11346    /content/drive/MyDrive/Tebame_第四組_機車辨識/裁剪照片(不含...\n",
              "11347    /content/drive/MyDrive/Tebame_第四組_機車辨識/裁剪照片(不含...\n",
              "Name: path, Length: 11348, dtype: object"
            ]
          },
          "metadata": {},
          "execution_count": 14
        }
      ]
    },
    {
      "cell_type": "markdown",
      "metadata": {
        "id": "4SdWQzdQ8prx"
      },
      "source": [
        "### generator"
      ]
    },
    {
      "cell_type": "code",
      "metadata": {
        "id": "r107hGfBCRN4"
      },
      "source": [
        "x = np.array(df[\"path\"])\n",
        "y = np.array(df[\"ans\"])"
      ],
      "execution_count": null,
      "outputs": []
    },
    {
      "cell_type": "code",
      "metadata": {
        "id": "vdqPn6pQ-yxK",
        "colab": {
          "base_uri": "https://localhost:8080/"
        },
        "outputId": "7fc58ebf-9b6b-4cf3-a024-2fb29e980dde"
      },
      "source": [
        "def data_generator(x, y, batch_size=20):\n",
        "  while True:\n",
        "    idx = np.random.randint(0, len(x), size=batch_size)\n",
        "    x_batch, y_batch = x[idx], y[idx]\n",
        "    x_final = []\n",
        "    for path in x_batch:\n",
        "      img = Image.open(path).resize((480, 480)).convert(\"RGB\")    #  開啟路徑圖檔並改大小、轉成RGB\n",
        "      img_pre = preprocess_input(np.array(img))              # 轉成陣列再預處理\n",
        "      x_final.append(img_pre)            \n",
        "    x_final = np.array(x_final)\n",
        "    y_batch = np.array(y_batch)\n",
        "    yield (x_final, y_batch)\n",
        "gen = data_generator(x, y)\n",
        "x_gen, y_gen = gen.__next__()\n",
        "print(x_gen.shape)\n",
        "print(y_gen.shape)\n",
        "print(x_gen)\n",
        "print(y_gen)\n"
      ],
      "execution_count": null,
      "outputs": [
        {
          "output_type": "stream",
          "name": "stdout",
          "text": [
            "(20, 480, 480, 3)\n",
            "(20,)\n",
            "[[[[ 5.6060997e+01  6.4221001e+01  7.2320000e+01]\n",
            "   [ 5.6060997e+01  6.4221001e+01  7.2320000e+01]\n",
            "   [ 5.6060997e+01  6.4221001e+01  7.2320000e+01]\n",
            "   ...\n",
            "   [ 8.3060997e+01  7.4221001e+01  6.8320000e+01]\n",
            "   [ 8.2060997e+01  7.3221001e+01  6.7320000e+01]\n",
            "   [ 8.1060997e+01  7.2221001e+01  6.6320000e+01]]\n",
            "\n",
            "  [[ 5.6060997e+01  6.4221001e+01  7.2320000e+01]\n",
            "   [ 5.6060997e+01  6.4221001e+01  7.2320000e+01]\n",
            "   [ 5.6060997e+01  6.4221001e+01  7.2320000e+01]\n",
            "   ...\n",
            "   [ 7.7060997e+01  6.8221001e+01  6.2320000e+01]\n",
            "   [ 7.6060997e+01  6.7221001e+01  6.1320000e+01]\n",
            "   [ 7.7060997e+01  6.8221001e+01  6.2320000e+01]]\n",
            "\n",
            "  [[ 5.6060997e+01  6.4221001e+01  7.2320000e+01]\n",
            "   [ 5.6060997e+01  6.4221001e+01  7.2320000e+01]\n",
            "   [ 5.6060997e+01  6.4221001e+01  7.2320000e+01]\n",
            "   ...\n",
            "   [ 7.0060997e+01  6.1221001e+01  5.5320000e+01]\n",
            "   [ 7.2060997e+01  6.3221001e+01  5.7320000e+01]\n",
            "   [ 7.4060997e+01  6.5221001e+01  5.9320000e+01]]\n",
            "\n",
            "  ...\n",
            "\n",
            "  [[-3.6939003e+01 -4.6778999e+01 -4.9680000e+01]\n",
            "   [-3.5939003e+01 -4.5778999e+01 -4.8680000e+01]\n",
            "   [-3.6939003e+01 -4.6778999e+01 -4.9680000e+01]\n",
            "   ...\n",
            "   [ 3.9060997e+01  2.9221001e+01  2.7320000e+01]\n",
            "   [ 4.4060997e+01  3.4221001e+01  3.2320000e+01]\n",
            "   [ 4.5060997e+01  3.5221001e+01  3.3320000e+01]]\n",
            "\n",
            "  [[-3.4939003e+01 -4.4778999e+01 -4.7680000e+01]\n",
            "   [-3.3939003e+01 -4.3778999e+01 -4.6680000e+01]\n",
            "   [-3.4939003e+01 -4.4778999e+01 -4.7680000e+01]\n",
            "   ...\n",
            "   [ 3.7060997e+01  2.7221001e+01  2.4320000e+01]\n",
            "   [ 3.9060997e+01  2.9221001e+01  2.7320000e+01]\n",
            "   [ 4.1060997e+01  3.1221001e+01  2.9320000e+01]]\n",
            "\n",
            "  [[-3.5939003e+01 -4.5778999e+01 -4.8680000e+01]\n",
            "   [-3.5939003e+01 -4.5778999e+01 -4.8680000e+01]\n",
            "   [-3.6939003e+01 -4.6778999e+01 -4.9680000e+01]\n",
            "   ...\n",
            "   [ 3.9060997e+01  2.9221001e+01  2.6320000e+01]\n",
            "   [ 4.0060997e+01  3.0221001e+01  2.8320000e+01]\n",
            "   [ 4.2060997e+01  3.2221001e+01  3.0320000e+01]]]\n",
            "\n",
            "\n",
            " [[[-6.9939003e+01 -6.0778999e+01 -6.6680000e+01]\n",
            "   [-7.2939003e+01 -6.4778999e+01 -6.9680000e+01]\n",
            "   [-7.1939003e+01 -6.5778999e+01 -6.9680000e+01]\n",
            "   ...\n",
            "   [ 3.1060997e+01  1.2822101e+02  1.1732000e+02]\n",
            "   [ 2.0060997e+01  1.2922101e+02  1.1832000e+02]\n",
            "   [ 8.0609970e+00  1.2122100e+02  1.0332000e+02]]\n",
            "\n",
            "  [[-7.0939003e+01 -6.2778999e+01 -6.6680000e+01]\n",
            "   [-7.1939003e+01 -6.4778999e+01 -6.9680000e+01]\n",
            "   [-7.1939003e+01 -6.4778999e+01 -7.0680000e+01]\n",
            "   ...\n",
            "   [ 1.8060997e+01  1.1622100e+02  1.1732000e+02]\n",
            "   [ 9.0609970e+00  1.2322100e+02  1.1232000e+02]\n",
            "   [ 6.0609970e+00  1.1322100e+02  1.0132000e+02]]\n",
            "\n",
            "  [[-6.9939003e+01 -6.1778999e+01 -6.3680000e+01]\n",
            "   [-6.9939003e+01 -6.0778999e+01 -6.6680000e+01]\n",
            "   [-6.9939003e+01 -6.0778999e+01 -6.6680000e+01]\n",
            "   ...\n",
            "   [-5.9390030e+00  1.0722100e+02  1.2032000e+02]\n",
            "   [-2.9390030e+00  1.0722100e+02  1.0632000e+02]\n",
            "   [-1.6939003e+01  7.2221001e+01  8.7320000e+01]]\n",
            "\n",
            "  ...\n",
            "\n",
            "  [[ 6.0609970e+00 -3.7789993e+00 -1.8680000e+01]\n",
            "   [ 2.1060997e+01  1.2221001e+01 -4.6800003e+00]\n",
            "   [ 2.9060997e+01  1.7221001e+01  2.3199997e+00]\n",
            "   ...\n",
            "   [-2.9390030e+00 -2.4778999e+01 -4.5680000e+01]\n",
            "   [-1.9390030e+00 -2.3778999e+01 -4.5680000e+01]\n",
            "   [-1.4939003e+01 -3.6778999e+01 -5.8680000e+01]]\n",
            "\n",
            "  [[-1.4939003e+01 -2.4778999e+01 -4.0680000e+01]\n",
            "   [-2.9390030e+00 -1.2778999e+01 -3.0680000e+01]\n",
            "   [ 2.0609970e+00 -9.7789993e+00 -2.4680000e+01]\n",
            "   ...\n",
            "   [-5.9390030e+00 -2.7778999e+01 -4.8680000e+01]\n",
            "   [-2.3939003e+01 -4.4778999e+01 -6.5680000e+01]\n",
            "   [-9.3900299e-01 -1.9778999e+01 -3.9680000e+01]]\n",
            "\n",
            "  [[-1.4939003e+01 -2.3778999e+01 -4.1680000e+01]\n",
            "   [-6.9390030e+00 -1.6778999e+01 -3.3680000e+01]\n",
            "   [ 6.0997009e-02 -9.7789993e+00 -2.5680000e+01]\n",
            "   ...\n",
            "   [-2.4939003e+01 -4.5778999e+01 -6.6680000e+01]\n",
            "   [-1.9390030e+00 -1.7778999e+01 -3.8680000e+01]\n",
            "   [ 2.6060997e+01  1.1221001e+01 -6.6800003e+00]]]\n",
            "\n",
            "\n",
            " [[[ 6.6060997e+01  6.8221001e+01  7.0320000e+01]\n",
            "   [ 6.3060997e+01  6.5221001e+01  6.7320000e+01]\n",
            "   [ 6.1060997e+01  6.6221001e+01  6.6320000e+01]\n",
            "   ...\n",
            "   [ 2.5060997e+01  3.4221001e+01  3.3320000e+01]\n",
            "   [ 2.0060997e+01  2.9221001e+01  2.8320000e+01]\n",
            "   [ 3.4060997e+01  4.3221001e+01  4.2320000e+01]]\n",
            "\n",
            "  [[ 5.6060997e+01  6.0221001e+01  6.2320000e+01]\n",
            "   [ 5.8060997e+01  6.2221001e+01  6.4320000e+01]\n",
            "   [ 6.4060997e+01  6.8221001e+01  6.8320000e+01]\n",
            "   ...\n",
            "   [ 1.9060997e+01  2.8221001e+01  2.9320000e+01]\n",
            "   [ 2.6060997e+01  3.4221001e+01  3.2320000e+01]\n",
            "   [ 2.6060997e+01  3.2221001e+01  3.2320000e+01]]\n",
            "\n",
            "  [[ 6.6060997e+01  7.2221001e+01  7.3320000e+01]\n",
            "   [ 6.2060997e+01  6.7221001e+01  6.9320000e+01]\n",
            "   [ 5.9060997e+01  6.4221001e+01  6.4320000e+01]\n",
            "   ...\n",
            "   [ 1.4060997e+01  2.2221001e+01  2.4320000e+01]\n",
            "   [ 2.3060997e+01  3.1221001e+01  3.1320000e+01]\n",
            "   [ 9.0609970e+00  1.6221001e+01  1.5320000e+01]]\n",
            "\n",
            "  ...\n",
            "\n",
            "  [[ 3.1060997e+01  3.5221001e+01  4.7320000e+01]\n",
            "   [ 4.8060997e+01  5.4221001e+01  6.1320000e+01]\n",
            "   [ 4.6060997e+01  5.2221001e+01  6.0320000e+01]\n",
            "   ...\n",
            "   [ 1.5060997e+01  2.5221001e+01  3.0320000e+01]\n",
            "   [ 1.6060997e+01  2.6221001e+01  3.2320000e+01]\n",
            "   [ 6.0997009e-02  8.2210007e+00  1.6320000e+01]]\n",
            "\n",
            "  [[ 4.5060997e+01  5.0221001e+01  6.0320000e+01]\n",
            "   [ 4.3060997e+01  4.8221001e+01  5.5320000e+01]\n",
            "   [ 4.2060997e+01  4.8221001e+01  5.6320000e+01]\n",
            "   ...\n",
            "   [ 7.0609970e+00  1.7221001e+01  2.1320000e+01]\n",
            "   [ 1.1060997e+01  2.0221001e+01  2.6320000e+01]\n",
            "   [ 6.0997009e-02  8.2210007e+00  1.7320000e+01]]\n",
            "\n",
            "  [[ 3.9060997e+01  4.4221001e+01  5.3320000e+01]\n",
            "   [ 4.0060997e+01  4.5221001e+01  5.4320000e+01]\n",
            "   [ 5.2060997e+01  5.9221001e+01  6.7320000e+01]\n",
            "   ...\n",
            "   [-1.1939003e+01 -2.7789993e+00  2.3199997e+00]\n",
            "   [ 5.0609970e+00  1.3221001e+01  2.0320000e+01]\n",
            "   [-7.9390030e+00 -7.7899933e-01  7.3199997e+00]]]\n",
            "\n",
            "\n",
            " ...\n",
            "\n",
            "\n",
            " [[[-5.0939003e+01 -5.0778999e+01 -6.5680000e+01]\n",
            "   [-5.2939003e+01 -5.2778999e+01 -6.7680000e+01]\n",
            "   [-5.1939003e+01 -5.1778999e+01 -6.6680000e+01]\n",
            "   ...\n",
            "   [-1.6939003e+01 -3.0778999e+01 -3.3680000e+01]\n",
            "   [-4.7939003e+01 -6.3778999e+01 -6.8680000e+01]\n",
            "   [-5.5939003e+01 -6.6778999e+01 -7.3680000e+01]]\n",
            "\n",
            "  [[-4.9939003e+01 -4.9778999e+01 -6.4680000e+01]\n",
            "   [-5.0939003e+01 -5.0778999e+01 -6.5680000e+01]\n",
            "   [-5.2939003e+01 -5.2778999e+01 -6.7680000e+01]\n",
            "   ...\n",
            "   [-2.9939003e+01 -4.4778999e+01 -4.8680000e+01]\n",
            "   [-3.9939003e+01 -5.7778999e+01 -6.3680000e+01]\n",
            "   [-5.2939003e+01 -6.9778999e+01 -7.6680000e+01]]\n",
            "\n",
            "  [[-4.9939003e+01 -4.9778999e+01 -6.4680000e+01]\n",
            "   [-4.9939003e+01 -4.9778999e+01 -6.4680000e+01]\n",
            "   [-5.2939003e+01 -5.1778999e+01 -6.6680000e+01]\n",
            "   ...\n",
            "   [-5.7939003e+01 -6.9778999e+01 -6.8680000e+01]\n",
            "   [-4.2939003e+01 -5.4778999e+01 -5.6680000e+01]\n",
            "   [-4.9939003e+01 -6.7778999e+01 -6.9680000e+01]]\n",
            "\n",
            "  ...\n",
            "\n",
            "  [[ 4.2060997e+01  4.2221001e+01  4.3320000e+01]\n",
            "   [ 3.3060997e+01  3.4221001e+01  3.6320000e+01]\n",
            "   [ 2.2060997e+01  2.5221001e+01  2.9320000e+01]\n",
            "   ...\n",
            "   [ 1.5060997e+01  6.2210007e+00  4.3199997e+00]\n",
            "   [ 1.6060997e+01  7.2210007e+00  5.3199997e+00]\n",
            "   [ 4.5060997e+01  3.6221001e+01  3.4320000e+01]]\n",
            "\n",
            "  [[ 5.2060997e+01  5.2221001e+01  5.3320000e+01]\n",
            "   [ 3.2060997e+01  3.2221001e+01  3.4320000e+01]\n",
            "   [ 2.2060997e+01  2.4221001e+01  2.8320000e+01]\n",
            "   ...\n",
            "   [ 6.0609970e+00 -3.7789993e+00 -3.6800003e+00]\n",
            "   [ 1.7060997e+01  7.2210007e+00  7.3199997e+00]\n",
            "   [ 4.2060997e+01  3.2221001e+01  3.2320000e+01]]\n",
            "\n",
            "  [[ 6.1060997e+01  6.1221001e+01  6.2320000e+01]\n",
            "   [ 3.3060997e+01  3.3221001e+01  3.5320000e+01]\n",
            "   [ 1.8060997e+01  2.0221001e+01  2.4320000e+01]\n",
            "   ...\n",
            "   [ 2.3060997e+01  1.2221001e+01  1.5320000e+01]\n",
            "   [ 2.3060997e+01  1.2221001e+01  1.5320000e+01]\n",
            "   [ 8.0609970e+00 -1.7789993e+00  3.1999969e-01]]]\n",
            "\n",
            "\n",
            " [[[ 1.5106100e+02  1.3822101e+02  1.3132001e+02]\n",
            "   [ 1.5106100e+02  1.3822101e+02  1.3132001e+02]\n",
            "   [ 1.5106100e+02  1.3822101e+02  1.3132001e+02]\n",
            "   ...\n",
            "   [ 8.1060997e+01  1.1322100e+02  1.1832000e+02]\n",
            "   [ 1.0106100e+02  1.2922101e+02  1.2532000e+02]\n",
            "   [ 8.5060997e+01  1.2222100e+02  1.2132000e+02]]\n",
            "\n",
            "  [[ 1.5106100e+02  1.3822101e+02  1.3132001e+02]\n",
            "   [ 1.5106100e+02  1.3822101e+02  1.3132001e+02]\n",
            "   [ 1.5106100e+02  1.3822101e+02  1.3132001e+02]\n",
            "   ...\n",
            "   [ 8.7060997e+01  1.2022100e+02  1.2232000e+02]\n",
            "   [ 1.0606100e+02  1.3322101e+02  1.3132001e+02]\n",
            "   [ 1.0606100e+02  1.3322101e+02  1.3132001e+02]]\n",
            "\n",
            "  [[ 1.5106100e+02  1.3822101e+02  1.3132001e+02]\n",
            "   [ 1.5106100e+02  1.3822101e+02  1.3132001e+02]\n",
            "   [ 1.5106100e+02  1.3822101e+02  1.3132001e+02]\n",
            "   ...\n",
            "   [ 7.7060997e+01  1.1722100e+02  1.2132000e+02]\n",
            "   [ 6.9060997e+01  1.1022100e+02  1.1832000e+02]\n",
            "   [ 6.9060997e+01  1.0522100e+02  1.1132000e+02]]\n",
            "\n",
            "  ...\n",
            "\n",
            "  [[ 1.3060997e+01 -3.0778999e+01 -5.8680000e+01]\n",
            "   [ 1.7060997e+01 -2.6778999e+01 -5.5680000e+01]\n",
            "   [ 2.3060997e+01 -2.0778999e+01 -4.9680000e+01]\n",
            "   ...\n",
            "   [ 3.3060997e+01 -1.1778999e+01 -3.7680000e+01]\n",
            "   [ 3.0060997e+01 -1.4778999e+01 -4.0680000e+01]\n",
            "   [ 1.9060997e+01 -2.5778999e+01 -5.1680000e+01]]\n",
            "\n",
            "  [[ 1.3060997e+01 -3.0778999e+01 -6.0680000e+01]\n",
            "   [ 1.7060997e+01 -2.6778999e+01 -5.7680000e+01]\n",
            "   [ 2.1060997e+01 -2.1778999e+01 -5.2680000e+01]\n",
            "   ...\n",
            "   [ 1.4060997e+01 -3.0778999e+01 -5.6680000e+01]\n",
            "   [ 1.3060997e+01 -3.1778999e+01 -5.7680000e+01]\n",
            "   [ 1.5060997e+01 -2.9778999e+01 -5.5680000e+01]]\n",
            "\n",
            "  [[ 1.6060997e+01 -2.6778999e+01 -5.8680000e+01]\n",
            "   [ 2.8060997e+01 -1.4778999e+01 -4.6680000e+01]\n",
            "   [ 3.1060997e+01 -1.1778999e+01 -4.3680000e+01]\n",
            "   ...\n",
            "   [ 1.9060997e+01 -2.5778999e+01 -5.1680000e+01]\n",
            "   [ 1.4060997e+01 -3.0778999e+01 -5.6680000e+01]\n",
            "   [ 7.0609970e+00 -3.7778999e+01 -6.3680000e+01]]]\n",
            "\n",
            "\n",
            " [[[-9.9390030e+00 -2.1778999e+01 -2.4680000e+01]\n",
            "   [-1.1939003e+01 -2.5778999e+01 -2.7680000e+01]\n",
            "   [ 1.3060997e+01 -7.7899933e-01 -6.8000031e-01]\n",
            "   ...\n",
            "   [ 1.5106100e+02  1.3822101e+02  1.3132001e+02]\n",
            "   [ 1.5106100e+02  1.3822101e+02  1.3132001e+02]\n",
            "   [ 1.5106100e+02  1.3822101e+02  1.3132001e+02]]\n",
            "\n",
            "  [[-8.9390030e+00 -1.9778999e+01 -2.5680000e+01]\n",
            "   [-1.2939003e+01 -2.7778999e+01 -3.0680000e+01]\n",
            "   [ 4.0609970e+00 -1.0778999e+01 -1.1680000e+01]\n",
            "   ...\n",
            "   [ 1.5106100e+02  1.3822101e+02  1.3132001e+02]\n",
            "   [ 1.5106100e+02  1.3822101e+02  1.3132001e+02]\n",
            "   [ 1.5106100e+02  1.3822101e+02  1.3132001e+02]]\n",
            "\n",
            "  [[-5.9390030e+00 -1.6778999e+01 -2.3680000e+01]\n",
            "   [-6.9390030e+00 -2.2778999e+01 -2.7680000e+01]\n",
            "   [-6.9390030e+00 -2.3778999e+01 -2.6680000e+01]\n",
            "   ...\n",
            "   [ 1.5106100e+02  1.3822101e+02  1.3132001e+02]\n",
            "   [ 1.5106100e+02  1.3822101e+02  1.3132001e+02]\n",
            "   [ 1.5106100e+02  1.3822101e+02  1.3132001e+02]]\n",
            "\n",
            "  ...\n",
            "\n",
            "  [[ 5.3060997e+01  4.4221001e+01  4.2320000e+01]\n",
            "   [ 4.5060997e+01  3.6221001e+01  3.4320000e+01]\n",
            "   [ 7.7060997e+01  6.9221001e+01  6.5320000e+01]\n",
            "   ...\n",
            "   [ 2.0060997e+01  1.1221001e+01  8.3199997e+00]\n",
            "   [ 1.8060997e+01  9.2210007e+00  5.3199997e+00]\n",
            "   [ 2.2060997e+01  1.2221001e+01  9.3199997e+00]]\n",
            "\n",
            "  [[ 5.0060997e+01  4.0221001e+01  4.2320000e+01]\n",
            "   [ 4.8060997e+01  3.8221001e+01  3.8320000e+01]\n",
            "   [ 3.4060997e+01  2.6221001e+01  2.3320000e+01]\n",
            "   ...\n",
            "   [ 2.1060997e+01  1.3221001e+01  9.3199997e+00]\n",
            "   [ 1.9060997e+01  1.1221001e+01  7.3199997e+00]\n",
            "   [ 1.3060997e+01  5.2210007e+00  1.3199997e+00]]\n",
            "\n",
            "  [[ 2.3060997e+01  1.3221001e+01  1.4320000e+01]\n",
            "   [ 3.5060997e+01  2.5221001e+01  2.5320000e+01]\n",
            "   [ 3.5060997e+01  2.7221001e+01  2.4320000e+01]\n",
            "   ...\n",
            "   [ 2.8060997e+01  2.0221001e+01  1.6320000e+01]\n",
            "   [ 3.1060997e+01  2.3221001e+01  1.9320000e+01]\n",
            "   [ 2.3060997e+01  1.4221001e+01  1.1320000e+01]]]]\n",
            "[ 9 18 16 10 14 10  4 16 10 13 12  3  7 18  6  0  2 18  2  7]\n"
          ]
        }
      ]
    },
    {
      "cell_type": "code",
      "metadata": {
        "colab": {
          "base_uri": "https://localhost:8080/"
        },
        "id": "awHkn662E1-g",
        "outputId": "163410a6-c753-40a6-b3d0-63453d20fe96"
      },
      "source": [
        "from sklearn.model_selection import train_test_split\n",
        "\n",
        " # gp + vivo + gryphus6 + SR + DRG + FIDDLE + S2\n",
        "group_tol = [[0] for i in range(20)]\n",
        "group_tr = [[0] for i in range(20)]\n",
        "group_te = [[0] for i in range(20)]\n",
        "indexcontrastvalue = [gp, vivo, gryphus6, SR, SL, JOG, BWS, LIMI, LIKE, DRG, FIDDLE, S2, S3, VIVAMIX, xml125, JH, KRV, MANY, Force, xdj]\n",
        "\n",
        "x_train = []\n",
        "y_train = []\n",
        "x_test = []\n",
        "y_test = []\n",
        "print(type(indexcontrastvalue[0]))\n",
        "#print(len(indexcontrastvalue[0]))\n",
        "for i in range(20):\n",
        "  print(i)\n",
        "  group_tol[i] = np.random.choice(indexcontrastvalue[i], len(indexcontrastvalue[i]), replace=False)\n",
        "  group_tr[i], group_te[i] = train_test_split(group_tol[i], test_size=0.1)\n",
        "  x_train = np.concatenate((x_train, group_tr[i]))\n",
        "  y_train = y_train + ([i] * len(group_tr[i]))\n",
        "  x_test = np.concatenate((x_test,group_te[i]))\n",
        "  y_test = y_test + ([i] * len(group_te[i]))\n",
        "y_train = np.array(y_train)\n",
        "y_test = np.array(y_test)\n",
        "\n",
        "\n",
        "\n",
        "print(x_train.shape)\n",
        "print(x_test.shape)\n",
        "print(y_train.shape)\n",
        "print(y_test.shape)\n",
        "print(type(x_test))\n",
        "type(y_test)"
      ],
      "execution_count": null,
      "outputs": [
        {
          "output_type": "stream",
          "name": "stdout",
          "text": [
            "<class 'list'>\n",
            "0\n",
            "1\n",
            "2\n",
            "3\n",
            "4\n",
            "5\n",
            "6\n",
            "7\n",
            "8\n",
            "9\n",
            "10\n",
            "11\n",
            "12\n",
            "13\n",
            "14\n",
            "15\n",
            "16\n",
            "17\n",
            "18\n",
            "19\n",
            "(7286,)\n",
            "(820,)\n",
            "(7286,)\n",
            "(820,)\n",
            "<class 'numpy.ndarray'>\n"
          ]
        },
        {
          "output_type": "execute_result",
          "data": {
            "text/plain": [
              "numpy.ndarray"
            ]
          },
          "metadata": {},
          "execution_count": 11
        }
      ]
    },
    {
      "cell_type": "code",
      "metadata": {
        "id": "3Rmi0ZnLJFFD"
      },
      "source": [
        "train_generator = data_generator(x_train, y_train)\n",
        "test_generator = data_generator(x_test, y_test)"
      ],
      "execution_count": null,
      "outputs": []
    },
    {
      "cell_type": "code",
      "metadata": {
        "colab": {
          "base_uri": "https://localhost:8080/"
        },
        "id": "KAiI051ZsIv9",
        "outputId": "edf38891-166a-405f-b5a3-2af276d2eb7f"
      },
      "source": [
        "from tensorflow.keras.callbacks import EarlyStopping, ModelCheckpoint\n",
        "callbacks = [\n",
        "             EarlyStopping(patience=5, restore_best_weights=True),\n",
        "             ModelCheckpoint(\"myall.h5\", save_best_only=True)\n",
        "]\n",
        "\n",
        "selfmymodel.fit_generator(\n",
        "    train_generator,\n",
        "    steps_per_epoch=20,\n",
        "    epochs=100,\n",
        "    validation_data=test_generator,\n",
        "    validation_steps=2, \n",
        "    callbacks=callbacks\n",
        "                    )"
      ],
      "execution_count": null,
      "outputs": [
        {
          "output_type": "stream",
          "name": "stderr",
          "text": [
            "/usr/local/lib/python3.7/dist-packages/ipykernel_launcher.py:13: UserWarning: `Model.fit_generator` is deprecated and will be removed in a future version. Please use `Model.fit`, which supports generators.\n",
            "  del sys.path[0]\n"
          ]
        },
        {
          "output_type": "stream",
          "name": "stdout",
          "text": [
            "Epoch 1/100\n",
            "20/20 [==============================] - ETA: 0s - loss: 1.1441 - accuracy: 0.7000"
          ]
        },
        {
          "output_type": "stream",
          "name": "stderr",
          "text": [
            "/usr/local/lib/python3.7/dist-packages/keras/engine/functional.py:1410: CustomMaskWarning: Custom mask layers require a config and must override get_config. When loading, the custom mask layer must be passed to the custom_objects argument.\n",
            "  layer_config = serialize_layer_fn(layer)\n"
          ]
        },
        {
          "output_type": "stream",
          "name": "stdout",
          "text": [
            "20/20 [==============================] - 37s 2s/step - loss: 1.1441 - accuracy: 0.7000 - val_loss: 2.1700 - val_accuracy: 0.5000\n",
            "Epoch 2/100\n",
            "20/20 [==============================] - 36s 2s/step - loss: 1.1234 - accuracy: 0.6947 - val_loss: 1.4531 - val_accuracy: 0.5789\n",
            "Epoch 3/100\n",
            "20/20 [==============================] - 37s 2s/step - loss: 1.1203 - accuracy: 0.6947 - val_loss: 1.7993 - val_accuracy: 0.5526\n",
            "Epoch 4/100\n",
            "20/20 [==============================] - 39s 2s/step - loss: 1.1184 - accuracy: 0.7158 - val_loss: 2.3583 - val_accuracy: 0.2895\n",
            "Epoch 5/100\n",
            "20/20 [==============================] - 38s 2s/step - loss: 1.1375 - accuracy: 0.7079 - val_loss: 1.6562 - val_accuracy: 0.6053\n",
            "Epoch 6/100\n",
            "20/20 [==============================] - 37s 2s/step - loss: 1.0161 - accuracy: 0.7316 - val_loss: 1.4485 - val_accuracy: 0.6579\n",
            "Epoch 7/100\n",
            "20/20 [==============================] - 38s 2s/step - loss: 1.0951 - accuracy: 0.6895 - val_loss: 1.9383 - val_accuracy: 0.4737\n",
            "Epoch 8/100\n",
            "20/20 [==============================] - 37s 2s/step - loss: 1.1092 - accuracy: 0.6947 - val_loss: 1.4497 - val_accuracy: 0.6316\n",
            "Epoch 9/100\n",
            "20/20 [==============================] - 36s 2s/step - loss: 1.1052 - accuracy: 0.7158 - val_loss: 1.7800 - val_accuracy: 0.5000\n",
            "Epoch 10/100\n",
            "20/20 [==============================] - 37s 2s/step - loss: 1.1923 - accuracy: 0.6763 - val_loss: 1.6481 - val_accuracy: 0.5263\n",
            "Epoch 11/100\n",
            "20/20 [==============================] - 40s 2s/step - loss: 1.0775 - accuracy: 0.7316 - val_loss: 1.7363 - val_accuracy: 0.4474\n"
          ]
        },
        {
          "output_type": "execute_result",
          "data": {
            "text/plain": [
              "<keras.callbacks.History at 0x7f83ed5d5f10>"
            ]
          },
          "metadata": {},
          "execution_count": 56
        }
      ]
    },
    {
      "cell_type": "code",
      "metadata": {
        "colab": {
          "base_uri": "https://localhost:8080/"
        },
        "id": "Hs3-V8_q9RUL",
        "outputId": "d94833ec-5372-4cf5-8462-dd89a146700b"
      },
      "source": [
        "selfmymodel.evaluate_generator(test_generator, steps=1)"
      ],
      "execution_count": null,
      "outputs": [
        {
          "output_type": "stream",
          "name": "stderr",
          "text": [
            "/usr/local/lib/python3.7/dist-packages/ipykernel_launcher.py:1: UserWarning: `Model.evaluate_generator` is deprecated and will be removed in a future version. Please use `Model.evaluate`, which supports generators.\n",
            "  \"\"\"Entry point for launching an IPython kernel.\n"
          ]
        },
        {
          "output_type": "execute_result",
          "data": {
            "text/plain": [
              "[1.5587211847305298, 0.4736842215061188]"
            ]
          },
          "metadata": {},
          "execution_count": 63
        }
      ]
    },
    {
      "cell_type": "code",
      "metadata": {
        "colab": {
          "base_uri": "https://localhost:8080/"
        },
        "id": "O6fli7ASzyIg",
        "outputId": "e7f59ffe-5800-4c70-c8c3-673ac3f708a4"
      },
      "source": [
        "selfmymodel.save(\"selfmymodel_5_e5_allclass_rigorous_run7.h5\")"
      ],
      "execution_count": null,
      "outputs": [
        {
          "output_type": "stream",
          "name": "stderr",
          "text": [
            "/usr/local/lib/python3.7/dist-packages/keras/engine/functional.py:1410: CustomMaskWarning: Custom mask layers require a config and must override get_config. When loading, the custom mask layer must be passed to the custom_objects argument.\n",
            "  layer_config = serialize_layer_fn(layer)\n"
          ]
        }
      ]
    },
    {
      "cell_type": "code",
      "metadata": {
        "id": "5GEyohnyJa-E",
        "colab": {
          "base_uri": "https://localhost:8080/",
          "height": 679
        },
        "outputId": "b100e0f9-f0d9-4e52-a946-94f530bb9b3d"
      },
      "source": [
        "\n",
        "from tensorflow.keras.callbacks import EarlyStopping, ModelCheckpoint, LearningRateScheduler\n",
        "def scheduler(epoch, lr):\n",
        "    if epoch == 0:\n",
        "        return lr\n",
        "    else:\n",
        "        return lr * 0.8\n",
        "LearningRateScheduler(scheduler)\n",
        "callbacks = [\n",
        "             EarlyStopping(patience=5, restore_best_weights=True),\n",
        "             ModelCheckpoint(\"scooterall.h5\", save_best_only=True),\n",
        "             LearningRateScheduler(scheduler)\n",
        "]\n",
        "\n",
        "modle.fit_generator(\n",
        "    train_generator,\n",
        "    steps_per_epoch=20,\n",
        "    epochs=100,\n",
        "    validation_data=test_generator,\n",
        "    validation_steps=2, \n",
        "    callbacks=callbacks\n",
        "                    )"
      ],
      "execution_count": null,
      "outputs": [
        {
          "output_type": "stream",
          "name": "stderr",
          "text": [
            "/usr/local/lib/python3.7/dist-packages/ipykernel_launcher.py:21: UserWarning: `Model.fit_generator` is deprecated and will be removed in a future version. Please use `Model.fit`, which supports generators.\n"
          ]
        },
        {
          "output_type": "stream",
          "name": "stdout",
          "text": [
            "Epoch 1/100\n"
          ]
        },
        {
          "output_type": "stream",
          "name": "stderr",
          "text": [
            "/usr/local/lib/python3.7/dist-packages/tensorflow/python/util/dispatch.py:1096: UserWarning: \"`sparse_categorical_crossentropy` received `from_logits=True`, but the `output` argument was produced by a sigmoid or softmax activation and thus does not represent logits. Was this intended?\"\n",
            "  return dispatch_target(*args, **kwargs)\n"
          ]
        },
        {
          "output_type": "stream",
          "name": "stdout",
          "text": [
            "20/20 [==============================] - 559s 28s/step - loss: 4.6144 - top_5_categorical_accuracy: 0.4725 - val_loss: 6.1344 - val_top_5_categorical_accuracy: 0.3250 - lr: 0.0010\n"
          ]
        },
        {
          "output_type": "stream",
          "name": "stderr",
          "text": [
            "/usr/local/lib/python3.7/dist-packages/keras/engine/functional.py:1410: CustomMaskWarning: Custom mask layers require a config and must override get_config. When loading, the custom mask layer must be passed to the custom_objects argument.\n",
            "  layer_config = serialize_layer_fn(layer)\n"
          ]
        },
        {
          "output_type": "stream",
          "name": "stdout",
          "text": [
            "Epoch 2/100\n",
            "20/20 [==============================] - 544s 27s/step - loss: 4.3514 - top_5_categorical_accuracy: 0.5400 - val_loss: 4.3810 - val_top_5_categorical_accuracy: 0.8250 - lr: 8.0000e-04\n",
            "Epoch 3/100\n",
            "20/20 [==============================] - 554s 28s/step - loss: 4.3660 - top_5_categorical_accuracy: 0.4150 - val_loss: 4.3386 - val_top_5_categorical_accuracy: 0.2000 - lr: 6.4000e-04\n",
            "Epoch 4/100\n",
            "20/20 [==============================] - 537s 27s/step - loss: 4.0191 - top_5_categorical_accuracy: 0.4250 - val_loss: 4.4611 - val_top_5_categorical_accuracy: 0.5750 - lr: 5.1200e-04\n",
            "Epoch 5/100\n",
            "20/20 [==============================] - 551s 28s/step - loss: 3.9121 - top_5_categorical_accuracy: 0.4800 - val_loss: 3.9818 - val_top_5_categorical_accuracy: 0.8000 - lr: 4.0960e-04\n",
            "Epoch 6/100\n",
            " 4/20 [=====>........................] - ETA: 6:55 - loss: 3.9163 - top_5_categorical_accuracy: 0.7125"
          ]
        },
        {
          "output_type": "error",
          "ename": "KeyboardInterrupt",
          "evalue": "ignored",
          "traceback": [
            "\u001b[0;31m---------------------------------------------------------------------------\u001b[0m",
            "\u001b[0;31mKeyboardInterrupt\u001b[0m                         Traceback (most recent call last)",
            "\u001b[0;32m<ipython-input-13-0e60fca58394>\u001b[0m in \u001b[0;36m<module>\u001b[0;34m()\u001b[0m\n\u001b[1;32m     19\u001b[0m     \u001b[0mvalidation_data\u001b[0m\u001b[0;34m=\u001b[0m\u001b[0mtest_generator\u001b[0m\u001b[0;34m,\u001b[0m\u001b[0;34m\u001b[0m\u001b[0;34m\u001b[0m\u001b[0m\n\u001b[1;32m     20\u001b[0m     \u001b[0mvalidation_steps\u001b[0m\u001b[0;34m=\u001b[0m\u001b[0;36m2\u001b[0m\u001b[0;34m,\u001b[0m\u001b[0;34m\u001b[0m\u001b[0;34m\u001b[0m\u001b[0m\n\u001b[0;32m---> 21\u001b[0;31m     \u001b[0mcallbacks\u001b[0m\u001b[0;34m=\u001b[0m\u001b[0mcallbacks\u001b[0m\u001b[0;34m\u001b[0m\u001b[0;34m\u001b[0m\u001b[0m\n\u001b[0m\u001b[1;32m     22\u001b[0m                     )\n",
            "\u001b[0;32m/usr/local/lib/python3.7/dist-packages/keras/engine/training.py\u001b[0m in \u001b[0;36mfit_generator\u001b[0;34m(self, generator, steps_per_epoch, epochs, verbose, callbacks, validation_data, validation_steps, validation_freq, class_weight, max_queue_size, workers, use_multiprocessing, shuffle, initial_epoch)\u001b[0m\n\u001b[1;32m   2028\u001b[0m         \u001b[0muse_multiprocessing\u001b[0m\u001b[0;34m=\u001b[0m\u001b[0muse_multiprocessing\u001b[0m\u001b[0;34m,\u001b[0m\u001b[0;34m\u001b[0m\u001b[0;34m\u001b[0m\u001b[0m\n\u001b[1;32m   2029\u001b[0m         \u001b[0mshuffle\u001b[0m\u001b[0;34m=\u001b[0m\u001b[0mshuffle\u001b[0m\u001b[0;34m,\u001b[0m\u001b[0;34m\u001b[0m\u001b[0;34m\u001b[0m\u001b[0m\n\u001b[0;32m-> 2030\u001b[0;31m         initial_epoch=initial_epoch)\n\u001b[0m\u001b[1;32m   2031\u001b[0m \u001b[0;34m\u001b[0m\u001b[0m\n\u001b[1;32m   2032\u001b[0m   \u001b[0;34m@\u001b[0m\u001b[0mdoc_controls\u001b[0m\u001b[0;34m.\u001b[0m\u001b[0mdo_not_generate_docs\u001b[0m\u001b[0;34m\u001b[0m\u001b[0;34m\u001b[0m\u001b[0m\n",
            "\u001b[0;32m/usr/local/lib/python3.7/dist-packages/keras/utils/traceback_utils.py\u001b[0m in \u001b[0;36merror_handler\u001b[0;34m(*args, **kwargs)\u001b[0m\n\u001b[1;32m     62\u001b[0m     \u001b[0mfiltered_tb\u001b[0m \u001b[0;34m=\u001b[0m \u001b[0;32mNone\u001b[0m\u001b[0;34m\u001b[0m\u001b[0;34m\u001b[0m\u001b[0m\n\u001b[1;32m     63\u001b[0m     \u001b[0;32mtry\u001b[0m\u001b[0;34m:\u001b[0m\u001b[0;34m\u001b[0m\u001b[0;34m\u001b[0m\u001b[0m\n\u001b[0;32m---> 64\u001b[0;31m       \u001b[0;32mreturn\u001b[0m \u001b[0mfn\u001b[0m\u001b[0;34m(\u001b[0m\u001b[0;34m*\u001b[0m\u001b[0margs\u001b[0m\u001b[0;34m,\u001b[0m \u001b[0;34m**\u001b[0m\u001b[0mkwargs\u001b[0m\u001b[0;34m)\u001b[0m\u001b[0;34m\u001b[0m\u001b[0;34m\u001b[0m\u001b[0m\n\u001b[0m\u001b[1;32m     65\u001b[0m     \u001b[0;32mexcept\u001b[0m \u001b[0mException\u001b[0m \u001b[0;32mas\u001b[0m \u001b[0me\u001b[0m\u001b[0;34m:\u001b[0m  \u001b[0;31m# pylint: disable=broad-except\u001b[0m\u001b[0;34m\u001b[0m\u001b[0;34m\u001b[0m\u001b[0m\n\u001b[1;32m     66\u001b[0m       \u001b[0mfiltered_tb\u001b[0m \u001b[0;34m=\u001b[0m \u001b[0m_process_traceback_frames\u001b[0m\u001b[0;34m(\u001b[0m\u001b[0me\u001b[0m\u001b[0;34m.\u001b[0m\u001b[0m__traceback__\u001b[0m\u001b[0;34m)\u001b[0m\u001b[0;34m\u001b[0m\u001b[0;34m\u001b[0m\u001b[0m\n",
            "\u001b[0;32m/usr/local/lib/python3.7/dist-packages/keras/engine/training.py\u001b[0m in \u001b[0;36mfit\u001b[0;34m(self, x, y, batch_size, epochs, verbose, callbacks, validation_split, validation_data, shuffle, class_weight, sample_weight, initial_epoch, steps_per_epoch, validation_steps, validation_batch_size, validation_freq, max_queue_size, workers, use_multiprocessing)\u001b[0m\n\u001b[1;32m   1214\u001b[0m                 _r=1):\n\u001b[1;32m   1215\u001b[0m               \u001b[0mcallbacks\u001b[0m\u001b[0;34m.\u001b[0m\u001b[0mon_train_batch_begin\u001b[0m\u001b[0;34m(\u001b[0m\u001b[0mstep\u001b[0m\u001b[0;34m)\u001b[0m\u001b[0;34m\u001b[0m\u001b[0;34m\u001b[0m\u001b[0m\n\u001b[0;32m-> 1216\u001b[0;31m               \u001b[0mtmp_logs\u001b[0m \u001b[0;34m=\u001b[0m \u001b[0mself\u001b[0m\u001b[0;34m.\u001b[0m\u001b[0mtrain_function\u001b[0m\u001b[0;34m(\u001b[0m\u001b[0miterator\u001b[0m\u001b[0;34m)\u001b[0m\u001b[0;34m\u001b[0m\u001b[0;34m\u001b[0m\u001b[0m\n\u001b[0m\u001b[1;32m   1217\u001b[0m               \u001b[0;32mif\u001b[0m \u001b[0mdata_handler\u001b[0m\u001b[0;34m.\u001b[0m\u001b[0mshould_sync\u001b[0m\u001b[0;34m:\u001b[0m\u001b[0;34m\u001b[0m\u001b[0;34m\u001b[0m\u001b[0m\n\u001b[1;32m   1218\u001b[0m                 \u001b[0mcontext\u001b[0m\u001b[0;34m.\u001b[0m\u001b[0masync_wait\u001b[0m\u001b[0;34m(\u001b[0m\u001b[0;34m)\u001b[0m\u001b[0;34m\u001b[0m\u001b[0;34m\u001b[0m\u001b[0m\n",
            "\u001b[0;32m/usr/local/lib/python3.7/dist-packages/tensorflow/python/util/traceback_utils.py\u001b[0m in \u001b[0;36merror_handler\u001b[0;34m(*args, **kwargs)\u001b[0m\n\u001b[1;32m    148\u001b[0m     \u001b[0mfiltered_tb\u001b[0m \u001b[0;34m=\u001b[0m \u001b[0;32mNone\u001b[0m\u001b[0;34m\u001b[0m\u001b[0;34m\u001b[0m\u001b[0m\n\u001b[1;32m    149\u001b[0m     \u001b[0;32mtry\u001b[0m\u001b[0;34m:\u001b[0m\u001b[0;34m\u001b[0m\u001b[0;34m\u001b[0m\u001b[0m\n\u001b[0;32m--> 150\u001b[0;31m       \u001b[0;32mreturn\u001b[0m \u001b[0mfn\u001b[0m\u001b[0;34m(\u001b[0m\u001b[0;34m*\u001b[0m\u001b[0margs\u001b[0m\u001b[0;34m,\u001b[0m \u001b[0;34m**\u001b[0m\u001b[0mkwargs\u001b[0m\u001b[0;34m)\u001b[0m\u001b[0;34m\u001b[0m\u001b[0;34m\u001b[0m\u001b[0m\n\u001b[0m\u001b[1;32m    151\u001b[0m     \u001b[0;32mexcept\u001b[0m \u001b[0mException\u001b[0m \u001b[0;32mas\u001b[0m \u001b[0me\u001b[0m\u001b[0;34m:\u001b[0m\u001b[0;34m\u001b[0m\u001b[0;34m\u001b[0m\u001b[0m\n\u001b[1;32m    152\u001b[0m       \u001b[0mfiltered_tb\u001b[0m \u001b[0;34m=\u001b[0m \u001b[0m_process_traceback_frames\u001b[0m\u001b[0;34m(\u001b[0m\u001b[0me\u001b[0m\u001b[0;34m.\u001b[0m\u001b[0m__traceback__\u001b[0m\u001b[0;34m)\u001b[0m\u001b[0;34m\u001b[0m\u001b[0;34m\u001b[0m\u001b[0m\n",
            "\u001b[0;32m/usr/local/lib/python3.7/dist-packages/tensorflow/python/eager/def_function.py\u001b[0m in \u001b[0;36m__call__\u001b[0;34m(self, *args, **kwds)\u001b[0m\n\u001b[1;32m    908\u001b[0m \u001b[0;34m\u001b[0m\u001b[0m\n\u001b[1;32m    909\u001b[0m       \u001b[0;32mwith\u001b[0m \u001b[0mOptionalXlaContext\u001b[0m\u001b[0;34m(\u001b[0m\u001b[0mself\u001b[0m\u001b[0;34m.\u001b[0m\u001b[0m_jit_compile\u001b[0m\u001b[0;34m)\u001b[0m\u001b[0;34m:\u001b[0m\u001b[0;34m\u001b[0m\u001b[0;34m\u001b[0m\u001b[0m\n\u001b[0;32m--> 910\u001b[0;31m         \u001b[0mresult\u001b[0m \u001b[0;34m=\u001b[0m \u001b[0mself\u001b[0m\u001b[0;34m.\u001b[0m\u001b[0m_call\u001b[0m\u001b[0;34m(\u001b[0m\u001b[0;34m*\u001b[0m\u001b[0margs\u001b[0m\u001b[0;34m,\u001b[0m \u001b[0;34m**\u001b[0m\u001b[0mkwds\u001b[0m\u001b[0;34m)\u001b[0m\u001b[0;34m\u001b[0m\u001b[0;34m\u001b[0m\u001b[0m\n\u001b[0m\u001b[1;32m    911\u001b[0m \u001b[0;34m\u001b[0m\u001b[0m\n\u001b[1;32m    912\u001b[0m       \u001b[0mnew_tracing_count\u001b[0m \u001b[0;34m=\u001b[0m \u001b[0mself\u001b[0m\u001b[0;34m.\u001b[0m\u001b[0mexperimental_get_tracing_count\u001b[0m\u001b[0;34m(\u001b[0m\u001b[0;34m)\u001b[0m\u001b[0;34m\u001b[0m\u001b[0;34m\u001b[0m\u001b[0m\n",
            "\u001b[0;32m/usr/local/lib/python3.7/dist-packages/tensorflow/python/eager/def_function.py\u001b[0m in \u001b[0;36m_call\u001b[0;34m(self, *args, **kwds)\u001b[0m\n\u001b[1;32m    940\u001b[0m       \u001b[0;31m# In this case we have created variables on the first call, so we run the\u001b[0m\u001b[0;34m\u001b[0m\u001b[0;34m\u001b[0m\u001b[0;34m\u001b[0m\u001b[0m\n\u001b[1;32m    941\u001b[0m       \u001b[0;31m# defunned version which is guaranteed to never create variables.\u001b[0m\u001b[0;34m\u001b[0m\u001b[0;34m\u001b[0m\u001b[0;34m\u001b[0m\u001b[0m\n\u001b[0;32m--> 942\u001b[0;31m       \u001b[0;32mreturn\u001b[0m \u001b[0mself\u001b[0m\u001b[0;34m.\u001b[0m\u001b[0m_stateless_fn\u001b[0m\u001b[0;34m(\u001b[0m\u001b[0;34m*\u001b[0m\u001b[0margs\u001b[0m\u001b[0;34m,\u001b[0m \u001b[0;34m**\u001b[0m\u001b[0mkwds\u001b[0m\u001b[0;34m)\u001b[0m  \u001b[0;31m# pylint: disable=not-callable\u001b[0m\u001b[0;34m\u001b[0m\u001b[0;34m\u001b[0m\u001b[0m\n\u001b[0m\u001b[1;32m    943\u001b[0m     \u001b[0;32melif\u001b[0m \u001b[0mself\u001b[0m\u001b[0;34m.\u001b[0m\u001b[0m_stateful_fn\u001b[0m \u001b[0;32mis\u001b[0m \u001b[0;32mnot\u001b[0m \u001b[0;32mNone\u001b[0m\u001b[0;34m:\u001b[0m\u001b[0;34m\u001b[0m\u001b[0;34m\u001b[0m\u001b[0m\n\u001b[1;32m    944\u001b[0m       \u001b[0;31m# Release the lock early so that multiple threads can perform the call\u001b[0m\u001b[0;34m\u001b[0m\u001b[0;34m\u001b[0m\u001b[0;34m\u001b[0m\u001b[0m\n",
            "\u001b[0;32m/usr/local/lib/python3.7/dist-packages/tensorflow/python/eager/function.py\u001b[0m in \u001b[0;36m__call__\u001b[0;34m(self, *args, **kwargs)\u001b[0m\n\u001b[1;32m   3129\u001b[0m        filtered_flat_args) = self._maybe_define_function(args, kwargs)\n\u001b[1;32m   3130\u001b[0m     return graph_function._call_flat(\n\u001b[0;32m-> 3131\u001b[0;31m         filtered_flat_args, captured_inputs=graph_function.captured_inputs)  # pylint: disable=protected-access\n\u001b[0m\u001b[1;32m   3132\u001b[0m \u001b[0;34m\u001b[0m\u001b[0m\n\u001b[1;32m   3133\u001b[0m   \u001b[0;34m@\u001b[0m\u001b[0mproperty\u001b[0m\u001b[0;34m\u001b[0m\u001b[0;34m\u001b[0m\u001b[0m\n",
            "\u001b[0;32m/usr/local/lib/python3.7/dist-packages/tensorflow/python/eager/function.py\u001b[0m in \u001b[0;36m_call_flat\u001b[0;34m(self, args, captured_inputs, cancellation_manager)\u001b[0m\n\u001b[1;32m   1958\u001b[0m       \u001b[0;31m# No tape is watching; skip to running the function.\u001b[0m\u001b[0;34m\u001b[0m\u001b[0;34m\u001b[0m\u001b[0;34m\u001b[0m\u001b[0m\n\u001b[1;32m   1959\u001b[0m       return self._build_call_outputs(self._inference_function.call(\n\u001b[0;32m-> 1960\u001b[0;31m           ctx, args, cancellation_manager=cancellation_manager))\n\u001b[0m\u001b[1;32m   1961\u001b[0m     forward_backward = self._select_forward_and_backward_functions(\n\u001b[1;32m   1962\u001b[0m         \u001b[0margs\u001b[0m\u001b[0;34m,\u001b[0m\u001b[0;34m\u001b[0m\u001b[0;34m\u001b[0m\u001b[0m\n",
            "\u001b[0;32m/usr/local/lib/python3.7/dist-packages/tensorflow/python/eager/function.py\u001b[0m in \u001b[0;36mcall\u001b[0;34m(self, ctx, args, cancellation_manager)\u001b[0m\n\u001b[1;32m    601\u001b[0m               \u001b[0minputs\u001b[0m\u001b[0;34m=\u001b[0m\u001b[0margs\u001b[0m\u001b[0;34m,\u001b[0m\u001b[0;34m\u001b[0m\u001b[0;34m\u001b[0m\u001b[0m\n\u001b[1;32m    602\u001b[0m               \u001b[0mattrs\u001b[0m\u001b[0;34m=\u001b[0m\u001b[0mattrs\u001b[0m\u001b[0;34m,\u001b[0m\u001b[0;34m\u001b[0m\u001b[0;34m\u001b[0m\u001b[0m\n\u001b[0;32m--> 603\u001b[0;31m               ctx=ctx)\n\u001b[0m\u001b[1;32m    604\u001b[0m         \u001b[0;32melse\u001b[0m\u001b[0;34m:\u001b[0m\u001b[0;34m\u001b[0m\u001b[0;34m\u001b[0m\u001b[0m\n\u001b[1;32m    605\u001b[0m           outputs = execute.execute_with_cancellation(\n",
            "\u001b[0;32m/usr/local/lib/python3.7/dist-packages/tensorflow/python/eager/execute.py\u001b[0m in \u001b[0;36mquick_execute\u001b[0;34m(op_name, num_outputs, inputs, attrs, ctx, name)\u001b[0m\n\u001b[1;32m     57\u001b[0m     \u001b[0mctx\u001b[0m\u001b[0;34m.\u001b[0m\u001b[0mensure_initialized\u001b[0m\u001b[0;34m(\u001b[0m\u001b[0;34m)\u001b[0m\u001b[0;34m\u001b[0m\u001b[0;34m\u001b[0m\u001b[0m\n\u001b[1;32m     58\u001b[0m     tensors = pywrap_tfe.TFE_Py_Execute(ctx._handle, device_name, op_name,\n\u001b[0;32m---> 59\u001b[0;31m                                         inputs, attrs, num_outputs)\n\u001b[0m\u001b[1;32m     60\u001b[0m   \u001b[0;32mexcept\u001b[0m \u001b[0mcore\u001b[0m\u001b[0;34m.\u001b[0m\u001b[0m_NotOkStatusException\u001b[0m \u001b[0;32mas\u001b[0m \u001b[0me\u001b[0m\u001b[0;34m:\u001b[0m\u001b[0;34m\u001b[0m\u001b[0;34m\u001b[0m\u001b[0m\n\u001b[1;32m     61\u001b[0m     \u001b[0;32mif\u001b[0m \u001b[0mname\u001b[0m \u001b[0;32mis\u001b[0m \u001b[0;32mnot\u001b[0m \u001b[0;32mNone\u001b[0m\u001b[0;34m:\u001b[0m\u001b[0;34m\u001b[0m\u001b[0;34m\u001b[0m\u001b[0m\n",
            "\u001b[0;31mKeyboardInterrupt\u001b[0m: "
          ]
        }
      ]
    },
    {
      "cell_type": "code",
      "metadata": {
        "id": "0EZRL1z5c8Wn",
        "colab": {
          "base_uri": "https://localhost:8080/"
        },
        "outputId": "92caccd4-5e4a-494c-ecd6-33ab9a7304bd"
      },
      "source": [
        "modle.save(\"/content/drive/MyDrive/Tebame_第四組_機車辨識/機車辨識模型檔/selfmymodelV2_allclass_rigorous_480sz_top-5lossV2.h5\")"
      ],
      "execution_count": null,
      "outputs": [
        {
          "output_type": "stream",
          "name": "stderr",
          "text": [
            "/usr/local/lib/python3.7/dist-packages/keras/engine/functional.py:1410: CustomMaskWarning: Custom mask layers require a config and must override get_config. When loading, the custom mask layer must be passed to the custom_objects argument.\n",
            "  layer_config = serialize_layer_fn(layer)\n"
          ]
        }
      ]
    },
    {
      "cell_type": "code",
      "metadata": {
        "id": "nrsxWxty7ycW"
      },
      "source": [
        "from tensorflow.keras.losses import SparseCategoricalCrossentropy\n",
        "import tensorflow\n",
        "def top5SparseCategoricalCrossentropy(y_true, y_pred):\n",
        "  a = tensorflow.keras.losses.SparseCategoricalCrossentropy(from_logits=True)\n",
        "  return a(y_true, y_pred) * (1 - (tensorflow.keras.backend.cast_to_floatx( (tensorflow.keras.backend.in_top_k(predictions = y_pred, targets = tensorflow.keras.backend.reshape(y_true,(len(y_true),)) , k=5)) ) * (-1)) + 0.25)\n",
        "  "
      ],
      "execution_count": null,
      "outputs": []
    },
    {
      "cell_type": "code",
      "metadata": {
        "id": "sp2_GIX3zfUZ"
      },
      "source": [
        "from tensorflow.keras.models import load_model\n",
        "model = load_model(\"/content/drive/MyDrive/Tebame_第四組_機車辨識/機車辨識模型檔/selfmymodelV2_allclass_rigorous_480sz_top-5lossV2.h5\", custom_objects={'top5SparseCategoricalCrossentropy': top5SparseCategoricalCrossentropy})"
      ],
      "execution_count": null,
      "outputs": []
    },
    {
      "cell_type": "code",
      "metadata": {
        "id": "qk-uOyCtrcxf"
      },
      "source": [
        "from tensorflow.keras.metrics import TopKCategoricalAccuracy\n",
        "from tensorflow.keras.losses import SparseCategoricalCrossentropy\n",
        "modle.compile(loss=(top5SparseCategoricalCrossentropy),\n",
        "        optimizer=\"adam\",\n",
        "        metrics=[TopKCategoricalAccuracy(k=5, name='top_5_categorical_accuracy', dtype=None)])"
      ],
      "execution_count": null,
      "outputs": []
    },
    {
      "cell_type": "code",
      "metadata": {
        "id": "IEnB1PGjy25J",
        "colab": {
          "base_uri": "https://localhost:8080/"
        },
        "outputId": "edf61bb0-1935-4245-c803-b8b3e29bac06"
      },
      "source": [
        "modle.summary()"
      ],
      "execution_count": null,
      "outputs": [
        {
          "output_type": "stream",
          "name": "stdout",
          "text": [
            "Model: \"model\"\n",
            "__________________________________________________________________________________________________\n",
            " Layer (type)                   Output Shape         Param #     Connected to                     \n",
            "==================================================================================================\n",
            " input_2 (InputLayer)           [(None, 480, 480, 3  0           []                               \n",
            "                                )]                                                                \n",
            "                                                                                                  \n",
            " conv2d_23 (Conv2D)             (None, 240, 240, 64  3136        ['input_2[0][0]']                \n",
            "                                )                                                                 \n",
            "                                                                                                  \n",
            " conv2d_21 (Conv2D)             (None, 240, 240, 61  244         ['input_2[0][0]']                \n",
            "                                )                                                                 \n",
            "                                                                                                  \n",
            " average_pooling2d_6 (AveragePo  (None, 240, 240, 3)  0          ['input_2[0][0]']                \n",
            " oling2D)                                                                                         \n",
            "                                                                                                  \n",
            " conv2d_22 (Conv2D)             (None, 240, 240, 64  3136        ['input_2[0][0]']                \n",
            "                                )                                                                 \n",
            "                                                                                                  \n",
            " conv2d_24 (Conv2D)             (None, 240, 240, 64  65600       ['conv2d_23[0][0]']              \n",
            "                                )                                                                 \n",
            "                                                                                                  \n",
            " concatenate_6 (Concatenate)    (None, 240, 240, 64  0           ['conv2d_21[0][0]',              \n",
            "                                )                                 'average_pooling2d_6[0][0]']    \n",
            "                                                                                                  \n",
            " add_6 (Add)                    (None, 240, 240, 64  0           ['conv2d_22[0][0]',              \n",
            "                                )                                 'conv2d_24[0][0]',              \n",
            "                                                                  'concatenate_6[0][0]']          \n",
            "                                                                                                  \n",
            " batch_normalization_5 (BatchNo  (None, 240, 240, 64  256        ['add_6[0][0]']                  \n",
            " rmalization)                   )                                                                 \n",
            "                                                                                                  \n",
            " conv2d_27 (Conv2D)             (None, 120, 120, 21  21525       ['batch_normalization_5[0][0]']  \n",
            "                                )                                                                 \n",
            "                                                                                                  \n",
            " conv2d_25 (Conv2D)             (None, 120, 120, 22  1430        ['batch_normalization_5[0][0]']  \n",
            "                                )                                                                 \n",
            "                                                                                                  \n",
            " conv2d_26 (Conv2D)             (None, 120, 120, 21  21525       ['batch_normalization_5[0][0]']  \n",
            "                                )                                                                 \n",
            "                                                                                                  \n",
            " conv2d_28 (Conv2D)             (None, 120, 120, 21  7077        ['conv2d_27[0][0]']              \n",
            "                                )                                                                 \n",
            "                                                                                                  \n",
            " average_pooling2d_7 (AveragePo  (None, 120, 120, 64  0          ['batch_normalization_5[0][0]']  \n",
            " oling2D)                       )                                                                 \n",
            "                                                                                                  \n",
            " concatenate_7 (Concatenate)    (None, 120, 120, 64  0           ['conv2d_25[0][0]',              \n",
            "                                )                                 'conv2d_26[0][0]',              \n",
            "                                                                  'conv2d_28[0][0]']              \n",
            "                                                                                                  \n",
            " add_7 (Add)                    (None, 120, 120, 64  0           ['average_pooling2d_7[0][0]',    \n",
            "                                )                                 'concatenate_7[0][0]']          \n",
            "                                                                                                  \n",
            " batch_normalization_6 (BatchNo  (None, 120, 120, 64  256        ['add_7[0][0]']                  \n",
            " rmalization)                   )                                                                 \n",
            "                                                                                                  \n",
            " conv2d_31 (Conv2D)             (None, 60, 60, 21)   21525       ['batch_normalization_6[0][0]']  \n",
            "                                                                                                  \n",
            " conv2d_29 (Conv2D)             (None, 60, 60, 22)   1430        ['batch_normalization_6[0][0]']  \n",
            "                                                                                                  \n",
            " conv2d_30 (Conv2D)             (None, 60, 60, 21)   21525       ['batch_normalization_6[0][0]']  \n",
            "                                                                                                  \n",
            " conv2d_32 (Conv2D)             (None, 60, 60, 21)   7077        ['conv2d_31[0][0]']              \n",
            "                                                                                                  \n",
            " average_pooling2d_8 (AveragePo  (None, 60, 60, 64)  0           ['batch_normalization_6[0][0]']  \n",
            " oling2D)                                                                                         \n",
            "                                                                                                  \n",
            " concatenate_8 (Concatenate)    (None, 60, 60, 64)   0           ['conv2d_29[0][0]',              \n",
            "                                                                  'conv2d_30[0][0]',              \n",
            "                                                                  'conv2d_32[0][0]']              \n",
            "                                                                                                  \n",
            " add_8 (Add)                    (None, 60, 60, 64)   0           ['average_pooling2d_8[0][0]',    \n",
            "                                                                  'concatenate_8[0][0]']          \n",
            "                                                                                                  \n",
            " batch_normalization_7 (BatchNo  (None, 60, 60, 64)  256         ['add_8[0][0]']                  \n",
            " rmalization)                                                                                     \n",
            "                                                                                                  \n",
            " conv2d_35 (Conv2D)             (None, 30, 30, 21)   21525       ['batch_normalization_7[0][0]']  \n",
            "                                                                                                  \n",
            " conv2d_33 (Conv2D)             (None, 30, 30, 22)   1430        ['batch_normalization_7[0][0]']  \n",
            "                                                                                                  \n",
            " conv2d_34 (Conv2D)             (None, 30, 30, 21)   21525       ['batch_normalization_7[0][0]']  \n",
            "                                                                                                  \n",
            " conv2d_36 (Conv2D)             (None, 30, 30, 21)   7077        ['conv2d_35[0][0]']              \n",
            "                                                                                                  \n",
            " average_pooling2d_9 (AveragePo  (None, 30, 30, 64)  0           ['batch_normalization_7[0][0]']  \n",
            " oling2D)                                                                                         \n",
            "                                                                                                  \n",
            " concatenate_9 (Concatenate)    (None, 30, 30, 64)   0           ['conv2d_33[0][0]',              \n",
            "                                                                  'conv2d_34[0][0]',              \n",
            "                                                                  'conv2d_36[0][0]']              \n",
            "                                                                                                  \n",
            " add_9 (Add)                    (None, 30, 30, 64)   0           ['average_pooling2d_9[0][0]',    \n",
            "                                                                  'concatenate_9[0][0]']          \n",
            "                                                                                                  \n",
            " average_pooling2d_10 (AverageP  (None, 30, 30, 3)   0           ['input_2[0][0]']                \n",
            " ooling2D)                                                                                        \n",
            "                                                                                                  \n",
            " concatenate_10 (Concatenate)   (None, 30, 30, 67)   0           ['add_9[0][0]',                  \n",
            "                                                                  'average_pooling2d_10[0][0]']   \n",
            "                                                                                                  \n",
            " batch_normalization_8 (BatchNo  (None, 30, 30, 67)  268         ['concatenate_10[0][0]']         \n",
            " rmalization)                                                                                     \n",
            "                                                                                                  \n",
            " conv2d_39 (Conv2D)             (None, 15, 15, 22)   23606       ['batch_normalization_8[0][0]']  \n",
            "                                                                                                  \n",
            " conv2d_37 (Conv2D)             (None, 15, 15, 23)   1564        ['batch_normalization_8[0][0]']  \n",
            "                                                                                                  \n",
            " conv2d_38 (Conv2D)             (None, 15, 15, 22)   23606       ['batch_normalization_8[0][0]']  \n",
            "                                                                                                  \n",
            " conv2d_40 (Conv2D)             (None, 15, 15, 22)   7766        ['conv2d_39[0][0]']              \n",
            "                                                                                                  \n",
            " average_pooling2d_11 (AverageP  (None, 15, 15, 67)  0           ['batch_normalization_8[0][0]']  \n",
            " ooling2D)                                                                                        \n",
            "                                                                                                  \n",
            " concatenate_11 (Concatenate)   (None, 15, 15, 67)   0           ['conv2d_37[0][0]',              \n",
            "                                                                  'conv2d_38[0][0]',              \n",
            "                                                                  'conv2d_40[0][0]']              \n",
            "                                                                                                  \n",
            " add_10 (Add)                   (None, 15, 15, 67)   0           ['average_pooling2d_11[0][0]',   \n",
            "                                                                  'concatenate_11[0][0]']         \n",
            "                                                                                                  \n",
            " batch_normalization_9 (BatchNo  (None, 15, 15, 67)  268         ['add_10[0][0]']                 \n",
            " rmalization)                                                                                     \n",
            "                                                                                                  \n",
            " conv2d_41 (Conv2D)             (None, 15, 15, 67)   40468       ['batch_normalization_9[0][0]']  \n",
            "                                                                                                  \n",
            " add_11 (Add)                   (None, 15, 15, 67)   0           ['conv2d_41[0][0]',              \n",
            "                                                                  'batch_normalization_9[0][0]']  \n",
            "                                                                                                  \n",
            " conv2d_42 (Conv2D)             (None, 15, 15, 67)   40468       ['add_11[0][0]']                 \n",
            "                                                                                                  \n",
            " add_12 (Add)                   (None, 15, 15, 67)   0           ['conv2d_42[0][0]',              \n",
            "                                                                  'add_11[0][0]']                 \n",
            "                                                                                                  \n",
            " batch_normalization_10 (BatchN  (None, 15, 15, 67)  268         ['add_12[0][0]']                 \n",
            " ormalization)                                                                                    \n",
            "                                                                                                  \n",
            " conv2d_43 (Conv2D)             (None, 15, 15, 67)   40468       ['batch_normalization_10[0][0]'] \n",
            "                                                                                                  \n",
            " add_13 (Add)                   (None, 15, 15, 67)   0           ['conv2d_43[0][0]',              \n",
            "                                                                  'batch_normalization_10[0][0]'] \n",
            "                                                                                                  \n",
            " global_max_pooling2d (GlobalMa  (None, 67)          0           ['add_13[0][0]']                 \n",
            " xPooling2D)                                                                                      \n",
            "                                                                                                  \n",
            " dense (Dense)                  (None, 128)          8704        ['global_max_pooling2d[0][0]']   \n",
            "                                                                                                  \n",
            " dense_1 (Dense)                (None, 20)           2580        ['dense[0][0]']                  \n",
            "                                                                                                  \n",
            "==================================================================================================\n",
            "Total params: 417,589\n",
            "Trainable params: 416,803\n",
            "Non-trainable params: 786\n",
            "__________________________________________________________________________________________________\n"
          ]
        }
      ]
    },
    {
      "cell_type": "code",
      "metadata": {
        "id": "zAWAFr1zkdHK"
      },
      "source": [
        "from tensorflow.keras.models import load_model\n",
        "modle = load_model(\"/content/drive/MyDrive/Tebame_第四組_機車辨識/機車辨識模型檔/selfmymodelV2_allclass_rigorous_480sz_run8.h5\")"
      ],
      "execution_count": null,
      "outputs": []
    },
    {
      "cell_type": "code",
      "metadata": {
        "id": "rZokKmoPwHDC"
      },
      "source": [
        "modle.layers[-5].trainable = False\n",
        "modle.layers[-7].trainable = False"
      ],
      "execution_count": null,
      "outputs": []
    },
    {
      "cell_type": "code",
      "metadata": {
        "colab": {
          "base_uri": "https://localhost:8080/"
        },
        "id": "fonXtJPWj5I_",
        "outputId": "1d222dec-b412-4448-dd9f-27c987b89f13"
      },
      "source": [
        "modle.evaluate_generator(test_generator, steps=1)"
      ],
      "execution_count": null,
      "outputs": [
        {
          "output_type": "stream",
          "name": "stderr",
          "text": [
            "/usr/local/lib/python3.7/dist-packages/ipykernel_launcher.py:1: UserWarning: `Model.evaluate_generator` is deprecated and will be removed in a future version. Please use `Model.evaluate`, which supports generators.\n",
            "  \"\"\"Entry point for launching an IPython kernel.\n"
          ]
        },
        {
          "output_type": "execute_result",
          "data": {
            "text/plain": [
              "[4.018142223358154, 1.0]"
            ]
          },
          "metadata": {},
          "execution_count": 23
        }
      ]
    },
    {
      "cell_type": "code",
      "metadata": {
        "colab": {
          "base_uri": "https://localhost:8080/",
          "height": 132
        },
        "id": "ysHX-Obls7z8",
        "outputId": "fd1edb12-2956-4ce3-ada2-034366676644"
      },
      "source": [
        "import requests\n",
        "from PIL import Image\n",
        "url = input(\"輸入網址\")\n",
        "tag = ['gp' , 'vivo' , 'gryphus6' , 'SR' , 'SL' , 'JOG' , 'BWS' , 'LIMI' , 'LIKE' , 'DRG' , 'FIDDLE' , 'S2' , 'S3' , 'VIVAMIX' , 'xml125' , 'JH' , 'KRV' , 'MANY' , 'Force' ,'xdj']\n",
        "response = requests.get(url, stream=True, verify=False)\n",
        "img = Image.open(response.raw).resize((480,480))\n",
        "img_np = preprocess_input(np.array(img.convert(\"RGB\")))\n",
        "img_np = img_np.reshape(1,,,3)\n",
        "print(img_np.shape)\n",
        "plt.imshow(img)\n",
        "a = modle.predict([img_np])\n",
        "print(\"預測:\", tag[np.argmax(a)])\n",
        "plt.imshow(img)"
      ],
      "execution_count": null,
      "outputs": [
        {
          "output_type": "error",
          "ename": "SyntaxError",
          "evalue": "ignored",
          "traceback": [
            "\u001b[0;36m  File \u001b[0;32m\"<ipython-input-24-464d6616fc15>\"\u001b[0;36m, line \u001b[0;32m8\u001b[0m\n\u001b[0;31m    img_np = img_np.reshape(1,,,3)\u001b[0m\n\u001b[0m                              ^\u001b[0m\n\u001b[0;31mSyntaxError\u001b[0m\u001b[0;31m:\u001b[0m invalid syntax\n"
          ]
        }
      ]
    },
    {
      "cell_type": "code",
      "metadata": {
        "colab": {
          "base_uri": "https://localhost:8080/",
          "height": 301
        },
        "id": "etfXu_DUqfXx",
        "outputId": "63106f0a-3d52-4fa9-a1e3-d1e50255193e"
      },
      "source": [
        "import requests\n",
        "from PIL import Image\n",
        "url = input(\"輸入網址\")\n",
        "response = requests.get(url, stream=True, verify=False)\n",
        "img = Image.open(response.raw).resize((,))\n",
        "img_np = preprocess_input(np.array(img))\n",
        "img_np = img_np.reshape([1,244,244,3])\n",
        "print(\"預測:\", modle.predict(img_np))\n",
        "plt.imshow(img, cmap=\"gray\")"
      ],
      "execution_count": null,
      "outputs": [
        {
          "name": "stdout",
          "output_type": "stream",
          "text": [
            "輸入網址https://www.tournii.asia/images/thumbs/0015658_gp-125-_600.jpeg\n"
          ]
        },
        {
          "output_type": "stream",
          "name": "stderr",
          "text": [
            "/usr/local/lib/python3.7/dist-packages/urllib3/connectionpool.py:847: InsecureRequestWarning: Unverified HTTPS request is being made. Adding certificate verification is strongly advised. See: https://urllib3.readthedocs.io/en/latest/advanced-usage.html#ssl-warnings\n",
            "  InsecureRequestWarning)\n"
          ]
        },
        {
          "output_type": "error",
          "ename": "ValueError",
          "evalue": "ignored",
          "traceback": [
            "\u001b[0;31m---------------------------------------------------------------------------\u001b[0m",
            "\u001b[0;31mValueError\u001b[0m                                Traceback (most recent call last)",
            "\u001b[0;32m<ipython-input-19-7f69c2bf9eb1>\u001b[0m in \u001b[0;36m<module>\u001b[0;34m()\u001b[0m\n\u001b[1;32m      5\u001b[0m \u001b[0mimg\u001b[0m \u001b[0;34m=\u001b[0m \u001b[0mImage\u001b[0m\u001b[0;34m.\u001b[0m\u001b[0mopen\u001b[0m\u001b[0;34m(\u001b[0m\u001b[0mresponse\u001b[0m\u001b[0;34m.\u001b[0m\u001b[0mraw\u001b[0m\u001b[0;34m)\u001b[0m\u001b[0;34m.\u001b[0m\u001b[0mresize\u001b[0m\u001b[0;34m(\u001b[0m\u001b[0;34m(\u001b[0m\u001b[0;36m224\u001b[0m\u001b[0;34m,\u001b[0m\u001b[0;36m224\u001b[0m\u001b[0;34m)\u001b[0m\u001b[0;34m)\u001b[0m\u001b[0;34m\u001b[0m\u001b[0;34m\u001b[0m\u001b[0m\n\u001b[1;32m      6\u001b[0m \u001b[0mimg_np\u001b[0m \u001b[0;34m=\u001b[0m \u001b[0mpreprocess_input\u001b[0m\u001b[0;34m(\u001b[0m\u001b[0mnp\u001b[0m\u001b[0;34m.\u001b[0m\u001b[0marray\u001b[0m\u001b[0;34m(\u001b[0m\u001b[0mimg\u001b[0m\u001b[0;34m)\u001b[0m\u001b[0;34m)\u001b[0m\u001b[0;34m\u001b[0m\u001b[0;34m\u001b[0m\u001b[0m\n\u001b[0;32m----> 7\u001b[0;31m \u001b[0mimg_np\u001b[0m \u001b[0;34m=\u001b[0m \u001b[0mimg_np\u001b[0m\u001b[0;34m.\u001b[0m\u001b[0mreshape\u001b[0m\u001b[0;34m(\u001b[0m\u001b[0;34m[\u001b[0m\u001b[0;36m1\u001b[0m\u001b[0;34m,\u001b[0m\u001b[0;36m244\u001b[0m\u001b[0;34m,\u001b[0m\u001b[0;36m244\u001b[0m\u001b[0;34m,\u001b[0m\u001b[0;36m3\u001b[0m\u001b[0;34m]\u001b[0m\u001b[0;34m)\u001b[0m\u001b[0;34m\u001b[0m\u001b[0;34m\u001b[0m\u001b[0m\n\u001b[0m\u001b[1;32m      8\u001b[0m \u001b[0mprint\u001b[0m\u001b[0;34m(\u001b[0m\u001b[0;34m\"預測:\"\u001b[0m\u001b[0;34m,\u001b[0m \u001b[0mmodle\u001b[0m\u001b[0;34m.\u001b[0m\u001b[0mpredict\u001b[0m\u001b[0;34m(\u001b[0m\u001b[0mimg_np\u001b[0m\u001b[0;34m)\u001b[0m\u001b[0;34m)\u001b[0m\u001b[0;34m\u001b[0m\u001b[0;34m\u001b[0m\u001b[0m\n\u001b[1;32m      9\u001b[0m \u001b[0mplt\u001b[0m\u001b[0;34m.\u001b[0m\u001b[0mimshow\u001b[0m\u001b[0;34m(\u001b[0m\u001b[0mimg\u001b[0m\u001b[0;34m,\u001b[0m \u001b[0mcmap\u001b[0m\u001b[0;34m=\u001b[0m\u001b[0;34m\"gray\"\u001b[0m\u001b[0;34m)\u001b[0m\u001b[0;34m\u001b[0m\u001b[0;34m\u001b[0m\u001b[0m\n",
            "\u001b[0;31mValueError\u001b[0m: cannot reshape array of size 150528 into shape (1,244,244,3)"
          ]
        }
      ]
    },
    {
      "cell_type": "code",
      "metadata": {
        "id": "rj02IubUlGKT",
        "colab": {
          "base_uri": "https://localhost:8080/",
          "height": 214
        },
        "outputId": "a763abc3-1d6d-4240-b4ce-121d72a201ba"
      },
      "source": [
        "ori_imgs = []\n",
        "for p in x_test:\n",
        "    img = Image.open(p).resize((, )).convert(\"RGB\")\n",
        "    ori_imgs.append(np.array(img))\n",
        "ori_imgs = np.array(ori_imgs)\n",
        "preprocess_imgs = preprocess_input(ori_imgs)\n",
        "\n",
        "pre = model.predict(preprocess_imgs)\n",
        "\n"
      ],
      "execution_count": null,
      "outputs": [
        {
          "output_type": "error",
          "ename": "NameError",
          "evalue": "ignored",
          "traceback": [
            "\u001b[0;31m---------------------------------------------------------------------------\u001b[0m",
            "\u001b[0;31mNameError\u001b[0m                                 Traceback (most recent call last)",
            "\u001b[0;32m<ipython-input-30-c05320115a0c>\u001b[0m in \u001b[0;36m<module>\u001b[0;34m()\u001b[0m\n\u001b[1;32m      6\u001b[0m \u001b[0mpreprocess_imgs\u001b[0m \u001b[0;34m=\u001b[0m \u001b[0mpreprocess_input\u001b[0m\u001b[0;34m(\u001b[0m\u001b[0mori_imgs\u001b[0m\u001b[0;34m)\u001b[0m\u001b[0;34m\u001b[0m\u001b[0;34m\u001b[0m\u001b[0m\n\u001b[1;32m      7\u001b[0m \u001b[0;34m\u001b[0m\u001b[0m\n\u001b[0;32m----> 8\u001b[0;31m \u001b[0mpre\u001b[0m \u001b[0;34m=\u001b[0m \u001b[0mmodel\u001b[0m\u001b[0;34m.\u001b[0m\u001b[0mpredict\u001b[0m\u001b[0;34m(\u001b[0m\u001b[0mpreprocess_imgs\u001b[0m\u001b[0;34m)\u001b[0m\u001b[0;34m\u001b[0m\u001b[0;34m\u001b[0m\u001b[0m\n\u001b[0m\u001b[1;32m      9\u001b[0m \u001b[0;34m\u001b[0m\u001b[0m\n",
            "\u001b[0;31mNameError\u001b[0m: name 'model' is not defined"
          ]
        }
      ]
    },
    {
      "cell_type": "code",
      "metadata": {
        "id": "i3xlSmZkRh9S"
      },
      "source": [
        "pre = pre.argmax(axis=1)"
      ],
      "execution_count": null,
      "outputs": []
    },
    {
      "cell_type": "code",
      "metadata": {
        "id": "OYj1_Dg2NkTG"
      },
      "source": [
        "trans = [\"gp\", \"vivo\", \"gryphus6\", \"SR\", \"DRG\", \"FIDDLE\", \"S2\"]\n",
        " # gp + vivo + gryphus6 + SR + DRG + FIDDLE + S2\n",
        "idx = np.nonzero(pre != y_test)[0]\n",
        "pre_false_img = ori_imgs[idx]\n",
        "pre_false_val = pre[idx]\n",
        "pre_false_ori = y_test[idx]\n",
        "\n",
        "plt.figure(figsize=(15, 15))\n",
        "width = 10\n",
        "height = len(idx) // width + 1\n",
        "for i in range(len(idx)):\n",
        "    plt.subplot(height, width, i+1)\n",
        "    t = \"[O]:{}\\n[P]:{}\".format(trans[pre_false_ori[i]],\n",
        "                                trans[pre_false_val[i]])\n",
        "    plt.title(t)\n",
        "    plt.axis(\"off\")\n",
        "    plt.imshow(pre_false_img[i])\n"
      ],
      "execution_count": null,
      "outputs": []
    },
    {
      "cell_type": "code",
      "metadata": {
        "id": "-nFnhFduWCe7"
      },
      "source": [
        "import pandas as pd\n",
        "from sklearn.metrics import confusion_matrix\n",
        "mat = confusion_matrix(y_test, pre)\n",
        "pd.DataFrame(\n",
        "        mat,\n",
        "        index=[\"{}(正確)\".format(trans[i]) for i in range(7)],\n",
        "        columns=[\"{}(預測)\".format(trans[i]) for i in range(7)]\n",
        ")"
      ],
      "execution_count": null,
      "outputs": []
    },
    {
      "cell_type": "code",
      "metadata": {
        "id": "BCsJGileOuHS"
      },
      "source": [
        "import requests\n",
        "url = input(\"Enter:\")\n",
        "response = requests.get(url, stream=True, verify=False)\n",
        "img = Image.open(response.raw).resize((, )).convert(\"RGB\")\n",
        "img_np = preprocess_input(np.array(img).reshape(1, , , 3))\n",
        "proba = model.predict(img_np)\n",
        "ans = proba.argmax(axis=1)\n",
        "print(\"預測:\", trans[ans[0]])\n",
        "print(\"機率:\", proba[0])\n",
        "plt.imshow(img)\n",
        "#trans = [\"gp\", \"vivo\", \"gryphus6\", \"SR\", \"DRG\", \"FIDDLE\", \"S2\"]"
      ],
      "execution_count": null,
      "outputs": []
    },
    {
      "cell_type": "code",
      "metadata": {
        "id": "jfjT8VfHp9Q8"
      },
      "source": [
        "#01:33:12"
      ],
      "execution_count": null,
      "outputs": []
    }
  ]
}