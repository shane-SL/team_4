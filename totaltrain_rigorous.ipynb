{
  "nbformat": 4,
  "nbformat_minor": 0,
  "metadata": {
    "colab": {
      "name": "totaltrain_rigorous.ipynb",
      "provenance": [],
      "collapsed_sections": [],
      "include_colab_link": true
    },
    "kernelspec": {
      "name": "python3",
      "display_name": "Python 3"
    },
    "language_info": {
      "name": "python"
    },
    "accelerator": "GPU"
  },
  "cells": [
    {
      "cell_type": "markdown",
      "metadata": {
        "id": "view-in-github",
        "colab_type": "text"
      },
      "source": [
        "<a href=\"https://colab.research.google.com/github/shane-SL/team_4/blob/main/totaltrain_rigorous.ipynb\" target=\"_parent\"><img src=\"https://colab.research.google.com/assets/colab-badge.svg\" alt=\"Open In Colab\"/></a>"
      ]
    },
    {
      "cell_type": "code",
      "metadata": {
        "colab": {
          "base_uri": "https://localhost:8080/"
        },
        "id": "h6e-rVw9RTNv",
        "outputId": "93055503-8d64-46da-c45d-3d9f4503edea"
      },
      "source": [
        "from google.colab import drive\n",
        "drive.mount('/content/drive')"
      ],
      "execution_count": null,
      "outputs": [
        {
          "output_type": "stream",
          "name": "stdout",
          "text": [
            "Mounted at /content/drive\n"
          ]
        }
      ]
    },
    {
      "cell_type": "markdown",
      "metadata": {
        "id": "4Saheu0D42Me"
      },
      "source": [
        "## 讀取 google drive圖檔 :"
      ]
    },
    {
      "cell_type": "code",
      "metadata": {
        "id": "7cJlniYJUsWj"
      },
      "source": [
        "import glob\n",
        "# GP125\n",
        "gp = glob.glob(\"/content/drive/MyDrive/Tebame_第四組_機車辨識/嚴選資料集/KYMCO_GP_125_裁/*\")\n",
        "\n",
        "# 活力 125 原始+ 裁\n",
        "vivo = glob.glob(\"/content/drive/MyDrive/Tebame_第四組_機車辨識/嚴選資料集/SYM_活力_125_裁/*\")\n",
        "\n",
        "# 勁戰六代 原始+ 裁\n",
        "gryphus6 = glob.glob(\"/content/drive/MyDrive/Tebame_第四組_機車辨識/嚴選資料集/YAMAHA_六代勁戰_125_裁/*\")\n",
        "\n",
        "# SYM JET SR  ...\n",
        "SR = glob.glob(\"/content/drive/MyDrive/Tebame_第四組_機車辨識/嚴選資料集/SYM_JET_SR_125_裁/*\")\n",
        "\n",
        "# SYM JET SL  ...\n",
        "SL = glob.glob(\"/content/drive/MyDrive/Tebame_第四組_機車辨識/嚴選資料集/SYM_JET_SL_125_裁/*\")\n",
        "\n",
        "# YAMAHA JOG  ...\n",
        "JOG = glob.glob(\"/content/drive/MyDrive/Tebame_第四組_機車辨識/嚴選資料集/YAMAHA_JOG_125_裁/*\")\n",
        "\n",
        "# YAMAHA BWS  ...\n",
        "BWS = glob.glob(\"/content/drive/MyDrive/Tebame_第四組_機車辨識/嚴選資料集/YAMAHA_BWS_125_裁/*\")\n",
        "\n",
        "# YAMAHA LIMI  ...\n",
        "LIMI = glob.glob(\"/content/drive/MyDrive/Tebame_第四組_機車辨識/嚴選資料集/YAMAHA_LIMI_125_已裁減/*\")\n",
        "\n",
        "# KYMCO LIKE\n",
        "LIKE = glob.glob(\"/content/drive/MyDrive/Tebame_第四組_機車辨識/嚴選資料集/KYMCO_LIKE_125_裁/*\")\n",
        "\n",
        "# DRG\n",
        "DRG = glob.glob(\"/content/drive/MyDrive/Tebame_第四組_機車辨識/嚴選資料集/SYM_DRG_裁/*\") \n",
        "\n",
        "# FIDDLE\n",
        "FIDDLE = glob.glob(\"/content/drive/MyDrive/Tebame_第四組_機車辨識/嚴選資料集/SYM_FIDDLE_125_裁/*\") \n",
        "\n",
        "# gogoro S2\n",
        "S2 = glob.glob(\"/content/drive/MyDrive/Tebame_第四組_機車辨識/嚴選資料集/GOGORO_S2_裁/*\")\n",
        "\n",
        "# gogoro S3\n",
        "S3 = glob.glob(\"/content/drive/MyDrive/Tebame_第四組_機車辨識/嚴選資料集/GOGORO_S3_裁/*\")\n",
        "\n",
        "# gogoro VIVA_MIX\n",
        "VIVAMIX = glob.glob(\"/content/drive/MyDrive/Tebame_第四組_機車辨識/嚴選資料集/GOGORO_VIVA_MIX_裁/*\")\n",
        "\n",
        "# 新名流125\n",
        "xml125 = glob.glob(\"/content/drive/MyDrive/Tebame_第四組_機車辨識/嚴選資料集/KYMCO_新名流125_裁/*\")\n",
        "\n",
        "# YAMAHA 勁豪\n",
        "JH = glob.glob(\"/content/drive/MyDrive/Tebame_第四組_機車辨識/嚴選資料集/YAMAHA_勁豪_125_裁/*\")\n",
        "\n",
        "# KRV\n",
        "KRV = glob.glob(\"/content/drive/MyDrive/Tebame_第四組_機車辨識/嚴選資料集/KYMCO_KRV_裁/*\")\n",
        "\n",
        "# KYMCO MANY\n",
        "MANY = glob.glob(\"/content/drive/MyDrive/Tebame_第四組_機車辨識/嚴選資料集/KYMCO_MANY_125_裁/*\")\n",
        "\n",
        "# YAMAHA FORCE\n",
        "Force = glob.glob(\"/content/drive/MyDrive/Tebame_第四組_機車辨識/嚴選資料集/YAMAHA_FORCE_裁/*\")\n",
        "\n",
        "# SYM 新迪爵\n",
        "xdj = glob.glob(\"/content/drive/MyDrive/Tebame_第四組_機車辨識/嚴選資料集/SYM_新迪爵_125 _裁/*\")\n",
        "\n"
      ],
      "execution_count": null,
      "outputs": []
    },
    {
      "cell_type": "code",
      "metadata": {
        "colab": {
          "base_uri": "https://localhost:8080/",
          "height": 417
        },
        "id": "blqX5AMgVAOs",
        "outputId": "2b28aa67-8c3e-47e6-c3e7-53b425b0f7c1"
      },
      "source": [
        "import pandas as pd\n",
        "df = pd.DataFrame({\n",
        "    \"path\": gp + vivo + gryphus6 + SR + SL + JOG + BWS + LIMI + LIKE + DRG + FIDDLE + S2 + S3 + VIVAMIX + xml125 + JH + KRV + MANY + Force +xdj,\n",
        "    \"ans\": [0] * len(gp) + [1] * len(vivo) + [2] * len(gryphus6) + [3] * len(SR) + [4] * len(SL) + [5] * len(JOG) + [6] * len(BWS) + [7] * len(LIMI) + [8] * len(LIKE) + [9] * len(DRG) + [10] * len(FIDDLE) + [11] * len(S2) + [12] * len(S3) + [13] * len(VIVAMIX) + [14] * len(xml125) + [15] * len(JH) + [16] * len(KRV) + [17] * len(MANY) + [18] * len(Force) + [19] * len(xdj)\n",
        "})\n",
        "df"
      ],
      "execution_count": null,
      "outputs": [
        {
          "output_type": "execute_result",
          "data": {
            "text/html": [
              "<div>\n",
              "<style scoped>\n",
              "    .dataframe tbody tr th:only-of-type {\n",
              "        vertical-align: middle;\n",
              "    }\n",
              "\n",
              "    .dataframe tbody tr th {\n",
              "        vertical-align: top;\n",
              "    }\n",
              "\n",
              "    .dataframe thead th {\n",
              "        text-align: right;\n",
              "    }\n",
              "</style>\n",
              "<table border=\"1\" class=\"dataframe\">\n",
              "  <thead>\n",
              "    <tr style=\"text-align: right;\">\n",
              "      <th></th>\n",
              "      <th>path</th>\n",
              "      <th>ans</th>\n",
              "    </tr>\n",
              "  </thead>\n",
              "  <tbody>\n",
              "    <tr>\n",
              "      <th>0</th>\n",
              "      <td>/content/drive/MyDrive/Tebame_第四組_機車辨識/嚴選資料集/K...</td>\n",
              "      <td>0</td>\n",
              "    </tr>\n",
              "    <tr>\n",
              "      <th>1</th>\n",
              "      <td>/content/drive/MyDrive/Tebame_第四組_機車辨識/嚴選資料集/K...</td>\n",
              "      <td>0</td>\n",
              "    </tr>\n",
              "    <tr>\n",
              "      <th>2</th>\n",
              "      <td>/content/drive/MyDrive/Tebame_第四組_機車辨識/嚴選資料集/K...</td>\n",
              "      <td>0</td>\n",
              "    </tr>\n",
              "    <tr>\n",
              "      <th>3</th>\n",
              "      <td>/content/drive/MyDrive/Tebame_第四組_機車辨識/嚴選資料集/K...</td>\n",
              "      <td>0</td>\n",
              "    </tr>\n",
              "    <tr>\n",
              "      <th>4</th>\n",
              "      <td>/content/drive/MyDrive/Tebame_第四組_機車辨識/嚴選資料集/K...</td>\n",
              "      <td>0</td>\n",
              "    </tr>\n",
              "    <tr>\n",
              "      <th>...</th>\n",
              "      <td>...</td>\n",
              "      <td>...</td>\n",
              "    </tr>\n",
              "    <tr>\n",
              "      <th>5950</th>\n",
              "      <td>/content/drive/MyDrive/Tebame_第四組_機車辨識/嚴選資料集/S...</td>\n",
              "      <td>19</td>\n",
              "    </tr>\n",
              "    <tr>\n",
              "      <th>5951</th>\n",
              "      <td>/content/drive/MyDrive/Tebame_第四組_機車辨識/嚴選資料集/S...</td>\n",
              "      <td>19</td>\n",
              "    </tr>\n",
              "    <tr>\n",
              "      <th>5952</th>\n",
              "      <td>/content/drive/MyDrive/Tebame_第四組_機車辨識/嚴選資料集/S...</td>\n",
              "      <td>19</td>\n",
              "    </tr>\n",
              "    <tr>\n",
              "      <th>5953</th>\n",
              "      <td>/content/drive/MyDrive/Tebame_第四組_機車辨識/嚴選資料集/S...</td>\n",
              "      <td>19</td>\n",
              "    </tr>\n",
              "    <tr>\n",
              "      <th>5954</th>\n",
              "      <td>/content/drive/MyDrive/Tebame_第四組_機車辨識/嚴選資料集/S...</td>\n",
              "      <td>19</td>\n",
              "    </tr>\n",
              "  </tbody>\n",
              "</table>\n",
              "<p>5955 rows × 2 columns</p>\n",
              "</div>"
            ],
            "text/plain": [
              "                                                   path  ans\n",
              "0     /content/drive/MyDrive/Tebame_第四組_機車辨識/嚴選資料集/K...    0\n",
              "1     /content/drive/MyDrive/Tebame_第四組_機車辨識/嚴選資料集/K...    0\n",
              "2     /content/drive/MyDrive/Tebame_第四組_機車辨識/嚴選資料集/K...    0\n",
              "3     /content/drive/MyDrive/Tebame_第四組_機車辨識/嚴選資料集/K...    0\n",
              "4     /content/drive/MyDrive/Tebame_第四組_機車辨識/嚴選資料集/K...    0\n",
              "...                                                 ...  ...\n",
              "5950  /content/drive/MyDrive/Tebame_第四組_機車辨識/嚴選資料集/S...   19\n",
              "5951  /content/drive/MyDrive/Tebame_第四組_機車辨識/嚴選資料集/S...   19\n",
              "5952  /content/drive/MyDrive/Tebame_第四組_機車辨識/嚴選資料集/S...   19\n",
              "5953  /content/drive/MyDrive/Tebame_第四組_機車辨識/嚴選資料集/S...   19\n",
              "5954  /content/drive/MyDrive/Tebame_第四組_機車辨識/嚴選資料集/S...   19\n",
              "\n",
              "[5955 rows x 2 columns]"
            ]
          },
          "metadata": {},
          "execution_count": 3
        }
      ]
    },
    {
      "cell_type": "markdown",
      "metadata": {
        "id": "YnwjOmMTWDfb"
      },
      "source": [
        "#### 偷別人卷積網路 :\n",
        "###### google keras application"
      ]
    },
    {
      "cell_type": "code",
      "metadata": {
        "id": "XeAyL9wcWJGQ",
        "colab": {
          "base_uri": "https://localhost:8080/"
        },
        "outputId": "e6220130-6fa3-4fb2-e05b-5245cb6939fd"
      },
      "source": [
        "from tensorflow.keras.applications.vgg16 import VGG16  # 偷別人眼睛\n",
        "basemodle = VGG16(weights='imagenet', include_top=False,input_shape=(224,224,3))\n",
        "#basemodle.summary()"
      ],
      "execution_count": null,
      "outputs": [
        {
          "output_type": "stream",
          "name": "stdout",
          "text": [
            "Downloading data from https://storage.googleapis.com/tensorflow/keras-applications/vgg16/vgg16_weights_tf_dim_ordering_tf_kernels_notop.h5\n",
            "58892288/58889256 [==============================] - 1s 0us/step\n",
            "58900480/58889256 [==============================] - 1s 0us/step\n"
          ]
        }
      ]
    },
    {
      "cell_type": "markdown",
      "metadata": {
        "id": "5d_HP00CX04p"
      },
      "source": [
        "##### 高參數 =>訓練資料要多\n",
        "##### 低參數 =>訓練資料要少"
      ]
    },
    {
      "cell_type": "markdown",
      "metadata": {
        "id": "nvjHIa9RX9IL"
      },
      "source": [
        "#####開始疊層數"
      ]
    },
    {
      "cell_type": "code",
      "metadata": {
        "colab": {
          "base_uri": "https://localhost:8080/"
        },
        "id": "RzPXEjJ9YxAH",
        "outputId": "c6ede62b-2e97-40c5-9e2c-046232004a0f"
      },
      "source": [
        "from tensorflow.keras.models import Model, Sequential\n",
        "from tensorflow.keras.layers import Dense, BatchNormalization, Layer, GlobalAvgPool2D, LeakyReLU, Conv2D\n",
        "for i in basemodle.layers:\n",
        "  i.trainable = False\n",
        "basemodle.summary()"
      ],
      "execution_count": null,
      "outputs": [
        {
          "output_type": "stream",
          "name": "stdout",
          "text": [
            "Model: \"vgg16\"\n",
            "_________________________________________________________________\n",
            "Layer (type)                 Output Shape              Param #   \n",
            "=================================================================\n",
            "input_1 (InputLayer)         [(None, 224, 224, 3)]     0         \n",
            "_________________________________________________________________\n",
            "block1_conv1 (Conv2D)        (None, 224, 224, 64)      1792      \n",
            "_________________________________________________________________\n",
            "block1_conv2 (Conv2D)        (None, 224, 224, 64)      36928     \n",
            "_________________________________________________________________\n",
            "block1_pool (MaxPooling2D)   (None, 112, 112, 64)      0         \n",
            "_________________________________________________________________\n",
            "block2_conv1 (Conv2D)        (None, 112, 112, 128)     73856     \n",
            "_________________________________________________________________\n",
            "block2_conv2 (Conv2D)        (None, 112, 112, 128)     147584    \n",
            "_________________________________________________________________\n",
            "block2_pool (MaxPooling2D)   (None, 56, 56, 128)       0         \n",
            "_________________________________________________________________\n",
            "block3_conv1 (Conv2D)        (None, 56, 56, 256)       295168    \n",
            "_________________________________________________________________\n",
            "block3_conv2 (Conv2D)        (None, 56, 56, 256)       590080    \n",
            "_________________________________________________________________\n",
            "block3_conv3 (Conv2D)        (None, 56, 56, 256)       590080    \n",
            "_________________________________________________________________\n",
            "block3_pool (MaxPooling2D)   (None, 28, 28, 256)       0         \n",
            "_________________________________________________________________\n",
            "block4_conv1 (Conv2D)        (None, 28, 28, 512)       1180160   \n",
            "_________________________________________________________________\n",
            "block4_conv2 (Conv2D)        (None, 28, 28, 512)       2359808   \n",
            "_________________________________________________________________\n",
            "block4_conv3 (Conv2D)        (None, 28, 28, 512)       2359808   \n",
            "_________________________________________________________________\n",
            "block4_pool (MaxPooling2D)   (None, 14, 14, 512)       0         \n",
            "_________________________________________________________________\n",
            "block5_conv1 (Conv2D)        (None, 14, 14, 512)       2359808   \n",
            "_________________________________________________________________\n",
            "block5_conv2 (Conv2D)        (None, 14, 14, 512)       2359808   \n",
            "_________________________________________________________________\n",
            "block5_conv3 (Conv2D)        (None, 14, 14, 512)       2359808   \n",
            "_________________________________________________________________\n",
            "block5_pool (MaxPooling2D)   (None, 7, 7, 512)         0         \n",
            "=================================================================\n",
            "Total params: 14,714,688\n",
            "Trainable params: 0\n",
            "Non-trainable params: 14,714,688\n",
            "_________________________________________________________________\n"
          ]
        }
      ]
    },
    {
      "cell_type": "code",
      "metadata": {
        "colab": {
          "base_uri": "https://localhost:8080/"
        },
        "id": "bBenDtzUBCDK",
        "outputId": "eaf918e1-e6a1-4054-c0b0-c2aa614f9556"
      },
      "source": [
        "from tensorflow.keras.models import Model\n",
        "from tensorflow.keras.layers import Dense, BatchNormalization, Layer, GlobalMaxPool2D, LeakyReLU, Conv2D, Input, Concatenate, Add, AveragePooling2D, Dense, MaxPool2D\n",
        "\n",
        "selfmodelinput = Input(shape=(224,224,3))\n",
        "conv1x1_0_0 = Conv2D(29,1,padding=\"same\",activation=LeakyReLU(alpha=0.25),strides=2)(selfmodelinput)\n",
        "conv4x4_0_0 = Conv2D(32,4,padding=\"same\",activation=LeakyReLU(alpha=0.25),strides=2)(selfmodelinput)\n",
        "conv4x4_0_1 = Conv2D(32,4,padding=\"same\",activation=LeakyReLU(alpha=0.25),strides=2)(selfmodelinput)\n",
        "conv4x4_0_2 = Conv2D(32,4,padding=\"same\",activation=LeakyReLU(alpha=0.25),strides=1)(conv4x4_0_1)\n",
        "avgpool0 = AveragePooling2D(pool_size=(2,2))(selfmodelinput)\n",
        "concat0 = Concatenate(axis=-1)([conv1x1_0_0,avgpool0])\n",
        "add0 = Add()([conv4x4_0_0,conv4x4_0_2,concat0])\n",
        "bn0 = BatchNormalization(axis=-1)(add0)\n",
        "conv1x1_1_0 = Conv2D(12,1,padding=\"same\",activation=LeakyReLU(alpha=0.25),strides=2)(bn0)\n",
        "conv4x4_1_0 = Conv2D(10,4,padding=\"same\",activation=LeakyReLU(alpha=0.25),strides=2)(bn0)\n",
        "conv4x4_1_1 = Conv2D(10,4,padding=\"same\",activation=LeakyReLU(alpha=0.25),strides=2)(bn0)\n",
        "conv4x4_1_2 = Conv2D(10,4,padding=\"same\",activation=LeakyReLU(alpha=0.25),strides=1)(conv4x4_1_1)\n",
        "avgpool1 = AveragePooling2D(pool_size=(2,2))(bn0)\n",
        "concat1 = Concatenate(axis=-1)([conv1x1_1_0,conv4x4_1_0,conv4x4_1_2])\n",
        "add1 = Add()([avgpool1,concat1])\n",
        "bn1 = BatchNormalization(axis=-1)(add1)\n",
        "conv1x1_2_0 = Conv2D(12,1,padding=\"same\",activation=LeakyReLU(alpha=0.25),strides=2)(bn1)\n",
        "conv4x4_2_0 = Conv2D(10,4,padding=\"same\",activation=LeakyReLU(alpha=0.25),strides=2)(bn1)\n",
        "conv4x4_2_1 = Conv2D(10,4,padding=\"same\",activation=LeakyReLU(alpha=0.25),strides=2)(bn1)\n",
        "conv4x4_2_2 = Conv2D(10,4,padding=\"same\",activation=LeakyReLU(alpha=0.25),strides=1)(conv4x4_2_1)\n",
        "avgpool2 = AveragePooling2D(pool_size=(2,2))(bn1)\n",
        "concat2 = Concatenate(axis=-1)([conv1x1_2_0,conv4x4_2_0,conv4x4_2_2])\n",
        "add2 = Add()([avgpool2,concat2])\n",
        "bn2 = BatchNormalization(axis=-1)(add2)\n",
        "conv1x1_3_0 = Conv2D(12,1,padding=\"same\",activation=LeakyReLU(alpha=0.25),strides=2)(bn2)\n",
        "conv4x4_3_0 = Conv2D(10,4,padding=\"same\",activation=LeakyReLU(alpha=0.25),strides=2)(bn2)\n",
        "conv4x4_3_1 = Conv2D(10,4,padding=\"same\",activation=LeakyReLU(alpha=0.25),strides=2)(bn2)\n",
        "conv4x4_3_2 = Conv2D(10,4,padding=\"same\",activation=LeakyReLU(alpha=0.25),strides=1)(conv4x4_3_1)\n",
        "avgpool3 = AveragePooling2D(pool_size=(2,2))(bn2)\n",
        "avgpool3_0 = AveragePooling2D(pool_size=(16,16))(selfmodelinput)\n",
        "concat3 = Concatenate(axis=-1)([conv1x1_3_0,conv4x4_3_0,conv4x4_3_2])\n",
        "add3 = Add()([avgpool3,concat3])\n",
        "concat3_0 = Concatenate(axis=-1)([add3,avgpool3_0])\n",
        "bn3 = BatchNormalization(axis=-1)(concat3_0)\n",
        "conv1x1_4_0 = Conv2D(12,1,padding=\"same\",activation=LeakyReLU(alpha=0.25),strides=2)(bn3)\n",
        "conv4x4_4_0 = Conv2D(12,4,padding=\"same\",activation=LeakyReLU(alpha=0.25),strides=2)(bn3)\n",
        "conv4x4_4_1 = Conv2D(11,4,padding=\"same\",activation=LeakyReLU(alpha=0.25),strides=2)(bn3)\n",
        "conv4x4_4_2 = Conv2D(11,4,padding=\"same\",activation=LeakyReLU(alpha=0.25),strides=1)(conv4x4_4_1)\n",
        "avgpool4 = AveragePooling2D(pool_size=(2,2))(bn3)\n",
        "concat4 = Concatenate(axis=-1)([conv1x1_4_0,conv4x4_4_0,conv4x4_4_2])\n",
        "add4 = Add()([avgpool4,concat4])\n",
        "bn4 = BatchNormalization(axis=-1)(add4)\n",
        "gp = GlobalMaxPool2D()(bn4)\n",
        "\n",
        "conv3x3_e_0_0 = Conv2D(16,3,padding=\"same\",activation=LeakyReLU(alpha=0.25),strides=1)(selfmodelinput)\n",
        "conv3x3_e_0_1 = Conv2D(16,3,padding=\"same\",activation=LeakyReLU(alpha=0.25),strides=2)(conv3x3_e_0_0)\n",
        "bn_e0 = BatchNormalization(axis=-1)(conv3x3_e_0_1)\n",
        "conv3x3_e_1_0 = Conv2D(16,3,padding=\"same\",activation=LeakyReLU(alpha=0.25),strides=1)(bn_e0)\n",
        "conv3x3_e_1_1 = Conv2D(16,3,padding=\"same\",activation=LeakyReLU(alpha=0.25),strides=2)(conv3x3_e_1_0)\n",
        "maxpool_e_1_1 = MaxPool2D(pool_size=(2,2))(bn_e0)\n",
        "add_e_1 = Add()([conv3x3_e_1_1,maxpool_e_1_1])\n",
        "bn_e1 = BatchNormalization(axis=-1)(add_e_1)\n",
        "conv3x3_e_2_0 = Conv2D(16,3,padding=\"same\",activation=LeakyReLU(alpha=0.25),strides=1)(bn_e1)\n",
        "conv3x3_e_2_1 = Conv2D(16,3,padding=\"same\",activation=LeakyReLU(alpha=0.25),strides=2)(conv3x3_e_2_0)\n",
        "maxpool_e_2_1 = MaxPool2D(pool_size=(2,2))(bn_e1)\n",
        "add_e_2 = Add()([conv3x3_e_2_1,maxpool_e_2_1])\n",
        "bn_e2 = BatchNormalization(axis=-1)(add_e_2)\n",
        "conv3x3_e_3_0 = Conv2D(16,3,padding=\"same\",activation=LeakyReLU(alpha=0.25),strides=1)(bn_e2)\n",
        "conv3x3_e_3_1 = Conv2D(16,3,padding=\"same\",activation=LeakyReLU(alpha=0.25),strides=2)(conv3x3_e_3_0)\n",
        "maxpool_e_3_1 = MaxPool2D(pool_size=(2,2))(bn_e2)\n",
        "add_e_3 = Add()([conv3x3_e_3_1,maxpool_e_3_1])\n",
        "bn_e3 = BatchNormalization(axis=-1)(add_e_3)\n",
        "conv3x3_e_4_0 = Conv2D(16,3,padding=\"same\",activation=LeakyReLU(alpha=0.25),strides=1)(bn_e3)\n",
        "conv3x3_e_4_1 = Conv2D(16,3,padding=\"same\",activation=LeakyReLU(alpha=0.25),strides=2)(conv3x3_e_4_0)\n",
        "maxpool_e_4_1 = MaxPool2D(pool_size=(2,2))(bn_e3)\n",
        "add_e_4 = Add()([conv3x3_e_4_1,maxpool_e_4_1])\n",
        "bn_e4 = BatchNormalization(axis=-1)(add_e_4)\n",
        "gp1 = GlobalMaxPool2D()(bn_e4)\n",
        "\n",
        "concat_all = Concatenate(axis=-1)([gp,gp1])\n",
        "alk0 = Dense(20, activation=LeakyReLU(alpha=0.25))(concat_all)\n",
        "alk = Dense(20, activation=\"softmax\")(alk0)\n",
        "selfmymodel = Model(inputs=[selfmodelinput],outputs=[alk])\n",
        "selfmymodel.summary()"
      ],
      "execution_count": null,
      "outputs": [
        {
          "output_type": "stream",
          "name": "stdout",
          "text": [
            "Model: \"model_3\"\n",
            "__________________________________________________________________________________________________\n",
            " Layer (type)                   Output Shape         Param #     Connected to                     \n",
            "==================================================================================================\n",
            " input_4 (InputLayer)           [(None, 224, 224, 3  0           []                               \n",
            "                                )]                                                                \n",
            "                                                                                                  \n",
            " conv2d_92 (Conv2D)             (None, 112, 112, 32  1568        ['input_4[0][0]']                \n",
            "                                )                                                                 \n",
            "                                                                                                  \n",
            " conv2d_90 (Conv2D)             (None, 112, 112, 29  116         ['input_4[0][0]']                \n",
            "                                )                                                                 \n",
            "                                                                                                  \n",
            " average_pooling2d_18 (AverageP  (None, 112, 112, 3)  0          ['input_4[0][0]']                \n",
            " ooling2D)                                                                                        \n",
            "                                                                                                  \n",
            " conv2d_91 (Conv2D)             (None, 112, 112, 32  1568        ['input_4[0][0]']                \n",
            "                                )                                                                 \n",
            "                                                                                                  \n",
            " conv2d_93 (Conv2D)             (None, 112, 112, 32  16416       ['conv2d_92[0][0]']              \n",
            "                                )                                                                 \n",
            "                                                                                                  \n",
            " concatenate_21 (Concatenate)   (None, 112, 112, 32  0           ['conv2d_90[0][0]',              \n",
            "                                )                                 'average_pooling2d_18[0][0]']   \n",
            "                                                                                                  \n",
            " add_27 (Add)                   (None, 112, 112, 32  0           ['conv2d_91[0][0]',              \n",
            "                                )                                 'conv2d_93[0][0]',              \n",
            "                                                                  'concatenate_21[0][0]']         \n",
            "                                                                                                  \n",
            " batch_normalization_33 (BatchN  (None, 112, 112, 32  128        ['add_27[0][0]']                 \n",
            " ormalization)                  )                                                                 \n",
            "                                                                                                  \n",
            " conv2d_96 (Conv2D)             (None, 56, 56, 10)   5130        ['batch_normalization_33[0][0]'] \n",
            "                                                                                                  \n",
            " conv2d_94 (Conv2D)             (None, 56, 56, 12)   396         ['batch_normalization_33[0][0]'] \n",
            "                                                                                                  \n",
            " conv2d_95 (Conv2D)             (None, 56, 56, 10)   5130        ['batch_normalization_33[0][0]'] \n",
            "                                                                                                  \n",
            " conv2d_97 (Conv2D)             (None, 56, 56, 10)   1610        ['conv2d_96[0][0]']              \n",
            "                                                                                                  \n",
            " average_pooling2d_19 (AverageP  (None, 56, 56, 32)  0           ['batch_normalization_33[0][0]'] \n",
            " ooling2D)                                                                                        \n",
            "                                                                                                  \n",
            " concatenate_22 (Concatenate)   (None, 56, 56, 32)   0           ['conv2d_94[0][0]',              \n",
            "                                                                  'conv2d_95[0][0]',              \n",
            "                                                                  'conv2d_97[0][0]']              \n",
            "                                                                                                  \n",
            " conv2d_110 (Conv2D)            (None, 224, 224, 16  448         ['input_4[0][0]']                \n",
            "                                )                                                                 \n",
            "                                                                                                  \n",
            " add_28 (Add)                   (None, 56, 56, 32)   0           ['average_pooling2d_19[0][0]',   \n",
            "                                                                  'concatenate_22[0][0]']         \n",
            "                                                                                                  \n",
            " conv2d_111 (Conv2D)            (None, 112, 112, 16  2320        ['conv2d_110[0][0]']             \n",
            "                                )                                                                 \n",
            "                                                                                                  \n",
            " batch_normalization_34 (BatchN  (None, 56, 56, 32)  128         ['add_28[0][0]']                 \n",
            " ormalization)                                                                                    \n",
            "                                                                                                  \n",
            " batch_normalization_38 (BatchN  (None, 112, 112, 16  64         ['conv2d_111[0][0]']             \n",
            " ormalization)                  )                                                                 \n",
            "                                                                                                  \n",
            " conv2d_100 (Conv2D)            (None, 28, 28, 10)   5130        ['batch_normalization_34[0][0]'] \n",
            "                                                                                                  \n",
            " conv2d_112 (Conv2D)            (None, 112, 112, 16  2320        ['batch_normalization_38[0][0]'] \n",
            "                                )                                                                 \n",
            "                                                                                                  \n",
            " conv2d_98 (Conv2D)             (None, 28, 28, 12)   396         ['batch_normalization_34[0][0]'] \n",
            "                                                                                                  \n",
            " conv2d_99 (Conv2D)             (None, 28, 28, 10)   5130        ['batch_normalization_34[0][0]'] \n",
            "                                                                                                  \n",
            " conv2d_101 (Conv2D)            (None, 28, 28, 10)   1610        ['conv2d_100[0][0]']             \n",
            "                                                                                                  \n",
            " conv2d_113 (Conv2D)            (None, 56, 56, 16)   2320        ['conv2d_112[0][0]']             \n",
            "                                                                                                  \n",
            " max_pooling2d_12 (MaxPooling2D  (None, 56, 56, 16)  0           ['batch_normalization_38[0][0]'] \n",
            " )                                                                                                \n",
            "                                                                                                  \n",
            " average_pooling2d_20 (AverageP  (None, 28, 28, 32)  0           ['batch_normalization_34[0][0]'] \n",
            " ooling2D)                                                                                        \n",
            "                                                                                                  \n",
            " concatenate_23 (Concatenate)   (None, 28, 28, 32)   0           ['conv2d_98[0][0]',              \n",
            "                                                                  'conv2d_99[0][0]',              \n",
            "                                                                  'conv2d_101[0][0]']             \n",
            "                                                                                                  \n",
            " add_32 (Add)                   (None, 56, 56, 16)   0           ['conv2d_113[0][0]',             \n",
            "                                                                  'max_pooling2d_12[0][0]']       \n",
            "                                                                                                  \n",
            " add_29 (Add)                   (None, 28, 28, 32)   0           ['average_pooling2d_20[0][0]',   \n",
            "                                                                  'concatenate_23[0][0]']         \n",
            "                                                                                                  \n",
            " batch_normalization_39 (BatchN  (None, 56, 56, 16)  64          ['add_32[0][0]']                 \n",
            " ormalization)                                                                                    \n",
            "                                                                                                  \n",
            " batch_normalization_35 (BatchN  (None, 28, 28, 32)  128         ['add_29[0][0]']                 \n",
            " ormalization)                                                                                    \n",
            "                                                                                                  \n",
            " conv2d_114 (Conv2D)            (None, 56, 56, 16)   2320        ['batch_normalization_39[0][0]'] \n",
            "                                                                                                  \n",
            " conv2d_104 (Conv2D)            (None, 14, 14, 10)   5130        ['batch_normalization_35[0][0]'] \n",
            "                                                                                                  \n",
            " conv2d_115 (Conv2D)            (None, 28, 28, 16)   2320        ['conv2d_114[0][0]']             \n",
            "                                                                                                  \n",
            " max_pooling2d_13 (MaxPooling2D  (None, 28, 28, 16)  0           ['batch_normalization_39[0][0]'] \n",
            " )                                                                                                \n",
            "                                                                                                  \n",
            " conv2d_102 (Conv2D)            (None, 14, 14, 12)   396         ['batch_normalization_35[0][0]'] \n",
            "                                                                                                  \n",
            " conv2d_103 (Conv2D)            (None, 14, 14, 10)   5130        ['batch_normalization_35[0][0]'] \n",
            "                                                                                                  \n",
            " conv2d_105 (Conv2D)            (None, 14, 14, 10)   1610        ['conv2d_104[0][0]']             \n",
            "                                                                                                  \n",
            " add_33 (Add)                   (None, 28, 28, 16)   0           ['conv2d_115[0][0]',             \n",
            "                                                                  'max_pooling2d_13[0][0]']       \n",
            "                                                                                                  \n",
            " average_pooling2d_21 (AverageP  (None, 14, 14, 32)  0           ['batch_normalization_35[0][0]'] \n",
            " ooling2D)                                                                                        \n",
            "                                                                                                  \n",
            " concatenate_24 (Concatenate)   (None, 14, 14, 32)   0           ['conv2d_102[0][0]',             \n",
            "                                                                  'conv2d_103[0][0]',             \n",
            "                                                                  'conv2d_105[0][0]']             \n",
            "                                                                                                  \n",
            " batch_normalization_40 (BatchN  (None, 28, 28, 16)  64          ['add_33[0][0]']                 \n",
            " ormalization)                                                                                    \n",
            "                                                                                                  \n",
            " add_30 (Add)                   (None, 14, 14, 32)   0           ['average_pooling2d_21[0][0]',   \n",
            "                                                                  'concatenate_24[0][0]']         \n",
            "                                                                                                  \n",
            " average_pooling2d_22 (AverageP  (None, 14, 14, 3)   0           ['input_4[0][0]']                \n",
            " ooling2D)                                                                                        \n",
            "                                                                                                  \n",
            " conv2d_116 (Conv2D)            (None, 28, 28, 16)   2320        ['batch_normalization_40[0][0]'] \n",
            "                                                                                                  \n",
            " concatenate_25 (Concatenate)   (None, 14, 14, 35)   0           ['add_30[0][0]',                 \n",
            "                                                                  'average_pooling2d_22[0][0]']   \n",
            "                                                                                                  \n",
            " conv2d_117 (Conv2D)            (None, 14, 14, 16)   2320        ['conv2d_116[0][0]']             \n",
            "                                                                                                  \n",
            " max_pooling2d_14 (MaxPooling2D  (None, 14, 14, 16)  0           ['batch_normalization_40[0][0]'] \n",
            " )                                                                                                \n",
            "                                                                                                  \n",
            " batch_normalization_36 (BatchN  (None, 14, 14, 35)  140         ['concatenate_25[0][0]']         \n",
            " ormalization)                                                                                    \n",
            "                                                                                                  \n",
            " add_34 (Add)                   (None, 14, 14, 16)   0           ['conv2d_117[0][0]',             \n",
            "                                                                  'max_pooling2d_14[0][0]']       \n",
            "                                                                                                  \n",
            " conv2d_108 (Conv2D)            (None, 7, 7, 11)     6171        ['batch_normalization_36[0][0]'] \n",
            "                                                                                                  \n",
            " batch_normalization_41 (BatchN  (None, 14, 14, 16)  64          ['add_34[0][0]']                 \n",
            " ormalization)                                                                                    \n",
            "                                                                                                  \n",
            " conv2d_106 (Conv2D)            (None, 7, 7, 12)     432         ['batch_normalization_36[0][0]'] \n",
            "                                                                                                  \n",
            " conv2d_107 (Conv2D)            (None, 7, 7, 12)     6732        ['batch_normalization_36[0][0]'] \n",
            "                                                                                                  \n",
            " conv2d_109 (Conv2D)            (None, 7, 7, 11)     1947        ['conv2d_108[0][0]']             \n",
            "                                                                                                  \n",
            " conv2d_118 (Conv2D)            (None, 14, 14, 16)   2320        ['batch_normalization_41[0][0]'] \n",
            "                                                                                                  \n",
            " average_pooling2d_23 (AverageP  (None, 7, 7, 35)    0           ['batch_normalization_36[0][0]'] \n",
            " ooling2D)                                                                                        \n",
            "                                                                                                  \n",
            " concatenate_26 (Concatenate)   (None, 7, 7, 35)     0           ['conv2d_106[0][0]',             \n",
            "                                                                  'conv2d_107[0][0]',             \n",
            "                                                                  'conv2d_109[0][0]']             \n",
            "                                                                                                  \n",
            " conv2d_119 (Conv2D)            (None, 7, 7, 16)     2320        ['conv2d_118[0][0]']             \n",
            "                                                                                                  \n",
            " max_pooling2d_15 (MaxPooling2D  (None, 7, 7, 16)    0           ['batch_normalization_41[0][0]'] \n",
            " )                                                                                                \n",
            "                                                                                                  \n",
            " add_31 (Add)                   (None, 7, 7, 35)     0           ['average_pooling2d_23[0][0]',   \n",
            "                                                                  'concatenate_26[0][0]']         \n",
            "                                                                                                  \n",
            " add_35 (Add)                   (None, 7, 7, 16)     0           ['conv2d_119[0][0]',             \n",
            "                                                                  'max_pooling2d_15[0][0]']       \n",
            "                                                                                                  \n",
            " batch_normalization_37 (BatchN  (None, 7, 7, 35)    140         ['add_31[0][0]']                 \n",
            " ormalization)                                                                                    \n",
            "                                                                                                  \n",
            " batch_normalization_42 (BatchN  (None, 7, 7, 16)    64          ['add_35[0][0]']                 \n",
            " ormalization)                                                                                    \n",
            "                                                                                                  \n",
            " global_max_pooling2d_6 (Global  (None, 35)          0           ['batch_normalization_37[0][0]'] \n",
            " MaxPooling2D)                                                                                    \n",
            "                                                                                                  \n",
            " global_max_pooling2d_7 (Global  (None, 16)          0           ['batch_normalization_42[0][0]'] \n",
            " MaxPooling2D)                                                                                    \n",
            "                                                                                                  \n",
            " concatenate_27 (Concatenate)   (None, 51)           0           ['global_max_pooling2d_6[0][0]', \n",
            "                                                                  'global_max_pooling2d_7[0][0]'] \n",
            "                                                                                                  \n",
            " dense_7 (Dense)                (None, 20)           1040        ['concatenate_27[0][0]']         \n",
            "                                                                                                  \n",
            "==================================================================================================\n",
            "Total params: 95,100\n",
            "Trainable params: 94,608\n",
            "Non-trainable params: 492\n",
            "__________________________________________________________________________________________________\n"
          ]
        }
      ]
    },
    {
      "cell_type": "code",
      "metadata": {
        "colab": {
          "base_uri": "https://localhost:8080/",
          "height": 214
        },
        "id": "LrQnWNjJZJSG",
        "outputId": "44676e33-0ec2-42f9-c9b2-2a654a3a8979"
      },
      "source": [
        "layers = [\n",
        "          BatchNormalization(),\n",
        "          GlobalAvgPool2D(),\n",
        "          Dense(128, activation=LeakyReLU(alpha=0.25)),\n",
        "          Dense(20, activation=\"softmax\")\n",
        "]\n",
        "mymodel = Sequential(layers)\n",
        "modle= Model(inputs=basemodle.input,outputs = mymodel(basemodle.output))\n",
        "modle.summary()"
      ],
      "execution_count": null,
      "outputs": [
        {
          "output_type": "error",
          "ename": "NameError",
          "evalue": "ignored",
          "traceback": [
            "\u001b[0;31m---------------------------------------------------------------------------\u001b[0m",
            "\u001b[0;31mNameError\u001b[0m                                 Traceback (most recent call last)",
            "\u001b[0;32m<ipython-input-10-0fea4dae3cbe>\u001b[0m in \u001b[0;36m<module>\u001b[0;34m()\u001b[0m\n\u001b[1;32m      6\u001b[0m ]\n\u001b[1;32m      7\u001b[0m \u001b[0mmymodel\u001b[0m \u001b[0;34m=\u001b[0m \u001b[0mSequential\u001b[0m\u001b[0;34m(\u001b[0m\u001b[0mlayers\u001b[0m\u001b[0;34m)\u001b[0m\u001b[0;34m\u001b[0m\u001b[0;34m\u001b[0m\u001b[0m\n\u001b[0;32m----> 8\u001b[0;31m \u001b[0mmodle\u001b[0m\u001b[0;34m=\u001b[0m \u001b[0mModel\u001b[0m\u001b[0;34m(\u001b[0m\u001b[0minputs\u001b[0m\u001b[0;34m=\u001b[0m\u001b[0mbasemodle\u001b[0m\u001b[0;34m.\u001b[0m\u001b[0minput\u001b[0m\u001b[0;34m,\u001b[0m\u001b[0moutputs\u001b[0m \u001b[0;34m=\u001b[0m \u001b[0mmymodel\u001b[0m\u001b[0;34m(\u001b[0m\u001b[0mbasemodle\u001b[0m\u001b[0;34m.\u001b[0m\u001b[0moutput\u001b[0m\u001b[0;34m)\u001b[0m\u001b[0;34m)\u001b[0m\u001b[0;34m\u001b[0m\u001b[0;34m\u001b[0m\u001b[0m\n\u001b[0m\u001b[1;32m      9\u001b[0m \u001b[0mmodle\u001b[0m\u001b[0;34m.\u001b[0m\u001b[0msummary\u001b[0m\u001b[0;34m(\u001b[0m\u001b[0;34m)\u001b[0m\u001b[0;34m\u001b[0m\u001b[0;34m\u001b[0m\u001b[0m\n",
            "\u001b[0;31mNameError\u001b[0m: name 'basemodle' is not defined"
          ]
        }
      ]
    },
    {
      "cell_type": "markdown",
      "metadata": {
        "id": "w-IDhU-nZxCS"
      },
      "source": [
        "##### 模型 compile"
      ]
    },
    {
      "cell_type": "code",
      "metadata": {
        "id": "Wz16ZkEsk_tC"
      },
      "source": [
        "from tensorflow.keras.losses import SparseCategoricalCrossentropy\n",
        "modle.compile(\n",
        "        loss=SparseCategoricalCrossentropy(),\n",
        "        optimizer=\"adam\",\n",
        "        metrics=[\"accuracy\"]\n",
        ")"
      ],
      "execution_count": null,
      "outputs": []
    },
    {
      "cell_type": "code",
      "metadata": {
        "id": "owMIiM0sx12R"
      },
      "source": [
        "from tensorflow.keras.losses import SparseCategoricalCrossentropy\n",
        "selfmymodel.compile(\n",
        "        loss=SparseCategoricalCrossentropy(),\n",
        "        optimizer=\"adam\",\n",
        "        metrics=[\"accuracy\"]\n",
        ")"
      ],
      "execution_count": null,
      "outputs": []
    },
    {
      "cell_type": "markdown",
      "metadata": {
        "id": "O-axp9LJl_Xy"
      },
      "source": [
        "###### 先看一下圖片"
      ]
    },
    {
      "cell_type": "code",
      "metadata": {
        "id": "tHkCt1KTmmiJ",
        "colab": {
          "base_uri": "https://localhost:8080/",
          "height": 1000
        },
        "outputId": "ca4a8b73-d407-458d-d700-853b9e604786"
      },
      "source": [
        "import random\n",
        "import matplotlib.pyplot as plt\n",
        "from PIL import Image\n",
        "import numpy as np\n",
        "# import 匯入 當初預處理的方式\n",
        "from tensorflow.keras.applications.vgg16 import preprocess_input \n",
        "p = df[\"path\"]\n",
        "idx = random.randint(0, len(p)-1)\n",
        "img = Image.open(p[idx]).resize((224, 224)).convert(\"RGB\")\n",
        "img_np = np.array(img)\n",
        "img_np_pre = preprocess_input(img_np)\n",
        "print(img_np_pre)\n",
        "plt.imshow(img)"
      ],
      "execution_count": null,
      "outputs": [
        {
          "output_type": "stream",
          "name": "stdout",
          "text": [
            "[[[115.061     116.221     103.32     ]\n",
            "  [118.061     119.221     107.32     ]\n",
            "  [110.061     111.221     100.32     ]\n",
            "  ...\n",
            "  [113.061     107.221     103.32     ]\n",
            "  [113.061     107.221     103.32     ]\n",
            "  [113.061     107.221     103.32     ]]\n",
            "\n",
            " [[ 41.060997   49.221      11.32     ]\n",
            "  [ 47.060997   53.221      18.32     ]\n",
            "  [ 47.060997   53.221      23.32     ]\n",
            "  ...\n",
            "  [113.061     107.221     103.32     ]\n",
            "  [113.061     107.221     103.32     ]\n",
            "  [113.061     107.221     103.32     ]]\n",
            "\n",
            " [[ 69.061      77.221      83.32     ]\n",
            "  [ 73.061      80.221      86.32     ]\n",
            "  [ 79.061      86.221      92.32     ]\n",
            "  ...\n",
            "  [113.061     106.221     103.32     ]\n",
            "  [112.061     106.221     103.32     ]\n",
            "  [113.061     107.221     103.32     ]]\n",
            "\n",
            " ...\n",
            "\n",
            " [[ 29.060997   11.221001    5.3199997]\n",
            "  [ 29.060997   11.221001    5.3199997]\n",
            "  [ 29.060997   11.221001    5.3199997]\n",
            "  ...\n",
            "  [ 39.060997   25.221      20.32     ]\n",
            "  [ 40.060997   26.221      21.32     ]\n",
            "  [ 40.060997   26.221      21.32     ]]\n",
            "\n",
            " [[ 29.060997   11.221001    5.3199997]\n",
            "  [ 29.060997   11.221001    5.3199997]\n",
            "  [ 29.060997   11.221001    5.3199997]\n",
            "  ...\n",
            "  [ 39.060997   25.221      20.32     ]\n",
            "  [ 41.060997   27.221      22.32     ]\n",
            "  [ 40.060997   26.221      21.32     ]]\n",
            "\n",
            " [[ 30.060997   12.221001    6.3199997]\n",
            "  [ 30.060997   12.221001    6.3199997]\n",
            "  [ 29.060997   11.221001    5.3199997]\n",
            "  ...\n",
            "  [ 39.060997   25.221      20.32     ]\n",
            "  [ 38.060997   24.221      19.32     ]\n",
            "  [ 40.060997   26.221      21.32     ]]]\n"
          ]
        },
        {
          "output_type": "execute_result",
          "data": {
            "text/plain": [
              "<matplotlib.image.AxesImage at 0x7ff7a00a5b50>"
            ]
          },
          "metadata": {},
          "execution_count": 6
        },
        {
          "output_type": "display_data",
          "data": {
            "image/png": "[encoded data removed]",
            "text/plain": [
              "<Figure size 432x288 with 1 Axes>"
            ]
          },
          "metadata": {
            "needs_background": "light"
          }
        }
      ]
    },
    {
      "cell_type": "code",
      "metadata": {
        "colab": {
          "base_uri": "https://localhost:8080/"
        },
        "id": "x-jv6gU4patC",
        "outputId": "483b352b-6b99-4756-96d2-55402ae70973"
      },
      "source": [
        "p"
      ],
      "execution_count": null,
      "outputs": [
        {
          "output_type": "execute_result",
          "data": {
            "text/plain": [
              "0        /content/drive/MyDrive/Tebame_第四組_機車辨識/原始照片(含外...\n",
              "1        /content/drive/MyDrive/Tebame_第四組_機車辨識/原始照片(含外...\n",
              "2        /content/drive/MyDrive/Tebame_第四組_機車辨識/原始照片(含外...\n",
              "3        /content/drive/MyDrive/Tebame_第四組_機車辨識/原始照片(含外...\n",
              "4        /content/drive/MyDrive/Tebame_第四組_機車辨識/原始照片(含外...\n",
              "                               ...                        \n",
              "11343    /content/drive/MyDrive/Tebame_第四組_機車辨識/裁剪照片(不含...\n",
              "11344    /content/drive/MyDrive/Tebame_第四組_機車辨識/裁剪照片(不含...\n",
              "11345    /content/drive/MyDrive/Tebame_第四組_機車辨識/裁剪照片(不含...\n",
              "11346    /content/drive/MyDrive/Tebame_第四組_機車辨識/裁剪照片(不含...\n",
              "11347    /content/drive/MyDrive/Tebame_第四組_機車辨識/裁剪照片(不含...\n",
              "Name: path, Length: 11348, dtype: object"
            ]
          },
          "metadata": {},
          "execution_count": 14
        }
      ]
    },
    {
      "cell_type": "markdown",
      "metadata": {
        "id": "4SdWQzdQ8prx"
      },
      "source": [
        "### generator"
      ]
    },
    {
      "cell_type": "code",
      "metadata": {
        "id": "r107hGfBCRN4"
      },
      "source": [
        "x = np.array(df[\"path\"])\n",
        "y = np.array(df[\"ans\"])"
      ],
      "execution_count": null,
      "outputs": []
    },
    {
      "cell_type": "code",
      "metadata": {
        "id": "vdqPn6pQ-yxK",
        "colab": {
          "base_uri": "https://localhost:8080/"
        },
        "outputId": "d46dd6d1-726c-44b5-f28c-00524f8bafeb"
      },
      "source": [
        "def data_generator(x, y, batch_size=19):\n",
        "  while True:\n",
        "    idx = np.random.randint(0, len(x), size=batch_size)\n",
        "    x_batch, y_batch = x[idx], y[idx]\n",
        "    x_final = []\n",
        "    for path in x_batch:\n",
        "      img = Image.open(path).resize((224, 224)).convert(\"RGB\")    #  開啟路徑圖檔並改大小、轉成RGB\n",
        "      img_pre = preprocess_input(np.array(img))              # 轉成陣列再預處理\n",
        "      x_final.append(img_pre)            \n",
        "    x_final = np.array(x_final)\n",
        "    y_batch = np.array(y_batch)\n",
        "    yield (x_final, y_batch)\n",
        "gen = data_generator(x, y)\n",
        "x_gen, y_gen = gen.__next__()\n",
        "print(x_gen.shape)\n",
        "print(y_gen.shape)\n",
        "print(x_gen)\n",
        "print(y_gen)\n"
      ],
      "execution_count": null,
      "outputs": [
        {
          "output_type": "stream",
          "name": "stdout",
          "text": [
            "(19, 224, 224, 3)\n",
            "(19,)\n",
            "[[[[-60.939003    35.221       77.32      ]\n",
            "   [-60.939003    36.221       82.32      ]\n",
            "   [-48.939003    10.221001    40.32      ]\n",
            "   ...\n",
            "   [ 20.060997    11.221001     9.32      ]\n",
            "   [ 22.060997    13.221001    11.32      ]\n",
            "   [ 23.060997    14.221001    12.32      ]]\n",
            "\n",
            "  [[-51.939003    35.221       79.32      ]\n",
            "   [-61.939003    35.221       81.32      ]\n",
            "   [-51.939003    23.221       63.32      ]\n",
            "   ...\n",
            "   [ 25.060997    16.221       14.32      ]\n",
            "   [ 27.060997    18.221       16.32      ]\n",
            "   [ 27.060997    18.221       16.32      ]]\n",
            "\n",
            "  [[-38.939003    27.221       79.32      ]\n",
            "   [-57.939003    35.221       81.32      ]\n",
            "   [-57.939003    32.221       77.32      ]\n",
            "   ...\n",
            "   [ 23.060997    14.221001    12.32      ]\n",
            "   [ 23.060997    15.221001    13.32      ]\n",
            "   [ 22.060997    13.221001    11.32      ]]\n",
            "\n",
            "  ...\n",
            "\n",
            "  [[  5.060997    -5.7789993   -5.6800003 ]\n",
            "   [ 29.060997    19.221       17.32      ]\n",
            "   [ 11.060997     2.2210007   -1.6800003 ]\n",
            "   ...\n",
            "   [ 10.060997     2.2210007    0.3199997 ]\n",
            "   [  5.060997    -2.7789993   -3.6800003 ]\n",
            "   [ -5.939003   -12.778999   -12.68      ]]\n",
            "\n",
            "  [[ 35.060997    25.221       19.32      ]\n",
            "   [ 19.060997    10.221001     5.3199997 ]\n",
            "   [-16.939003   -26.779      -31.68      ]\n",
            "   ...\n",
            "   [  9.060997     1.2210007    2.3199997 ]\n",
            "   [ 19.060997    13.221001    12.32      ]\n",
            "   [ 14.060997     9.221001     9.32      ]]\n",
            "\n",
            "  [[ -6.939003   -15.778999   -18.68      ]\n",
            "   [-22.939003   -33.779      -36.68      ]\n",
            "   [-32.939003   -42.779      -45.68      ]\n",
            "   ...\n",
            "   [ 10.060997     2.2210007    4.3199997 ]\n",
            "   [  8.060997     3.2210007    3.3199997 ]\n",
            "   [  6.060997     1.2210007    1.3199997 ]]]\n",
            "\n",
            "\n",
            " [[[ 24.060997    40.221       27.32      ]\n",
            "   [ 11.060997    31.221       17.32      ]\n",
            "   [ 14.060997    38.221       21.32      ]\n",
            "   ...\n",
            "   [ 22.060997     5.2210007    5.3199997 ]\n",
            "   [-17.939003   -18.779      -26.68      ]\n",
            "   [ -6.939003     4.2210007   -7.6800003 ]]\n",
            "\n",
            "  [[ 86.061       65.221       50.32      ]\n",
            "   [ 84.061       64.221       51.32      ]\n",
            "   [ 83.061       64.221       51.32      ]\n",
            "   ...\n",
            "   [ 27.060997    11.221001     9.32      ]\n",
            "   [ -8.939003   -15.778999   -22.68      ]\n",
            "   [ -9.939003    -9.778999   -19.68      ]]\n",
            "\n",
            "  [[ 90.061       67.221       44.32      ]\n",
            "   [ 89.061       64.221       42.32      ]\n",
            "   [ 89.061       62.221       39.32      ]\n",
            "   ...\n",
            "   [ 30.060997    12.221001     9.32      ]\n",
            "   [  2.060997   -13.778999   -19.68      ]\n",
            "   [ 17.060997     1.2210007   -4.6800003 ]]\n",
            "\n",
            "  ...\n",
            "\n",
            "  [[ 15.060997     6.2210007    2.3199997 ]\n",
            "   [ 17.060997     9.221001     6.3199997 ]\n",
            "   [ 16.060997     8.221001     6.3199997 ]\n",
            "   ...\n",
            "   [  2.060997    -6.7789993   -9.68      ]\n",
            "   [ 10.060997     2.2210007   -0.6800003 ]\n",
            "   [ 26.060997    17.221       13.32      ]]\n",
            "\n",
            "  [[  9.060997     0.22100067  -5.6800003 ]\n",
            "   [ 14.060997     4.2210007    0.3199997 ]\n",
            "   [ 11.060997     1.2210007   -1.6800003 ]\n",
            "   ...\n",
            "   [  4.060997    -3.7789993   -5.6800003 ]\n",
            "   [ 14.060997     6.2210007    4.3199997 ]\n",
            "   [ 27.060997    17.221       15.32      ]]\n",
            "\n",
            "  [[ 12.060997     3.2210007   -1.6800003 ]\n",
            "   [ 13.060997     4.2210007   -0.6800003 ]\n",
            "   [  3.060997    -3.7789993   -8.68      ]\n",
            "   ...\n",
            "   [  9.060997    -0.7789993   -3.6800003 ]\n",
            "   [ 15.060997     4.2210007    1.3199997 ]\n",
            "   [ 27.060997    15.221001    16.32      ]]]\n",
            "\n",
            "\n",
            " [[[145.061      109.221       87.32      ]\n",
            "   [147.061      111.221       89.32      ]\n",
            "   [148.061      112.221       90.32      ]\n",
            "   ...\n",
            "   [151.061      138.22101    131.32      ]\n",
            "   [151.061      138.22101    131.32      ]\n",
            "   [151.061      138.22101    131.32      ]]\n",
            "\n",
            "  [[139.061      104.221       82.32      ]\n",
            "   [140.061      106.221       84.32      ]\n",
            "   [139.061      105.221       83.32      ]\n",
            "   ...\n",
            "   [151.061      138.22101    131.32      ]\n",
            "   [151.061      138.22101    131.32      ]\n",
            "   [151.061      138.22101    131.32      ]]\n",
            "\n",
            "  [[134.061      100.221       78.32      ]\n",
            "   [135.061      101.221       79.32      ]\n",
            "   [134.061      100.221       78.32      ]\n",
            "   ...\n",
            "   [151.061      138.22101    131.32      ]\n",
            "   [151.061      138.22101    131.32      ]\n",
            "   [151.061      138.22101    131.32      ]]\n",
            "\n",
            "  ...\n",
            "\n",
            "  [[ 20.060997    19.221       14.32      ]\n",
            "   [ 11.060997    10.221001     5.3199997 ]\n",
            "   [ 25.060997    24.221       19.32      ]\n",
            "   ...\n",
            "   [ 25.060997    24.221       23.32      ]\n",
            "   [ 21.060997    20.221       19.32      ]\n",
            "   [ 24.060997    23.221       22.32      ]]\n",
            "\n",
            "  [[ 16.060997    15.221001    10.32      ]\n",
            "   [ 24.060997    23.221       18.32      ]\n",
            "   [ 21.060997    20.221       15.32      ]\n",
            "   ...\n",
            "   [ 30.060997    28.221       28.32      ]\n",
            "   [ 28.060997    27.221       27.32      ]\n",
            "   [ 30.060997    28.221       28.32      ]]\n",
            "\n",
            "  [[ 18.060997    17.221       12.32      ]\n",
            "   [ 25.060997    24.221       19.32      ]\n",
            "   [  7.060997     6.2210007    1.3199997 ]\n",
            "   ...\n",
            "   [ 28.060997    26.221       27.32      ]\n",
            "   [ 29.060997    27.221       28.32      ]\n",
            "   [ 28.060997    26.221       27.32      ]]]\n",
            "\n",
            "\n",
            " ...\n",
            "\n",
            "\n",
            " [[[ 53.060997    62.221       68.32      ]\n",
            "   [ 51.060997    60.221       63.32      ]\n",
            "   [ 13.060997    26.221       16.32      ]\n",
            "   ...\n",
            "   [-55.939003   -30.779      -54.68      ]\n",
            "   [-40.939003   -15.778999   -38.68      ]\n",
            "   [-35.939003   -12.778999   -34.68      ]]\n",
            "\n",
            "  [[ 43.060997    48.221       61.32      ]\n",
            "   [ 47.060997    43.221       62.32      ]\n",
            "   [ 29.060997    35.221       41.32      ]\n",
            "   ...\n",
            "   [-34.939003    -9.778999   -36.68      ]\n",
            "   [-38.939003   -11.778999   -38.68      ]\n",
            "   [-47.939003   -21.779      -46.68      ]]\n",
            "\n",
            "  [[ 50.060997    32.221       57.32      ]\n",
            "   [ 88.061       50.221       92.32      ]\n",
            "   [ 44.060997    31.221       54.32      ]\n",
            "   ...\n",
            "   [-36.939003    -9.778999   -37.68      ]\n",
            "   [-43.939003   -14.778999   -44.68      ]\n",
            "   [-43.939003   -13.778999   -41.68      ]]\n",
            "\n",
            "  ...\n",
            "\n",
            "  [[ 34.060997    23.221       17.32      ]\n",
            "   [ 35.060997    24.221       18.32      ]\n",
            "   [ 38.060997    27.221       22.32      ]\n",
            "   ...\n",
            "   [112.061      104.221      100.32      ]\n",
            "   [128.061      119.221      116.32      ]\n",
            "   [132.061      122.221      119.32      ]]\n",
            "\n",
            "  [[ 30.060997    19.221       13.32      ]\n",
            "   [ 37.060997    26.221       20.32      ]\n",
            "   [ 40.060997    28.221       24.32      ]\n",
            "   ...\n",
            "   [123.061      114.221      110.32      ]\n",
            "   [132.061      123.221      120.32      ]\n",
            "   [131.061      121.221      118.32      ]]\n",
            "\n",
            "  [[ 34.060997    23.221       17.32      ]\n",
            "   [ 37.060997    26.221       19.32      ]\n",
            "   [ 34.060997    23.221       18.32      ]\n",
            "   ...\n",
            "   [130.061      120.221      117.32      ]\n",
            "   [129.061      119.221      116.32      ]\n",
            "   [132.061      122.221      119.32      ]]]\n",
            "\n",
            "\n",
            " [[[125.061      115.221      113.32      ]\n",
            "   [126.061      117.221      113.32      ]\n",
            "   [126.061      119.221      114.32      ]\n",
            "   ...\n",
            "   [105.061       99.221       99.32      ]\n",
            "   [105.061      100.221       98.32      ]\n",
            "   [107.061       99.221       98.32      ]]\n",
            "\n",
            "  [[131.061      121.221      119.32      ]\n",
            "   [131.061      121.221      118.32      ]\n",
            "   [130.061      121.221      117.32      ]\n",
            "   ...\n",
            "   [103.061       98.221       96.32      ]\n",
            "   [103.061       98.221       95.32      ]\n",
            "   [104.061       97.221       95.32      ]]\n",
            "\n",
            "  [[132.061      125.221      121.32      ]\n",
            "   [134.061      125.221      122.32      ]\n",
            "   [132.061      124.221      120.32      ]\n",
            "   ...\n",
            "   [103.061       97.221       94.32      ]\n",
            "   [104.061       97.221       95.32      ]\n",
            "   [104.061       96.221       94.32      ]]\n",
            "\n",
            "  ...\n",
            "\n",
            "  [[-35.939003   -36.779      -43.68      ]\n",
            "   [-27.939003   -28.779      -35.68      ]\n",
            "   [-16.939003   -18.779      -24.68      ]\n",
            "   ...\n",
            "   [-12.939003   -12.778999   -11.68      ]\n",
            "   [ -9.939003   -10.778999    -7.6800003 ]\n",
            "   [-13.939003   -15.778999   -12.68      ]]\n",
            "\n",
            "  [[-31.939003   -33.779      -40.68      ]\n",
            "   [-37.939003   -39.779      -47.68      ]\n",
            "   [-35.939003   -37.779      -46.68      ]\n",
            "   ...\n",
            "   [-30.939003   -30.779      -31.68      ]\n",
            "   [-28.939003   -28.779      -26.68      ]\n",
            "   [-32.939003   -33.779      -30.68      ]]\n",
            "\n",
            "  [[ 38.060997    31.221       25.32      ]\n",
            "   [ 48.060997    42.221       35.32      ]\n",
            "   [ 47.060997    41.221       33.32      ]\n",
            "   ...\n",
            "   [ 37.060997    33.221       29.32      ]\n",
            "   [ 36.060997    30.221       27.32      ]\n",
            "   [ 34.060997    28.221       26.32      ]]]\n",
            "\n",
            "\n",
            " [[[ 17.060997     9.221001    -6.6800003 ]\n",
            "   [ 17.060997     9.221001    -6.6800003 ]\n",
            "   [ 16.060997     8.221001    -7.6800003 ]\n",
            "   ...\n",
            "   [ 34.060997   -10.778999   -45.68      ]\n",
            "   [ 28.060997     0.22100067 -13.68      ]\n",
            "   [ 27.060997    25.221       32.32      ]]\n",
            "\n",
            "  [[ 18.060997    10.221001    -5.6800003 ]\n",
            "   [ 18.060997    10.221001    -5.6800003 ]\n",
            "   [ 16.060997     8.221001    -7.6800003 ]\n",
            "   ...\n",
            "   [ 37.060997    -5.7789993  -38.68      ]\n",
            "   [ 29.060997     3.2210007  -11.68      ]\n",
            "   [ 27.060997    25.221       30.32      ]]\n",
            "\n",
            "  [[ 18.060997    10.221001    -5.6800003 ]\n",
            "   [ 17.060997     9.221001    -6.6800003 ]\n",
            "   [ 15.060997     7.2210007   -8.68      ]\n",
            "   ...\n",
            "   [ 34.060997    -8.778999   -40.68      ]\n",
            "   [ 26.060997     0.22100067 -16.68      ]\n",
            "   [ 26.060997    22.221       23.32      ]]\n",
            "\n",
            "  ...\n",
            "\n",
            "  [[-13.939003   -22.779      -22.68      ]\n",
            "   [-14.939003   -21.779      -21.68      ]\n",
            "   [-13.939003   -21.779      -19.68      ]\n",
            "   ...\n",
            "   [ 51.060997    45.221       49.32      ]\n",
            "   [ 46.060997    41.221       47.32      ]\n",
            "   [ 48.060997    42.221       48.32      ]]\n",
            "\n",
            "  [[-14.939003   -23.779      -22.68      ]\n",
            "   [-13.939003   -20.779      -20.68      ]\n",
            "   [-11.939003   -19.779      -18.68      ]\n",
            "   ...\n",
            "   [ 53.060997    46.221       50.32      ]\n",
            "   [ 51.060997    44.221       49.32      ]\n",
            "   [ 51.060997    44.221       48.32      ]]\n",
            "\n",
            "  [[-15.939003   -23.779      -24.68      ]\n",
            "   [-15.939003   -22.779      -22.68      ]\n",
            "   [-10.939003   -17.779      -17.68      ]\n",
            "   ...\n",
            "   [ 52.060997    45.221       49.32      ]\n",
            "   [ 50.060997    43.221       49.32      ]\n",
            "   [ 50.060997    44.221       48.32      ]]]]\n",
            "[13 10 11  0 17  4 13  1 11 15 15 16  3 19  2  7 19  0 10]\n"
          ]
        }
      ]
    },
    {
      "cell_type": "code",
      "metadata": {
        "colab": {
          "base_uri": "https://localhost:8080/"
        },
        "id": "awHkn662E1-g",
        "outputId": "0dac428e-64e1-47c9-839f-20fad6feabab"
      },
      "source": [
        "from sklearn.model_selection import train_test_split\n",
        "\n",
        " # gp + vivo + gryphus6 + SR + DRG + FIDDLE + S2\n",
        "group_tol = [[0] for i in range(20)]\n",
        "group_tr = [[0] for i in range(20)]\n",
        "group_te = [[0] for i in range(20)]\n",
        "indexcontrastvalue = [gp, vivo, gryphus6, SR, SL, JOG, BWS, LIMI, LIKE, DRG, FIDDLE, S2, S3, VIVAMIX, xml125, JH, KRV, MANY, Force, xdj]\n",
        "\n",
        "x_train = []\n",
        "y_train = []\n",
        "x_test = []\n",
        "y_test = []\n",
        "print(type(indexcontrastvalue[0]))\n",
        "#print(len(indexcontrastvalue[0]))\n",
        "for i in range(20):\n",
        "  print(i)\n",
        "  group_tol[i] = np.random.choice(indexcontrastvalue[i], len(indexcontrastvalue[i]), replace=False)\n",
        "  group_tr[i], group_te[i] = train_test_split(group_tol[i], test_size=0.1)\n",
        "  x_train = np.concatenate((x_train, group_tr[i]))\n",
        "  y_train = y_train + ([i] * len(group_tr[i]))\n",
        "  x_test = np.concatenate((x_test,group_te[i]))\n",
        "  y_test = y_test + ([i] * len(group_te[i]))\n",
        "y_train = np.array(y_train)\n",
        "y_test = np.array(y_test)\n",
        "\n",
        "\n",
        "\n",
        "print(x_train.shape)\n",
        "print(x_test.shape)\n",
        "print(y_train.shape)\n",
        "print(y_test.shape)\n",
        "print(type(x_test))\n",
        "type(y_test)"
      ],
      "execution_count": null,
      "outputs": [
        {
          "output_type": "stream",
          "name": "stdout",
          "text": [
            "<class 'list'>\n",
            "0\n",
            "1\n",
            "2\n",
            "3\n",
            "4\n",
            "5\n",
            "6\n",
            "7\n",
            "8\n",
            "9\n",
            "10\n",
            "11\n",
            "12\n",
            "13\n",
            "14\n",
            "15\n",
            "16\n",
            "17\n",
            "18\n",
            "19\n",
            "(5349,)\n",
            "(606,)\n",
            "(5349,)\n",
            "(606,)\n",
            "<class 'numpy.ndarray'>\n"
          ]
        },
        {
          "output_type": "execute_result",
          "data": {
            "text/plain": [
              "numpy.ndarray"
            ]
          },
          "metadata": {},
          "execution_count": 9
        }
      ]
    },
    {
      "cell_type": "code",
      "metadata": {
        "id": "3Rmi0ZnLJFFD"
      },
      "source": [
        "train_generator = data_generator(x_train, y_train)\n",
        "test_generator = data_generator(x_test, y_test)"
      ],
      "execution_count": null,
      "outputs": []
    },
    {
      "cell_type": "code",
      "metadata": {
        "colab": {
          "base_uri": "https://localhost:8080/"
        },
        "id": "KAiI051ZsIv9",
        "outputId": "edf38891-166a-405f-b5a3-2af276d2eb7f"
      },
      "source": [
        "from tensorflow.keras.callbacks import EarlyStopping, ModelCheckpoint\n",
        "callbacks = [\n",
        "             EarlyStopping(patience=5, restore_best_weights=True),\n",
        "             ModelCheckpoint(\"myall.h5\", save_best_only=True)\n",
        "]\n",
        "\n",
        "selfmymodel.fit_generator(\n",
        "    train_generator,\n",
        "    steps_per_epoch=20,\n",
        "    epochs=100,\n",
        "    validation_data=test_generator,\n",
        "    validation_steps=2, \n",
        "    callbacks=callbacks\n",
        "                    )"
      ],
      "execution_count": null,
      "outputs": [
        {
          "output_type": "stream",
          "name": "stderr",
          "text": [
            "/usr/local/lib/python3.7/dist-packages/ipykernel_launcher.py:13: UserWarning: `Model.fit_generator` is deprecated and will be removed in a future version. Please use `Model.fit`, which supports generators.\n",
            "  del sys.path[0]\n"
          ]
        },
        {
          "output_type": "stream",
          "name": "stdout",
          "text": [
            "Epoch 1/100\n",
            "20/20 [==============================] - ETA: 0s - loss: 1.1441 - accuracy: 0.7000"
          ]
        },
        {
          "output_type": "stream",
          "name": "stderr",
          "text": [
            "/usr/local/lib/python3.7/dist-packages/keras/engine/functional.py:1410: CustomMaskWarning: Custom mask layers require a config and must override get_config. When loading, the custom mask layer must be passed to the custom_objects argument.\n",
            "  layer_config = serialize_layer_fn(layer)\n"
          ]
        },
        {
          "output_type": "stream",
          "name": "stdout",
          "text": [
            "20/20 [==============================] - 37s 2s/step - loss: 1.1441 - accuracy: 0.7000 - val_loss: 2.1700 - val_accuracy: 0.5000\n",
            "Epoch 2/100\n",
            "20/20 [==============================] - 36s 2s/step - loss: 1.1234 - accuracy: 0.6947 - val_loss: 1.4531 - val_accuracy: 0.5789\n",
            "Epoch 3/100\n",
            "20/20 [==============================] - 37s 2s/step - loss: 1.1203 - accuracy: 0.6947 - val_loss: 1.7993 - val_accuracy: 0.5526\n",
            "Epoch 4/100\n",
            "20/20 [==============================] - 39s 2s/step - loss: 1.1184 - accuracy: 0.7158 - val_loss: 2.3583 - val_accuracy: 0.2895\n",
            "Epoch 5/100\n",
            "20/20 [==============================] - 38s 2s/step - loss: 1.1375 - accuracy: 0.7079 - val_loss: 1.6562 - val_accuracy: 0.6053\n",
            "Epoch 6/100\n",
            "20/20 [==============================] - 37s 2s/step - loss: 1.0161 - accuracy: 0.7316 - val_loss: 1.4485 - val_accuracy: 0.6579\n",
            "Epoch 7/100\n",
            "20/20 [==============================] - 38s 2s/step - loss: 1.0951 - accuracy: 0.6895 - val_loss: 1.9383 - val_accuracy: 0.4737\n",
            "Epoch 8/100\n",
            "20/20 [==============================] - 37s 2s/step - loss: 1.1092 - accuracy: 0.6947 - val_loss: 1.4497 - val_accuracy: 0.6316\n",
            "Epoch 9/100\n",
            "20/20 [==============================] - 36s 2s/step - loss: 1.1052 - accuracy: 0.7158 - val_loss: 1.7800 - val_accuracy: 0.5000\n",
            "Epoch 10/100\n",
            "20/20 [==============================] - 37s 2s/step - loss: 1.1923 - accuracy: 0.6763 - val_loss: 1.6481 - val_accuracy: 0.5263\n",
            "Epoch 11/100\n",
            "20/20 [==============================] - 40s 2s/step - loss: 1.0775 - accuracy: 0.7316 - val_loss: 1.7363 - val_accuracy: 0.4474\n"
          ]
        },
        {
          "output_type": "execute_result",
          "data": {
            "text/plain": [
              "<keras.callbacks.History at 0x7f83ed5d5f10>"
            ]
          },
          "metadata": {},
          "execution_count": 56
        }
      ]
    },
    {
      "cell_type": "code",
      "metadata": {
        "colab": {
          "base_uri": "https://localhost:8080/"
        },
        "id": "Hs3-V8_q9RUL",
        "outputId": "d94833ec-5372-4cf5-8462-dd89a146700b"
      },
      "source": [
        "selfmymodel.evaluate_generator(test_generator, steps=1)"
      ],
      "execution_count": null,
      "outputs": [
        {
          "output_type": "stream",
          "name": "stderr",
          "text": [
            "/usr/local/lib/python3.7/dist-packages/ipykernel_launcher.py:1: UserWarning: `Model.evaluate_generator` is deprecated and will be removed in a future version. Please use `Model.evaluate`, which supports generators.\n",
            "  \"\"\"Entry point for launching an IPython kernel.\n"
          ]
        },
        {
          "output_type": "execute_result",
          "data": {
            "text/plain": [
              "[1.5587211847305298, 0.4736842215061188]"
            ]
          },
          "metadata": {},
          "execution_count": 63
        }
      ]
    },
    {
      "cell_type": "code",
      "metadata": {
        "colab": {
          "base_uri": "https://localhost:8080/"
        },
        "id": "O6fli7ASzyIg",
        "outputId": "e7f59ffe-5800-4c70-c8c3-673ac3f708a4"
      },
      "source": [
        "selfmymodel.save(\"selfmymodel_5_e5_allclass_rigorous_run7.h5\")"
      ],
      "execution_count": null,
      "outputs": [
        {
          "output_type": "stream",
          "name": "stderr",
          "text": [
            "/usr/local/lib/python3.7/dist-packages/keras/engine/functional.py:1410: CustomMaskWarning: Custom mask layers require a config and must override get_config. When loading, the custom mask layer must be passed to the custom_objects argument.\n",
            "  layer_config = serialize_layer_fn(layer)\n"
          ]
        }
      ]
    },
    {
      "cell_type": "code",
      "metadata": {
        "id": "5GEyohnyJa-E",
        "colab": {
          "base_uri": "https://localhost:8080/"
        },
        "outputId": "286675ae-23f6-442a-e513-7d584be5bf40"
      },
      "source": [
        "\n",
        "from tensorflow.keras.callbacks import EarlyStopping, ModelCheckpoint\n",
        "callbacks = [\n",
        "             EarlyStopping(patience=5, restore_best_weights=True),\n",
        "             ModelCheckpoint(\"scooterall.h5\", save_best_only=True)\n",
        "]\n",
        "\n",
        "modle.fit_generator(\n",
        "    train_generator,\n",
        "    steps_per_epoch=20,\n",
        "    epochs=100,\n",
        "    validation_data=test_generator,\n",
        "    validation_steps=2, \n",
        "    callbacks=callbacks\n",
        "                    )"
      ],
      "execution_count": null,
      "outputs": [
        {
          "output_type": "stream",
          "name": "stderr",
          "text": [
            "/usr/local/lib/python3.7/dist-packages/ipykernel_launcher.py:14: UserWarning: `Model.fit_generator` is deprecated and will be removed in a future version. Please use `Model.fit`, which supports generators.\n",
            "  \n"
          ]
        },
        {
          "output_type": "stream",
          "name": "stdout",
          "text": [
            "Epoch 1/100\n",
            "20/20 [==============================] - 188s 8s/step - loss: 1.4217 - accuracy: 0.7026 - val_loss: 1.1032 - val_accuracy: 0.6842\n",
            "Epoch 2/100\n",
            "20/20 [==============================] - 152s 8s/step - loss: 0.9916 - accuracy: 0.7368 - val_loss: 1.0377 - val_accuracy: 0.6053\n",
            "Epoch 3/100\n",
            "20/20 [==============================] - 142s 7s/step - loss: 0.8084 - accuracy: 0.7474 - val_loss: 0.9581 - val_accuracy: 0.7368\n",
            "Epoch 4/100\n",
            "20/20 [==============================] - 137s 7s/step - loss: 0.6438 - accuracy: 0.8263 - val_loss: 0.6919 - val_accuracy: 0.8421\n",
            "Epoch 5/100\n",
            "20/20 [==============================] - 131s 7s/step - loss: 0.6303 - accuracy: 0.8184 - val_loss: 0.5094 - val_accuracy: 0.8158\n",
            "Epoch 6/100\n",
            "20/20 [==============================] - 120s 6s/step - loss: 0.5637 - accuracy: 0.8316 - val_loss: 0.6259 - val_accuracy: 0.8421\n",
            "Epoch 7/100\n",
            "20/20 [==============================] - 132s 7s/step - loss: 0.5427 - accuracy: 0.8500 - val_loss: 0.5136 - val_accuracy: 0.8421\n",
            "Epoch 8/100\n",
            "20/20 [==============================] - 117s 6s/step - loss: 0.5745 - accuracy: 0.8289 - val_loss: 0.6388 - val_accuracy: 0.7895\n",
            "Epoch 9/100\n",
            "20/20 [==============================] - 108s 6s/step - loss: 0.5908 - accuracy: 0.8447 - val_loss: 0.6696 - val_accuracy: 0.7632\n",
            "Epoch 10/100\n",
            "20/20 [==============================] - 110s 6s/step - loss: 0.5203 - accuracy: 0.8474 - val_loss: 0.5076 - val_accuracy: 0.7632\n",
            "Epoch 11/100\n",
            "20/20 [==============================] - 103s 5s/step - loss: 0.3686 - accuracy: 0.9237 - val_loss: 0.5256 - val_accuracy: 0.8421\n",
            "Epoch 12/100\n",
            "20/20 [==============================] - 103s 5s/step - loss: 0.3466 - accuracy: 0.9000 - val_loss: 0.5813 - val_accuracy: 0.8158\n",
            "Epoch 13/100\n",
            "20/20 [==============================] - 99s 5s/step - loss: 0.4868 - accuracy: 0.8579 - val_loss: 0.3959 - val_accuracy: 0.8947\n",
            "Epoch 14/100\n",
            "20/20 [==============================] - 87s 5s/step - loss: 0.3759 - accuracy: 0.9079 - val_loss: 0.5092 - val_accuracy: 0.8421\n",
            "Epoch 15/100\n",
            "20/20 [==============================] - 86s 5s/step - loss: 0.4687 - accuracy: 0.8658 - val_loss: 0.7202 - val_accuracy: 0.7632\n",
            "Epoch 16/100\n",
            "20/20 [==============================] - 80s 4s/step - loss: 0.4066 - accuracy: 0.8947 - val_loss: 0.2798 - val_accuracy: 0.8947\n",
            "Epoch 17/100\n",
            "20/20 [==============================] - 84s 4s/step - loss: 0.4765 - accuracy: 0.8526 - val_loss: 0.4302 - val_accuracy: 0.9211\n",
            "Epoch 18/100\n",
            "20/20 [==============================] - 73s 4s/step - loss: 0.4007 - accuracy: 0.8921 - val_loss: 0.3665 - val_accuracy: 0.9211\n",
            "Epoch 19/100\n",
            "20/20 [==============================] - 69s 4s/step - loss: 0.3669 - accuracy: 0.8868 - val_loss: 0.3795 - val_accuracy: 0.8684\n",
            "Epoch 20/100\n",
            "20/20 [==============================] - 79s 4s/step - loss: 0.3484 - accuracy: 0.9105 - val_loss: 0.2852 - val_accuracy: 0.9211\n",
            "Epoch 21/100\n",
            "20/20 [==============================] - 67s 4s/step - loss: 0.3049 - accuracy: 0.9316 - val_loss: 0.4484 - val_accuracy: 0.8158\n"
          ]
        },
        {
          "output_type": "execute_result",
          "data": {
            "text/plain": [
              "<keras.callbacks.History at 0x7ff7a00c1890>"
            ]
          },
          "metadata": {},
          "execution_count": 11
        }
      ]
    },
    {
      "cell_type": "code",
      "metadata": {
        "id": "0EZRL1z5c8Wn"
      },
      "source": [
        "modle.save(\"/content/drive/MyDrive/Tebame_第四組_機車辨識/機車辨識模型檔/VGG16_allclass_rigorous_run2.h5\")"
      ],
      "execution_count": null,
      "outputs": []
    },
    {
      "cell_type": "code",
      "metadata": {
        "id": "zAWAFr1zkdHK"
      },
      "source": [
        "from tensorflow.keras.models import load_model\n",
        "modle = load_model(\"/content/drive/MyDrive/Tebame_第四組_機車辨識/機車辨識模型檔/VGG16_allclass_rigorous.h5\")"
      ],
      "execution_count": null,
      "outputs": []
    },
    {
      "cell_type": "code",
      "metadata": {
        "colab": {
          "base_uri": "https://localhost:8080/"
        },
        "id": "fonXtJPWj5I_",
        "outputId": "6f2ed5a1-4d27-48e5-9b7a-37d2e119e661"
      },
      "source": [
        "modle.evaluate_generator(test_generator, steps=1)"
      ],
      "execution_count": null,
      "outputs": [
        {
          "output_type": "stream",
          "name": "stderr",
          "text": [
            "/usr/local/lib/python3.7/dist-packages/ipykernel_launcher.py:1: UserWarning: `Model.evaluate_generator` is deprecated and will be removed in a future version. Please use `Model.evaluate`, which supports generators.\n",
            "  \"\"\"Entry point for launching an IPython kernel.\n"
          ]
        },
        {
          "output_type": "execute_result",
          "data": {
            "text/plain": [
              "[0.5635446310043335, 0.8947368264198303]"
            ]
          },
          "metadata": {},
          "execution_count": 13
        }
      ]
    },
    {
      "cell_type": "code",
      "metadata": {
        "colab": {
          "base_uri": "https://localhost:8080/",
          "height": 390
        },
        "id": "ysHX-Obls7z8",
        "outputId": "059f2ff8-673e-4f60-df52-6f193f1d48ca"
      },
      "source": [
        "import requests\n",
        "from PIL import Image\n",
        "url = input(\"輸入網址\")\n",
        "tag = ['gp' , 'vivo' , 'gryphus6' , 'SR' , 'SL' , 'JOG' , 'BWS' , 'LIMI' , 'LIKE' , 'DRG' , 'FIDDLE' , 'S2' , 'S3' , 'VIVAMIX' , 'xml125' , 'JH' , 'KRV' , 'MANY' , 'Force' ,'xdj']\n",
        "response = requests.get(url, stream=True, verify=False)\n",
        "img = Image.open(response.raw).resize((224,224))\n",
        "img_np = preprocess_input(np.array(img.convert(\"RGB\")))\n",
        "img_np = img_np.reshape(1,224,224,3)\n",
        "print(img_np.shape)\n",
        "plt.imshow(img)\n",
        "a = modle.predict([img_np])\n",
        "print(\"預測:\", tag[np.argmax(a)])\n",
        "plt.imshow(img)"
      ],
      "execution_count": null,
      "outputs": [
        {
          "name": "stdout",
          "output_type": "stream",
          "text": [
            "輸入網址https://img.technews.tw/wp-content/uploads/2018/11/06164241/Gogoro-S2-Adventure-1.jpg\n"
          ]
        },
        {
          "output_type": "stream",
          "name": "stderr",
          "text": [
            "/usr/local/lib/python3.7/dist-packages/urllib3/connectionpool.py:847: InsecureRequestWarning: Unverified HTTPS request is being made. Adding certificate verification is strongly advised. See: https://urllib3.readthedocs.io/en/latest/advanced-usage.html#ssl-warnings\n",
            "  InsecureRequestWarning)\n"
          ]
        },
        {
          "output_type": "stream",
          "name": "stdout",
          "text": [
            "(1, 224, 224, 3)\n",
            "預測: S2\n"
          ]
        },
        {
          "output_type": "execute_result",
          "data": {
            "text/plain": [
              "<matplotlib.image.AxesImage at 0x7ff72f01e890>"
            ]
          },
          "metadata": {},
          "execution_count": 35
        },
        {
          "output_type": "display_data",
          "data": {
            "image/png": "[encoded data removed]",
            "text/plain": [
              "<Figure size 432x288 with 1 Axes>"
            ]
          },
          "metadata": {
            "needs_background": "light"
          }
        }
      ]
    },
    {
      "cell_type": "code",
      "metadata": {
        "colab": {
          "base_uri": "https://localhost:8080/",
          "height": 301
        },
        "id": "etfXu_DUqfXx",
        "outputId": "63106f0a-3d52-4fa9-a1e3-d1e50255193e"
      },
      "source": [
        "import requests\n",
        "from PIL import Image\n",
        "url = input(\"輸入網址\")\n",
        "response = requests.get(url, stream=True, verify=False)\n",
        "img = Image.open(response.raw).resize((224,224))\n",
        "img_np = preprocess_input(np.array(img))\n",
        "img_np = img_np.reshape([1,244,244,3])\n",
        "print(\"預測:\", modle.predict(img_np))\n",
        "plt.imshow(img, cmap=\"gray\")"
      ],
      "execution_count": null,
      "outputs": [
        {
          "name": "stdout",
          "output_type": "stream",
          "text": [
            "輸入網址https://www.tournii.asia/images/thumbs/0015658_gp-125-_600.jpeg\n"
          ]
        },
        {
          "output_type": "stream",
          "name": "stderr",
          "text": [
            "/usr/local/lib/python3.7/dist-packages/urllib3/connectionpool.py:847: InsecureRequestWarning: Unverified HTTPS request is being made. Adding certificate verification is strongly advised. See: https://urllib3.readthedocs.io/en/latest/advanced-usage.html#ssl-warnings\n",
            "  InsecureRequestWarning)\n"
          ]
        },
        {
          "output_type": "error",
          "ename": "ValueError",
          "evalue": "ignored",
          "traceback": [
            "\u001b[0;31m---------------------------------------------------------------------------\u001b[0m",
            "\u001b[0;31mValueError\u001b[0m                                Traceback (most recent call last)",
            "\u001b[0;32m<ipython-input-19-7f69c2bf9eb1>\u001b[0m in \u001b[0;36m<module>\u001b[0;34m()\u001b[0m\n\u001b[1;32m      5\u001b[0m \u001b[0mimg\u001b[0m \u001b[0;34m=\u001b[0m \u001b[0mImage\u001b[0m\u001b[0;34m.\u001b[0m\u001b[0mopen\u001b[0m\u001b[0;34m(\u001b[0m\u001b[0mresponse\u001b[0m\u001b[0;34m.\u001b[0m\u001b[0mraw\u001b[0m\u001b[0;34m)\u001b[0m\u001b[0;34m.\u001b[0m\u001b[0mresize\u001b[0m\u001b[0;34m(\u001b[0m\u001b[0;34m(\u001b[0m\u001b[0;36m224\u001b[0m\u001b[0;34m,\u001b[0m\u001b[0;36m224\u001b[0m\u001b[0;34m)\u001b[0m\u001b[0;34m)\u001b[0m\u001b[0;34m\u001b[0m\u001b[0;34m\u001b[0m\u001b[0m\n\u001b[1;32m      6\u001b[0m \u001b[0mimg_np\u001b[0m \u001b[0;34m=\u001b[0m \u001b[0mpreprocess_input\u001b[0m\u001b[0;34m(\u001b[0m\u001b[0mnp\u001b[0m\u001b[0;34m.\u001b[0m\u001b[0marray\u001b[0m\u001b[0;34m(\u001b[0m\u001b[0mimg\u001b[0m\u001b[0;34m)\u001b[0m\u001b[0;34m)\u001b[0m\u001b[0;34m\u001b[0m\u001b[0;34m\u001b[0m\u001b[0m\n\u001b[0;32m----> 7\u001b[0;31m \u001b[0mimg_np\u001b[0m \u001b[0;34m=\u001b[0m \u001b[0mimg_np\u001b[0m\u001b[0;34m.\u001b[0m\u001b[0mreshape\u001b[0m\u001b[0;34m(\u001b[0m\u001b[0;34m[\u001b[0m\u001b[0;36m1\u001b[0m\u001b[0;34m,\u001b[0m\u001b[0;36m244\u001b[0m\u001b[0;34m,\u001b[0m\u001b[0;36m244\u001b[0m\u001b[0;34m,\u001b[0m\u001b[0;36m3\u001b[0m\u001b[0;34m]\u001b[0m\u001b[0;34m)\u001b[0m\u001b[0;34m\u001b[0m\u001b[0;34m\u001b[0m\u001b[0m\n\u001b[0m\u001b[1;32m      8\u001b[0m \u001b[0mprint\u001b[0m\u001b[0;34m(\u001b[0m\u001b[0;34m\"預測:\"\u001b[0m\u001b[0;34m,\u001b[0m \u001b[0mmodle\u001b[0m\u001b[0;34m.\u001b[0m\u001b[0mpredict\u001b[0m\u001b[0;34m(\u001b[0m\u001b[0mimg_np\u001b[0m\u001b[0;34m)\u001b[0m\u001b[0;34m)\u001b[0m\u001b[0;34m\u001b[0m\u001b[0;34m\u001b[0m\u001b[0m\n\u001b[1;32m      9\u001b[0m \u001b[0mplt\u001b[0m\u001b[0;34m.\u001b[0m\u001b[0mimshow\u001b[0m\u001b[0;34m(\u001b[0m\u001b[0mimg\u001b[0m\u001b[0;34m,\u001b[0m \u001b[0mcmap\u001b[0m\u001b[0;34m=\u001b[0m\u001b[0;34m\"gray\"\u001b[0m\u001b[0;34m)\u001b[0m\u001b[0;34m\u001b[0m\u001b[0;34m\u001b[0m\u001b[0m\n",
            "\u001b[0;31mValueError\u001b[0m: cannot reshape array of size 150528 into shape (1,244,244,3)"
          ]
        }
      ]
    },
    {
      "cell_type": "code",
      "metadata": {
        "id": "rj02IubUlGKT",
        "colab": {
          "base_uri": "https://localhost:8080/",
          "height": 214
        },
        "outputId": "a763abc3-1d6d-4240-b4ce-121d72a201ba"
      },
      "source": [
        "ori_imgs = []\n",
        "for p in x_test:\n",
        "    img = Image.open(p).resize((224, 224)).convert(\"RGB\")\n",
        "    ori_imgs.append(np.array(img))\n",
        "ori_imgs = np.array(ori_imgs)\n",
        "preprocess_imgs = preprocess_input(ori_imgs)\n",
        "\n",
        "pre = model.predict(preprocess_imgs)\n",
        "\n"
      ],
      "execution_count": null,
      "outputs": [
        {
          "output_type": "error",
          "ename": "NameError",
          "evalue": "ignored",
          "traceback": [
            "\u001b[0;31m---------------------------------------------------------------------------\u001b[0m",
            "\u001b[0;31mNameError\u001b[0m                                 Traceback (most recent call last)",
            "\u001b[0;32m<ipython-input-30-c05320115a0c>\u001b[0m in \u001b[0;36m<module>\u001b[0;34m()\u001b[0m\n\u001b[1;32m      6\u001b[0m \u001b[0mpreprocess_imgs\u001b[0m \u001b[0;34m=\u001b[0m \u001b[0mpreprocess_input\u001b[0m\u001b[0;34m(\u001b[0m\u001b[0mori_imgs\u001b[0m\u001b[0;34m)\u001b[0m\u001b[0;34m\u001b[0m\u001b[0;34m\u001b[0m\u001b[0m\n\u001b[1;32m      7\u001b[0m \u001b[0;34m\u001b[0m\u001b[0m\n\u001b[0;32m----> 8\u001b[0;31m \u001b[0mpre\u001b[0m \u001b[0;34m=\u001b[0m \u001b[0mmodel\u001b[0m\u001b[0;34m.\u001b[0m\u001b[0mpredict\u001b[0m\u001b[0;34m(\u001b[0m\u001b[0mpreprocess_imgs\u001b[0m\u001b[0;34m)\u001b[0m\u001b[0;34m\u001b[0m\u001b[0;34m\u001b[0m\u001b[0m\n\u001b[0m\u001b[1;32m      9\u001b[0m \u001b[0;34m\u001b[0m\u001b[0m\n",
            "\u001b[0;31mNameError\u001b[0m: name 'model' is not defined"
          ]
        }
      ]
    },
    {
      "cell_type": "code",
      "metadata": {
        "id": "i3xlSmZkRh9S"
      },
      "source": [
        "pre = pre.argmax(axis=1)"
      ],
      "execution_count": null,
      "outputs": []
    },
    {
      "cell_type": "code",
      "metadata": {
        "id": "OYj1_Dg2NkTG"
      },
      "source": [
        "trans = [\"gp\", \"vivo\", \"gryphus6\", \"SR\", \"DRG\", \"FIDDLE\", \"S2\"]\n",
        " # gp + vivo + gryphus6 + SR + DRG + FIDDLE + S2\n",
        "idx = np.nonzero(pre != y_test)[0]\n",
        "pre_false_img = ori_imgs[idx]\n",
        "pre_false_val = pre[idx]\n",
        "pre_false_ori = y_test[idx]\n",
        "\n",
        "plt.figure(figsize=(15, 15))\n",
        "width = 10\n",
        "height = len(idx) // width + 1\n",
        "for i in range(len(idx)):\n",
        "    plt.subplot(height, width, i+1)\n",
        "    t = \"[O]:{}\\n[P]:{}\".format(trans[pre_false_ori[i]],\n",
        "                                trans[pre_false_val[i]])\n",
        "    plt.title(t)\n",
        "    plt.axis(\"off\")\n",
        "    plt.imshow(pre_false_img[i])\n"
      ],
      "execution_count": null,
      "outputs": []
    },
    {
      "cell_type": "code",
      "metadata": {
        "id": "-nFnhFduWCe7"
      },
      "source": [
        "import pandas as pd\n",
        "from sklearn.metrics import confusion_matrix\n",
        "mat = confusion_matrix(y_test, pre)\n",
        "pd.DataFrame(\n",
        "        mat,\n",
        "        index=[\"{}(正確)\".format(trans[i]) for i in range(7)],\n",
        "        columns=[\"{}(預測)\".format(trans[i]) for i in range(7)]\n",
        ")"
      ],
      "execution_count": null,
      "outputs": []
    },
    {
      "cell_type": "code",
      "metadata": {
        "id": "BCsJGileOuHS"
      },
      "source": [
        "import requests\n",
        "url = input(\"Enter:\")\n",
        "response = requests.get(url, stream=True, verify=False)\n",
        "img = Image.open(response.raw).resize((224, 224)).convert(\"RGB\")\n",
        "img_np = preprocess_input(np.array(img).reshape(1, 224, 224, 3))\n",
        "proba = model.predict(img_np)\n",
        "ans = proba.argmax(axis=1)\n",
        "print(\"預測:\", trans[ans[0]])\n",
        "print(\"機率:\", proba[0])\n",
        "plt.imshow(img)\n",
        "#trans = [\"gp\", \"vivo\", \"gryphus6\", \"SR\", \"DRG\", \"FIDDLE\", \"S2\"]"
      ],
      "execution_count": null,
      "outputs": []
    },
    {
      "cell_type": "code",
      "metadata": {
        "id": "jfjT8VfHp9Q8"
      },
      "source": [
        "#01:33:12"
      ],
      "execution_count": null,
      "outputs": []
    }
  ]
}