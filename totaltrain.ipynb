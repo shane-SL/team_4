{
  "nbformat": 4,
  "nbformat_minor": 0,
  "metadata": {
    "colab": {
      "name": "totaltrain.ipynb",
      "provenance": [],
      "collapsed_sections": [],
      "include_colab_link": true
    },
    "kernelspec": {
      "name": "python3",
      "display_name": "Python 3"
    },
    "language_info": {
      "name": "python"
    }
  },
  "cells": [
    {
      "cell_type": "markdown",
      "metadata": {
        "id": "view-in-github",
        "colab_type": "text"
      },
      "source": [
        "<a href=\"https://colab.research.google.com/github/shane-SL/team_4/blob/main/totaltrain.ipynb\" target=\"_parent\"><img src=\"https://colab.research.google.com/assets/colab-badge.svg\" alt=\"Open In Colab\"/></a>"
      ]
    },
    {
      "cell_type": "code",
      "metadata": {
        "colab": {
          "base_uri": "https://localhost:8080/"
        },
        "id": "h6e-rVw9RTNv",
        "outputId": "5287b49a-da40-4f68-c2ad-1512cfde3524"
      },
      "source": [
        "from google.colab import drive\n",
        "drive.mount('/content/drive')"
      ],
      "execution_count": null,
      "outputs": [
        {
          "output_type": "stream",
          "name": "stdout",
          "text": [
            "Mounted at /content/drive\n"
          ]
        }
      ]
    },
    {
      "cell_type": "markdown",
      "metadata": {
        "id": "4Saheu0D42Me"
      },
      "source": [
        "## 讀取 google drive圖檔 :"
      ]
    },
    {
      "cell_type": "code",
      "metadata": {
        "id": "7cJlniYJUsWj"
      },
      "source": [
        "import glob\n",
        "# GP125\n",
        "gp = glob.glob(\"/content/drive/MyDrive/Tebame_第四組_機車辨識/原始照片(含外拍及網路)/KYMCO_GP/*.jpg\") + glob.glob(\"/content/drive/MyDrive/Tebame_第四組_機車辨識/裁剪照片(不含不用裁的)/KYMCO_GP_125_裁/*.jpg\") \n",
        "\n",
        "# 活力 125 原始+ 裁\n",
        "vivo = glob.glob(\"/content/drive/MyDrive/Tebame_第四組_機車辨識/原始照片(含外拍及網路)/SYM_活力/*.jpg\") + glob.glob(\"/content/drive/MyDrive/Tebame_第四組_機車辨識/裁剪照片(不含不用裁的)/SYM_活力_125_裁/*.jpg\")\n",
        "\n",
        "# 勁戰六代 原始+ 裁\n",
        "gryphus6 = glob.glob(\"/content/drive/MyDrive/Tebame_第四組_機車辨識/原始照片(含外拍及網路)/YAMAHA_六代競戰/*.jpg\") + glob.glob(\"/content/drive/MyDrive/Tebame_第四組_機車辨識/裁剪照片(不含不用裁的)/YAMAHA_六代勁戰_125_裁/*.jpg\")\n",
        "\n",
        "# SYM JET SR  ...\n",
        "SR = glob.glob(\"/content/drive/MyDrive/Tebame_第四組_機車辨識/原始照片(含外拍及網路)/SYM_JET_SR/*.jpg\") + glob.glob(\"/content/drive/MyDrive/Tebame_第四組_機車辨識/裁剪照片(不含不用裁的)/SYM_JET_SR_125_裁/*.jpg\")\n",
        "\n",
        "# SYM JET SL  ...\n",
        "SL = glob.glob(\"/content/drive/MyDrive/Tebame_第四組_機車辨識/原始照片(含外拍及網路)/SYM_JET_SL/*.jpg\") + glob.glob(\"/content/drive/MyDrive/Tebame_第四組_機車辨識/裁剪照片(不含不用裁的)/SYM_JET_SL_125_裁/*.jpg\")\n",
        "\n",
        "# YAMAHA JOG  ...\n",
        "JOG = glob.glob(\"/content/drive/MyDrive/Tebame_第四組_機車辨識/原始照片(含外拍及網路)/YAMAHA_JOG/*.jpg\") + glob.glob(\"/content/drive/MyDrive/Tebame_第四組_機車辨識/裁剪照片(不含不用裁的)/YAMAHA_JOG_125_裁/*.jpg\")\n",
        "\n",
        "# YAMAHA BWS  ...\n",
        "BWS = glob.glob(\"/content/drive/MyDrive/Tebame_第四組_機車辨識/原始照片(含外拍及網路)/YAMAHA_BWS/*.jpg\") + glob.glob(\"/content/drive/MyDrive/Tebame_第四組_機車辨識/裁剪照片(不含不用裁的)/YAMAHA_BWS_125_裁/*.jpg\")\n",
        "\n",
        "# YAMAHA LIMI  ...\n",
        "LIMI = glob.glob(\"/content/drive/MyDrive/Tebame_第四組_機車辨識/原始照片(含外拍及網路)/YAMAHA_LIMI/*.jpg\") + glob.glob(\"/content/drive/MyDrive/Tebame_第四組_機車辨識/裁剪照片(不含不用裁的)/YAMAHA_LIMI_125_已裁減/*.jpg\")\n",
        "\n",
        "# KYMCO LIKE\n",
        "LIKE = glob.glob(\"/content/drive/MyDrive/Tebame_第四組_機車辨識/原始照片(含外拍及網路)/KYMCO_LIKE/*.jpg\") + glob.glob(\"/content/drive/MyDrive/Tebame_第四組_機車辨識/裁剪照片(不含不用裁的)/KYMCO_LIKE_125_裁/*.jpg\")\n",
        "\n",
        "# DRG\n",
        "DRG = glob.glob(\"/content/drive/MyDrive/Tebame_第四組_機車辨識/原始照片(含外拍及網路)/SYM_DRG/*.jpg\") + glob.glob(\"/content/drive/MyDrive/Tebame_第四組_機車辨識/裁剪照片(不含不用裁的)/SYM_DRG_裁/*.jpg\") \n",
        "\n",
        "# FIDDLE\n",
        "FIDDLE = glob.glob(\"/content/drive/MyDrive/Tebame_第四組_機車辨識/原始照片(含外拍及網路)/SYM_FIDDLE/*.jpg\") + glob.glob(\"/content/drive/MyDrive/Tebame_第四組_機車辨識/裁剪照片(不含不用裁的)/SYM_FIDDLE_125_裁/*.jpg\") \n",
        "\n",
        "# gogoro S2\n",
        "S2 = glob.glob(\"/content/drive/MyDrive/Tebame_第四組_機車辨識/原始照片(含外拍及網路)/GOGORO_S2/*.jpg\") + glob.glob(\"/content/drive/MyDrive/Tebame_第四組_機車辨識/裁剪照片(不含不用裁的)/GOGORO_S2_裁/*.jpg\")\n",
        "\n",
        "# gogoro S3\n",
        "S3 = glob.glob(\"/content/drive/MyDrive/Tebame_第四組_機車辨識/原始照片(含外拍及網路)/GOGORO_S3/*.jpg\") + glob.glob(\"/content/drive/MyDrive/Tebame_第四組_機車辨識/裁剪照片(不含不用裁的)/GOGORO_S3_裁/*.jpg\")\n",
        "\n",
        "# gogoro VIVA_MIX\n",
        "VIVAMIX = glob.glob(\"/content/drive/MyDrive/Tebame_第四組_機車辨識/原始照片(含外拍及網路)/GOGORO_VIVA_MIX/*.jpg\") + glob.glob(\"/content/drive/MyDrive/Tebame_第四組_機車辨識/裁剪照片(不含不用裁的)/GOGORO_VIVA_MIX_裁/*.jpg\")\n",
        "\n",
        "# 新名流125\n",
        "xml125 = glob.glob(\"/content/drive/MyDrive/Tebame_第四組_機車辨識/原始照片(含外拍及網路)/KYMCO_新名流/*.jpg\") + glob.glob(\"/content/drive/MyDrive/Tebame_第四組_機車辨識/裁剪照片(不含不用裁的)/KYMCO_新名流125_裁/*.jpg\")\n",
        "\n",
        "# YAMAHA 勁豪\n",
        "JH = glob.glob(\"/content/drive/MyDrive/Tebame_第四組_機車辨識/原始照片(含外拍及網路)/YAMAHA_勁豪/*.jpg\") + glob.glob(\"/content/drive/MyDrive/Tebame_第四組_機車辨識/裁剪照片(不含不用裁的)/YAMAHA_勁豪_125_裁/*.jpg\")\n",
        "\n",
        "# KRV\n",
        "KRV = glob.glob(\"/content/drive/MyDrive/Tebame_第四組_機車辨識/原始照片(含外拍及網路)/KYMCO_KRV/*.jpg\") + glob.glob(\"/content/drive/MyDrive/Tebame_第四組_機車辨識/裁剪照片(不含不用裁的)/KYMCO_KRV_裁/*.jpg\")\n",
        "\n",
        "# KYMCO MANY\n",
        "MANY = glob.glob(\"/content/drive/MyDrive/Tebame_第四組_機車辨識/原始照片(含外拍及網路)/KYMCO_MANY/*.jpg\") + glob.glob(\"/content/drive/MyDrive/Tebame_第四組_機車辨識/裁剪照片(不含不用裁的)/KYMCO_MANY_125_裁/*.jpg\")\n",
        "\n",
        "# YAMAHA FORCE\n",
        "Force = glob.glob(\"/content/drive/MyDrive/Tebame_第四組_機車辨識/原始照片(含外拍及網路)/YAMAHA_FORCE/*.jpg\") + glob.glob(\"/content/drive/MyDrive/Tebame_第四組_機車辨識/裁剪照片(不含不用裁的)/YAMAHA_FORCE_裁/*.jpg\") + glob.glob(\"/content/drive/MyDrive/Tebame_第四組_機車辨識/原始照片(含外拍及網路)/YAMAHA_FORCE/*.JPG\") + glob.glob(\"/content/drive/MyDrive/Tebame_第四組_機車辨識/裁剪照片(不含不用裁的)/YAMAHA_FORCE_裁/*.JPG\")\n",
        "\n",
        "# SYM 新迪爵\n",
        "xdj = glob.glob(\"/content/drive/MyDrive/Tebame_第四組_機車辨識/原始照片(含外拍及網路)/SYM_新迪爵/*.jpg\") + glob.glob(\"/content/drive/MyDrive/Tebame_第四組_機車辨識/裁剪照片(不含不用裁的)/SYM_新迪爵_125 _裁/*.jpg\")\n",
        "\n"
      ],
      "execution_count": null,
      "outputs": []
    },
    {
      "cell_type": "code",
      "metadata": {
        "colab": {
          "base_uri": "https://localhost:8080/",
          "height": 417
        },
        "id": "blqX5AMgVAOs",
        "outputId": "9ba758c6-361c-4b30-d847-1e7fcd221b92"
      },
      "source": [
        "import pandas as pd\n",
        "df = pd.DataFrame({\n",
        "    \"path\": gp + vivo + gryphus6 + SR + SL + JOG + BWS + LIMI + LIKE + DRG + FIDDLE + S2 + S3 + VIVAMIX + xml125 + JH + KRV + MANY + Force +xdj,\n",
        "    \"ans\": [0] * len(gp) + [1] * len(vivo) + [2] * len(gryphus6) + [3] * len(SR) + [4] * len(SL) + [5] * len(JOG) + [6] * len(BWS) + [7] * len(LIMI) + [8] * len(LIKE) + [9] * len(DRG) + [10] * len(FIDDLE) + [11] * len(S2) + [12] * len(S3) + [13] * len(VIVAMIX) + [14] * len(xml125) + [15] * len(JH) + [16] * len(KRV) + [17] * len(MANY) + [18] * len(Force) + [19] * len(xdj)\n",
        "})\n",
        "df"
      ],
      "execution_count": null,
      "outputs": [
        {
          "output_type": "execute_result",
          "data": {
            "text/html": [
              "<div>\n",
              "<style scoped>\n",
              "    .dataframe tbody tr th:only-of-type {\n",
              "        vertical-align: middle;\n",
              "    }\n",
              "\n",
              "    .dataframe tbody tr th {\n",
              "        vertical-align: top;\n",
              "    }\n",
              "\n",
              "    .dataframe thead th {\n",
              "        text-align: right;\n",
              "    }\n",
              "</style>\n",
              "<table border=\"1\" class=\"dataframe\">\n",
              "  <thead>\n",
              "    <tr style=\"text-align: right;\">\n",
              "      <th></th>\n",
              "      <th>path</th>\n",
              "      <th>ans</th>\n",
              "    </tr>\n",
              "  </thead>\n",
              "  <tbody>\n",
              "    <tr>\n",
              "      <th>0</th>\n",
              "      <td>/content/drive/MyDrive/Tebame_第四組_機車辨識/原始照片(含外...</td>\n",
              "      <td>0</td>\n",
              "    </tr>\n",
              "    <tr>\n",
              "      <th>1</th>\n",
              "      <td>/content/drive/MyDrive/Tebame_第四組_機車辨識/原始照片(含外...</td>\n",
              "      <td>0</td>\n",
              "    </tr>\n",
              "    <tr>\n",
              "      <th>2</th>\n",
              "      <td>/content/drive/MyDrive/Tebame_第四組_機車辨識/原始照片(含外...</td>\n",
              "      <td>0</td>\n",
              "    </tr>\n",
              "    <tr>\n",
              "      <th>3</th>\n",
              "      <td>/content/drive/MyDrive/Tebame_第四組_機車辨識/原始照片(含外...</td>\n",
              "      <td>0</td>\n",
              "    </tr>\n",
              "    <tr>\n",
              "      <th>4</th>\n",
              "      <td>/content/drive/MyDrive/Tebame_第四組_機車辨識/原始照片(含外...</td>\n",
              "      <td>0</td>\n",
              "    </tr>\n",
              "    <tr>\n",
              "      <th>...</th>\n",
              "      <td>...</td>\n",
              "      <td>...</td>\n",
              "    </tr>\n",
              "    <tr>\n",
              "      <th>11343</th>\n",
              "      <td>/content/drive/MyDrive/Tebame_第四組_機車辨識/裁剪照片(不含...</td>\n",
              "      <td>19</td>\n",
              "    </tr>\n",
              "    <tr>\n",
              "      <th>11344</th>\n",
              "      <td>/content/drive/MyDrive/Tebame_第四組_機車辨識/裁剪照片(不含...</td>\n",
              "      <td>19</td>\n",
              "    </tr>\n",
              "    <tr>\n",
              "      <th>11345</th>\n",
              "      <td>/content/drive/MyDrive/Tebame_第四組_機車辨識/裁剪照片(不含...</td>\n",
              "      <td>19</td>\n",
              "    </tr>\n",
              "    <tr>\n",
              "      <th>11346</th>\n",
              "      <td>/content/drive/MyDrive/Tebame_第四組_機車辨識/裁剪照片(不含...</td>\n",
              "      <td>19</td>\n",
              "    </tr>\n",
              "    <tr>\n",
              "      <th>11347</th>\n",
              "      <td>/content/drive/MyDrive/Tebame_第四組_機車辨識/裁剪照片(不含...</td>\n",
              "      <td>19</td>\n",
              "    </tr>\n",
              "  </tbody>\n",
              "</table>\n",
              "<p>11348 rows × 2 columns</p>\n",
              "</div>"
            ],
            "text/plain": [
              "                                                    path  ans\n",
              "0      /content/drive/MyDrive/Tebame_第四組_機車辨識/原始照片(含外...    0\n",
              "1      /content/drive/MyDrive/Tebame_第四組_機車辨識/原始照片(含外...    0\n",
              "2      /content/drive/MyDrive/Tebame_第四組_機車辨識/原始照片(含外...    0\n",
              "3      /content/drive/MyDrive/Tebame_第四組_機車辨識/原始照片(含外...    0\n",
              "4      /content/drive/MyDrive/Tebame_第四組_機車辨識/原始照片(含外...    0\n",
              "...                                                  ...  ...\n",
              "11343  /content/drive/MyDrive/Tebame_第四組_機車辨識/裁剪照片(不含...   19\n",
              "11344  /content/drive/MyDrive/Tebame_第四組_機車辨識/裁剪照片(不含...   19\n",
              "11345  /content/drive/MyDrive/Tebame_第四組_機車辨識/裁剪照片(不含...   19\n",
              "11346  /content/drive/MyDrive/Tebame_第四組_機車辨識/裁剪照片(不含...   19\n",
              "11347  /content/drive/MyDrive/Tebame_第四組_機車辨識/裁剪照片(不含...   19\n",
              "\n",
              "[11348 rows x 2 columns]"
            ]
          },
          "metadata": {},
          "execution_count": 116
        }
      ]
    },
    {
      "cell_type": "markdown",
      "metadata": {
        "id": "YnwjOmMTWDfb"
      },
      "source": [
        "#### 偷別人卷積網路 :\n",
        "###### google keras application"
      ]
    },
    {
      "cell_type": "code",
      "metadata": {
        "id": "XeAyL9wcWJGQ",
        "colab": {
          "base_uri": "https://localhost:8080/"
        },
        "outputId": "bd62fe20-62dc-432c-aa46-0f3989b8f31b"
      },
      "source": [
        "from tensorflow.keras.applications.vgg16 import VGG16  # 偷別人眼睛\n",
        "basemodle = VGG16(weights='imagenet', include_top=False,input_shape=(224,224,3))\n",
        "#basemodle.summary()"
      ],
      "execution_count": null,
      "outputs": [
        {
          "output_type": "stream",
          "name": "stdout",
          "text": [
            "Downloading data from https://storage.googleapis.com/tensorflow/keras-applications/vgg16/vgg16_weights_tf_dim_ordering_tf_kernels_notop.h5\n",
            "58892288/58889256 [==============================] - 1s 0us/step\n",
            "58900480/58889256 [==============================] - 1s 0us/step\n"
          ]
        }
      ]
    },
    {
      "cell_type": "markdown",
      "metadata": {
        "id": "5d_HP00CX04p"
      },
      "source": [
        "##### 高參數 =>訓練資料要多\n",
        "##### 低參數 =>訓練資料要少"
      ]
    },
    {
      "cell_type": "markdown",
      "metadata": {
        "id": "nvjHIa9RX9IL"
      },
      "source": [
        "#####開始疊層數"
      ]
    },
    {
      "cell_type": "code",
      "metadata": {
        "colab": {
          "base_uri": "https://localhost:8080/"
        },
        "id": "RzPXEjJ9YxAH",
        "outputId": "942f0c7f-7f9e-4898-b1ff-cef46d75f83b"
      },
      "source": [
        "from tensorflow.keras.models import Model, Sequential\n",
        "from tensorflow.keras.layers import Dense, BatchNormalization, Layer, GlobalAvgPool2D, LeakyReLU, Conv2D\n",
        "for i in basemodle.layers:\n",
        "  i.trainable = False\n",
        "basemodle.summary()"
      ],
      "execution_count": null,
      "outputs": [
        {
          "output_type": "stream",
          "name": "stdout",
          "text": [
            "Model: \"vgg16\"\n",
            "_________________________________________________________________\n",
            "Layer (type)                 Output Shape              Param #   \n",
            "=================================================================\n",
            "input_1 (InputLayer)         [(None, 224, 224, 3)]     0         \n",
            "_________________________________________________________________\n",
            "block1_conv1 (Conv2D)        (None, 224, 224, 64)      1792      \n",
            "_________________________________________________________________\n",
            "block1_conv2 (Conv2D)        (None, 224, 224, 64)      36928     \n",
            "_________________________________________________________________\n",
            "block1_pool (MaxPooling2D)   (None, 112, 112, 64)      0         \n",
            "_________________________________________________________________\n",
            "block2_conv1 (Conv2D)        (None, 112, 112, 128)     73856     \n",
            "_________________________________________________________________\n",
            "block2_conv2 (Conv2D)        (None, 112, 112, 128)     147584    \n",
            "_________________________________________________________________\n",
            "block2_pool (MaxPooling2D)   (None, 56, 56, 128)       0         \n",
            "_________________________________________________________________\n",
            "block3_conv1 (Conv2D)        (None, 56, 56, 256)       295168    \n",
            "_________________________________________________________________\n",
            "block3_conv2 (Conv2D)        (None, 56, 56, 256)       590080    \n",
            "_________________________________________________________________\n",
            "block3_conv3 (Conv2D)        (None, 56, 56, 256)       590080    \n",
            "_________________________________________________________________\n",
            "block3_pool (MaxPooling2D)   (None, 28, 28, 256)       0         \n",
            "_________________________________________________________________\n",
            "block4_conv1 (Conv2D)        (None, 28, 28, 512)       1180160   \n",
            "_________________________________________________________________\n",
            "block4_conv2 (Conv2D)        (None, 28, 28, 512)       2359808   \n",
            "_________________________________________________________________\n",
            "block4_conv3 (Conv2D)        (None, 28, 28, 512)       2359808   \n",
            "_________________________________________________________________\n",
            "block4_pool (MaxPooling2D)   (None, 14, 14, 512)       0         \n",
            "_________________________________________________________________\n",
            "block5_conv1 (Conv2D)        (None, 14, 14, 512)       2359808   \n",
            "_________________________________________________________________\n",
            "block5_conv2 (Conv2D)        (None, 14, 14, 512)       2359808   \n",
            "_________________________________________________________________\n",
            "block5_conv3 (Conv2D)        (None, 14, 14, 512)       2359808   \n",
            "_________________________________________________________________\n",
            "block5_pool (MaxPooling2D)   (None, 7, 7, 512)         0         \n",
            "=================================================================\n",
            "Total params: 14,714,688\n",
            "Trainable params: 0\n",
            "Non-trainable params: 14,714,688\n",
            "_________________________________________________________________\n"
          ]
        }
      ]
    },
    {
      "cell_type": "code",
      "metadata": {
        "colab": {
          "base_uri": "https://localhost:8080/"
        },
        "id": "bBenDtzUBCDK",
        "outputId": "73e2243a-8691-446b-86ac-e81c21963538"
      },
      "source": [
        "from tensorflow.keras.models import Model\n",
        "from tensorflow.keras.layers import Dense, BatchNormalization, Layer, GlobalMaxPool2D, LeakyReLU, Conv2D, Input, Concatenate, Add, AveragePooling2D, Dense, MaxPool2D\n",
        "\n",
        "selfmodelinput = Input(shape=(224,224,3))\n",
        "conv1x1_0_0 = Conv2D(29,1,padding=\"same\",activation=LeakyReLU(alpha=0.25),strides=2)(selfmodelinput)\n",
        "conv4x4_0_0 = Conv2D(32,4,padding=\"same\",activation=LeakyReLU(alpha=0.25),strides=2)(selfmodelinput)\n",
        "conv4x4_0_1 = Conv2D(32,4,padding=\"same\",activation=LeakyReLU(alpha=0.25),strides=2)(selfmodelinput)\n",
        "conv4x4_0_2 = Conv2D(32,4,padding=\"same\",activation=LeakyReLU(alpha=0.25),strides=1)(conv4x4_0_1)\n",
        "avgpool0 = AveragePooling2D(pool_size=(2,2))(selfmodelinput)\n",
        "concat0 = Concatenate(axis=-1)([conv1x1_0_0,avgpool0])\n",
        "add0 = Add()([conv4x4_0_0,conv4x4_0_2,concat0])\n",
        "bn0 = BatchNormalization(axis=-1)(add0)\n",
        "conv1x1_1_0 = Conv2D(12,1,padding=\"same\",activation=LeakyReLU(alpha=0.25),strides=2)(bn0)\n",
        "conv4x4_1_0 = Conv2D(10,4,padding=\"same\",activation=LeakyReLU(alpha=0.25),strides=2)(bn0)\n",
        "conv4x4_1_1 = Conv2D(10,4,padding=\"same\",activation=LeakyReLU(alpha=0.25),strides=2)(bn0)\n",
        "conv4x4_1_2 = Conv2D(10,4,padding=\"same\",activation=LeakyReLU(alpha=0.25),strides=1)(conv4x4_1_1)\n",
        "avgpool1 = AveragePooling2D(pool_size=(2,2))(bn0)\n",
        "concat1 = Concatenate(axis=-1)([conv1x1_1_0,conv4x4_1_0,conv4x4_1_2])\n",
        "add1 = Add()([avgpool1,concat1])\n",
        "bn1 = BatchNormalization(axis=-1)(add1)\n",
        "conv1x1_2_0 = Conv2D(12,1,padding=\"same\",activation=LeakyReLU(alpha=0.25),strides=2)(bn1)\n",
        "conv4x4_2_0 = Conv2D(10,4,padding=\"same\",activation=LeakyReLU(alpha=0.25),strides=2)(bn1)\n",
        "conv4x4_2_1 = Conv2D(10,4,padding=\"same\",activation=LeakyReLU(alpha=0.25),strides=2)(bn1)\n",
        "conv4x4_2_2 = Conv2D(10,4,padding=\"same\",activation=LeakyReLU(alpha=0.25),strides=1)(conv4x4_2_1)\n",
        "avgpool2 = AveragePooling2D(pool_size=(2,2))(bn1)\n",
        "concat2 = Concatenate(axis=-1)([conv1x1_2_0,conv4x4_2_0,conv4x4_2_2])\n",
        "add2 = Add()([avgpool2,concat2])\n",
        "bn2 = BatchNormalization(axis=-1)(add2)\n",
        "conv1x1_3_0 = Conv2D(12,1,padding=\"same\",activation=LeakyReLU(alpha=0.25),strides=2)(bn2)\n",
        "conv4x4_3_0 = Conv2D(10,4,padding=\"same\",activation=LeakyReLU(alpha=0.25),strides=2)(bn2)\n",
        "conv4x4_3_1 = Conv2D(10,4,padding=\"same\",activation=LeakyReLU(alpha=0.25),strides=2)(bn2)\n",
        "conv4x4_3_2 = Conv2D(10,4,padding=\"same\",activation=LeakyReLU(alpha=0.25),strides=1)(conv4x4_3_1)\n",
        "avgpool3 = AveragePooling2D(pool_size=(2,2))(bn2)\n",
        "avgpool3_0 = AveragePooling2D(pool_size=(16,16))(selfmodelinput)\n",
        "concat3 = Concatenate(axis=-1)([conv1x1_3_0,conv4x4_3_0,conv4x4_3_2])\n",
        "add3 = Add()([avgpool3,concat3])\n",
        "concat3_0 = Concatenate(axis=-1)([add3,avgpool3_0])\n",
        "bn3 = BatchNormalization(axis=-1)(concat3_0)\n",
        "conv1x1_4_0 = Conv2D(12,1,padding=\"same\",activation=LeakyReLU(alpha=0.25),strides=2)(bn3)\n",
        "conv4x4_4_0 = Conv2D(12,4,padding=\"same\",activation=LeakyReLU(alpha=0.25),strides=2)(bn3)\n",
        "conv4x4_4_1 = Conv2D(11,4,padding=\"same\",activation=LeakyReLU(alpha=0.25),strides=2)(bn3)\n",
        "conv4x4_4_2 = Conv2D(11,4,padding=\"same\",activation=LeakyReLU(alpha=0.25),strides=1)(conv4x4_4_1)\n",
        "avgpool4 = AveragePooling2D(pool_size=(2,2))(bn3)\n",
        "concat4 = Concatenate(axis=-1)([conv1x1_4_0,conv4x4_4_0,conv4x4_4_2])\n",
        "add4 = Add()([avgpool4,concat4])\n",
        "bn4 = BatchNormalization(axis=-1)(add4)\n",
        "gp = GlobalMaxPool2D()(bn4)\n",
        "\n",
        "conv3x3_e_0_0 = Conv2D(16,3,padding=\"same\",activation=LeakyReLU(alpha=0.25),strides=1)(selfmodelinput)\n",
        "conv3x3_e_0_1 = Conv2D(16,3,padding=\"same\",activation=LeakyReLU(alpha=0.25),strides=2)(conv3x3_e_0_0)\n",
        "bn_e0 = BatchNormalization(axis=-1)(conv3x3_e_0_1)\n",
        "conv3x3_e_1_0 = Conv2D(16,3,padding=\"same\",activation=LeakyReLU(alpha=0.25),strides=1)(bn_e0)\n",
        "conv3x3_e_1_1 = Conv2D(16,3,padding=\"same\",activation=LeakyReLU(alpha=0.25),strides=2)(conv3x3_e_1_0)\n",
        "maxpool_e_1_1 = MaxPool2D(pool_size=(2,2))(bn_e0)\n",
        "add_e_1 = Add()([conv3x3_e_1_1,maxpool_e_1_1])\n",
        "bn_e1 = BatchNormalization(axis=-1)(add_e_1)\n",
        "conv3x3_e_2_0 = Conv2D(16,3,padding=\"same\",activation=LeakyReLU(alpha=0.25),strides=1)(bn_e1)\n",
        "conv3x3_e_2_1 = Conv2D(16,3,padding=\"same\",activation=LeakyReLU(alpha=0.25),strides=2)(conv3x3_e_2_0)\n",
        "maxpool_e_2_1 = MaxPool2D(pool_size=(2,2))(bn_e1)\n",
        "add_e_2 = Add()([conv3x3_e_2_1,maxpool_e_2_1])\n",
        "bn_e2 = BatchNormalization(axis=-1)(add_e_2)\n",
        "conv3x3_e_3_0 = Conv2D(16,3,padding=\"same\",activation=LeakyReLU(alpha=0.25),strides=1)(bn_e2)\n",
        "conv3x3_e_3_1 = Conv2D(16,3,padding=\"same\",activation=LeakyReLU(alpha=0.25),strides=2)(conv3x3_e_3_0)\n",
        "maxpool_e_3_1 = MaxPool2D(pool_size=(2,2))(bn_e2)\n",
        "add_e_3 = Add()([conv3x3_e_3_1,maxpool_e_3_1])\n",
        "bn_e3 = BatchNormalization(axis=-1)(add_e_3)\n",
        "conv3x3_e_4_0 = Conv2D(16,3,padding=\"same\",activation=LeakyReLU(alpha=0.25),strides=1)(bn_e3)\n",
        "conv3x3_e_4_1 = Conv2D(16,3,padding=\"same\",activation=LeakyReLU(alpha=0.25),strides=2)(conv3x3_e_4_0)\n",
        "maxpool_e_4_1 = MaxPool2D(pool_size=(2,2))(bn_e3)\n",
        "add_e_4 = Add()([conv3x3_e_4_1,maxpool_e_4_1])\n",
        "bn_e4 = BatchNormalization(axis=-1)(add_e_4)\n",
        "gp1 = GlobalMaxPool2D()(bn_e4)\n",
        "\n",
        "concat_all = Concatenate(axis=-1)([gp,gp1])\n",
        "alk = Dense(20, activation=\"softmax\")(concat_all)\n",
        "selfmymodel = Model(inputs=[selfmodelinput],outputs=[alk])\n",
        "selfmymodel.summary()"
      ],
      "execution_count": null,
      "outputs": [
        {
          "output_type": "stream",
          "name": "stdout",
          "text": [
            "Model: \"model_11\"\n",
            "__________________________________________________________________________________________________\n",
            "Layer (type)                    Output Shape         Param #     Connected to                     \n",
            "==================================================================================================\n",
            "input_16 (InputLayer)           [(None, 224, 224, 3) 0                                            \n",
            "__________________________________________________________________________________________________\n",
            "conv2d_308 (Conv2D)             (None, 112, 112, 32) 1568        input_16[0][0]                   \n",
            "__________________________________________________________________________________________________\n",
            "conv2d_306 (Conv2D)             (None, 112, 112, 29) 116         input_16[0][0]                   \n",
            "__________________________________________________________________________________________________\n",
            "average_pooling2d_79 (AveragePo (None, 112, 112, 3)  0           input_16[0][0]                   \n",
            "__________________________________________________________________________________________________\n",
            "conv2d_307 (Conv2D)             (None, 112, 112, 32) 1568        input_16[0][0]                   \n",
            "__________________________________________________________________________________________________\n",
            "conv2d_309 (Conv2D)             (None, 112, 112, 32) 16416       conv2d_308[0][0]                 \n",
            "__________________________________________________________________________________________________\n",
            "concatenate_81 (Concatenate)    (None, 112, 112, 32) 0           conv2d_306[0][0]                 \n",
            "                                                                 average_pooling2d_79[0][0]       \n",
            "__________________________________________________________________________________________________\n",
            "add_79 (Add)                    (None, 112, 112, 32) 0           conv2d_307[0][0]                 \n",
            "                                                                 conv2d_309[0][0]                 \n",
            "                                                                 concatenate_81[0][0]             \n",
            "__________________________________________________________________________________________________\n",
            "batch_normalization_79 (BatchNo (None, 112, 112, 32) 128         add_79[0][0]                     \n",
            "__________________________________________________________________________________________________\n",
            "conv2d_312 (Conv2D)             (None, 56, 56, 10)   5130        batch_normalization_79[0][0]     \n",
            "__________________________________________________________________________________________________\n",
            "conv2d_310 (Conv2D)             (None, 56, 56, 12)   396         batch_normalization_79[0][0]     \n",
            "__________________________________________________________________________________________________\n",
            "conv2d_311 (Conv2D)             (None, 56, 56, 10)   5130        batch_normalization_79[0][0]     \n",
            "__________________________________________________________________________________________________\n",
            "conv2d_313 (Conv2D)             (None, 56, 56, 10)   1610        conv2d_312[0][0]                 \n",
            "__________________________________________________________________________________________________\n",
            "average_pooling2d_80 (AveragePo (None, 56, 56, 32)   0           batch_normalization_79[0][0]     \n",
            "__________________________________________________________________________________________________\n",
            "concatenate_82 (Concatenate)    (None, 56, 56, 32)   0           conv2d_310[0][0]                 \n",
            "                                                                 conv2d_311[0][0]                 \n",
            "                                                                 conv2d_313[0][0]                 \n",
            "__________________________________________________________________________________________________\n",
            "conv2d_326 (Conv2D)             (None, 224, 224, 16) 448         input_16[0][0]                   \n",
            "__________________________________________________________________________________________________\n",
            "add_80 (Add)                    (None, 56, 56, 32)   0           average_pooling2d_80[0][0]       \n",
            "                                                                 concatenate_82[0][0]             \n",
            "__________________________________________________________________________________________________\n",
            "conv2d_327 (Conv2D)             (None, 112, 112, 16) 2320        conv2d_326[0][0]                 \n",
            "__________________________________________________________________________________________________\n",
            "batch_normalization_80 (BatchNo (None, 56, 56, 32)   128         add_80[0][0]                     \n",
            "__________________________________________________________________________________________________\n",
            "batch_normalization_84 (BatchNo (None, 112, 112, 16) 64          conv2d_327[0][0]                 \n",
            "__________________________________________________________________________________________________\n",
            "conv2d_316 (Conv2D)             (None, 28, 28, 10)   5130        batch_normalization_80[0][0]     \n",
            "__________________________________________________________________________________________________\n",
            "conv2d_328 (Conv2D)             (None, 112, 112, 16) 2320        batch_normalization_84[0][0]     \n",
            "__________________________________________________________________________________________________\n",
            "conv2d_314 (Conv2D)             (None, 28, 28, 12)   396         batch_normalization_80[0][0]     \n",
            "__________________________________________________________________________________________________\n",
            "conv2d_315 (Conv2D)             (None, 28, 28, 10)   5130        batch_normalization_80[0][0]     \n",
            "__________________________________________________________________________________________________\n",
            "conv2d_317 (Conv2D)             (None, 28, 28, 10)   1610        conv2d_316[0][0]                 \n",
            "__________________________________________________________________________________________________\n",
            "conv2d_329 (Conv2D)             (None, 56, 56, 16)   2320        conv2d_328[0][0]                 \n",
            "__________________________________________________________________________________________________\n",
            "max_pooling2d_13 (MaxPooling2D) (None, 56, 56, 16)   0           batch_normalization_84[0][0]     \n",
            "__________________________________________________________________________________________________\n",
            "average_pooling2d_81 (AveragePo (None, 28, 28, 32)   0           batch_normalization_80[0][0]     \n",
            "__________________________________________________________________________________________________\n",
            "concatenate_83 (Concatenate)    (None, 28, 28, 32)   0           conv2d_314[0][0]                 \n",
            "                                                                 conv2d_315[0][0]                 \n",
            "                                                                 conv2d_317[0][0]                 \n",
            "__________________________________________________________________________________________________\n",
            "add_84 (Add)                    (None, 56, 56, 16)   0           conv2d_329[0][0]                 \n",
            "                                                                 max_pooling2d_13[0][0]           \n",
            "__________________________________________________________________________________________________\n",
            "add_81 (Add)                    (None, 28, 28, 32)   0           average_pooling2d_81[0][0]       \n",
            "                                                                 concatenate_83[0][0]             \n",
            "__________________________________________________________________________________________________\n",
            "batch_normalization_85 (BatchNo (None, 56, 56, 16)   64          add_84[0][0]                     \n",
            "__________________________________________________________________________________________________\n",
            "batch_normalization_81 (BatchNo (None, 28, 28, 32)   128         add_81[0][0]                     \n",
            "__________________________________________________________________________________________________\n",
            "conv2d_330 (Conv2D)             (None, 56, 56, 16)   2320        batch_normalization_85[0][0]     \n",
            "__________________________________________________________________________________________________\n",
            "conv2d_320 (Conv2D)             (None, 14, 14, 10)   5130        batch_normalization_81[0][0]     \n",
            "__________________________________________________________________________________________________\n",
            "conv2d_331 (Conv2D)             (None, 28, 28, 16)   2320        conv2d_330[0][0]                 \n",
            "__________________________________________________________________________________________________\n",
            "max_pooling2d_14 (MaxPooling2D) (None, 28, 28, 16)   0           batch_normalization_85[0][0]     \n",
            "__________________________________________________________________________________________________\n",
            "conv2d_318 (Conv2D)             (None, 14, 14, 12)   396         batch_normalization_81[0][0]     \n",
            "__________________________________________________________________________________________________\n",
            "conv2d_319 (Conv2D)             (None, 14, 14, 10)   5130        batch_normalization_81[0][0]     \n",
            "__________________________________________________________________________________________________\n",
            "conv2d_321 (Conv2D)             (None, 14, 14, 10)   1610        conv2d_320[0][0]                 \n",
            "__________________________________________________________________________________________________\n",
            "add_85 (Add)                    (None, 28, 28, 16)   0           conv2d_331[0][0]                 \n",
            "                                                                 max_pooling2d_14[0][0]           \n",
            "__________________________________________________________________________________________________\n",
            "average_pooling2d_82 (AveragePo (None, 14, 14, 32)   0           batch_normalization_81[0][0]     \n",
            "__________________________________________________________________________________________________\n",
            "concatenate_84 (Concatenate)    (None, 14, 14, 32)   0           conv2d_318[0][0]                 \n",
            "                                                                 conv2d_319[0][0]                 \n",
            "                                                                 conv2d_321[0][0]                 \n",
            "__________________________________________________________________________________________________\n",
            "batch_normalization_86 (BatchNo (None, 28, 28, 16)   64          add_85[0][0]                     \n",
            "__________________________________________________________________________________________________\n",
            "add_82 (Add)                    (None, 14, 14, 32)   0           average_pooling2d_82[0][0]       \n",
            "                                                                 concatenate_84[0][0]             \n",
            "__________________________________________________________________________________________________\n",
            "average_pooling2d_83 (AveragePo (None, 14, 14, 3)    0           input_16[0][0]                   \n",
            "__________________________________________________________________________________________________\n",
            "conv2d_332 (Conv2D)             (None, 28, 28, 16)   2320        batch_normalization_86[0][0]     \n",
            "__________________________________________________________________________________________________\n",
            "concatenate_85 (Concatenate)    (None, 14, 14, 35)   0           add_82[0][0]                     \n",
            "                                                                 average_pooling2d_83[0][0]       \n",
            "__________________________________________________________________________________________________\n",
            "conv2d_333 (Conv2D)             (None, 14, 14, 16)   2320        conv2d_332[0][0]                 \n",
            "__________________________________________________________________________________________________\n",
            "max_pooling2d_15 (MaxPooling2D) (None, 14, 14, 16)   0           batch_normalization_86[0][0]     \n",
            "__________________________________________________________________________________________________\n",
            "batch_normalization_82 (BatchNo (None, 14, 14, 35)   140         concatenate_85[0][0]             \n",
            "__________________________________________________________________________________________________\n",
            "add_86 (Add)                    (None, 14, 14, 16)   0           conv2d_333[0][0]                 \n",
            "                                                                 max_pooling2d_15[0][0]           \n",
            "__________________________________________________________________________________________________\n",
            "conv2d_324 (Conv2D)             (None, 7, 7, 11)     6171        batch_normalization_82[0][0]     \n",
            "__________________________________________________________________________________________________\n",
            "batch_normalization_87 (BatchNo (None, 14, 14, 16)   64          add_86[0][0]                     \n",
            "__________________________________________________________________________________________________\n",
            "conv2d_322 (Conv2D)             (None, 7, 7, 12)     432         batch_normalization_82[0][0]     \n",
            "__________________________________________________________________________________________________\n",
            "conv2d_323 (Conv2D)             (None, 7, 7, 12)     6732        batch_normalization_82[0][0]     \n",
            "__________________________________________________________________________________________________\n",
            "conv2d_325 (Conv2D)             (None, 7, 7, 11)     1947        conv2d_324[0][0]                 \n",
            "__________________________________________________________________________________________________\n",
            "conv2d_334 (Conv2D)             (None, 14, 14, 16)   2320        batch_normalization_87[0][0]     \n",
            "__________________________________________________________________________________________________\n",
            "average_pooling2d_84 (AveragePo (None, 7, 7, 35)     0           batch_normalization_82[0][0]     \n",
            "__________________________________________________________________________________________________\n",
            "concatenate_86 (Concatenate)    (None, 7, 7, 35)     0           conv2d_322[0][0]                 \n",
            "                                                                 conv2d_323[0][0]                 \n",
            "                                                                 conv2d_325[0][0]                 \n",
            "__________________________________________________________________________________________________\n",
            "conv2d_335 (Conv2D)             (None, 7, 7, 16)     2320        conv2d_334[0][0]                 \n",
            "__________________________________________________________________________________________________\n",
            "max_pooling2d_16 (MaxPooling2D) (None, 7, 7, 16)     0           batch_normalization_87[0][0]     \n",
            "__________________________________________________________________________________________________\n",
            "add_83 (Add)                    (None, 7, 7, 35)     0           average_pooling2d_84[0][0]       \n",
            "                                                                 concatenate_86[0][0]             \n",
            "__________________________________________________________________________________________________\n",
            "add_87 (Add)                    (None, 7, 7, 16)     0           conv2d_335[0][0]                 \n",
            "                                                                 max_pooling2d_16[0][0]           \n",
            "__________________________________________________________________________________________________\n",
            "batch_normalization_83 (BatchNo (None, 7, 7, 35)     140         add_83[0][0]                     \n",
            "__________________________________________________________________________________________________\n",
            "batch_normalization_88 (BatchNo (None, 7, 7, 16)     64          add_87[0][0]                     \n",
            "__________________________________________________________________________________________________\n",
            "global_max_pooling2d_14 (Global (None, 35)           0           batch_normalization_83[0][0]     \n",
            "__________________________________________________________________________________________________\n",
            "global_max_pooling2d_15 (Global (None, 16)           0           batch_normalization_88[0][0]     \n",
            "__________________________________________________________________________________________________\n",
            "concatenate_87 (Concatenate)    (None, 51)           0           global_max_pooling2d_14[0][0]    \n",
            "                                                                 global_max_pooling2d_15[0][0]    \n",
            "__________________________________________________________________________________________________\n",
            "dense_12 (Dense)                (None, 20)           1040        concatenate_87[0][0]             \n",
            "==================================================================================================\n",
            "Total params: 95,100\n",
            "Trainable params: 94,608\n",
            "Non-trainable params: 492\n",
            "__________________________________________________________________________________________________\n"
          ]
        }
      ]
    },
    {
      "cell_type": "code",
      "metadata": {
        "colab": {
          "base_uri": "https://localhost:8080/"
        },
        "id": "LrQnWNjJZJSG",
        "outputId": "f10c8d3b-50b8-4fd1-ff51-941157b18f38"
      },
      "source": [
        "layers = [\n",
        "          BatchNormalization(),\n",
        "          GlobalAvgPool2D(),\n",
        "          Dense(128, activation=LeakyReLU(alpha=0.25)),\n",
        "          Dense(20, activation=\"softmax\")\n",
        "]\n",
        "mymodel = Sequential(layers)\n",
        "modle= Model(inputs=basemodle.input,outputs = mymodel(basemodle.output))\n",
        "modle.summary()"
      ],
      "execution_count": null,
      "outputs": [
        {
          "output_type": "stream",
          "name": "stdout",
          "text": [
            "Model: \"model\"\n",
            "_________________________________________________________________\n",
            "Layer (type)                 Output Shape              Param #   \n",
            "=================================================================\n",
            "input_1 (InputLayer)         [(None, 224, 224, 3)]     0         \n",
            "_________________________________________________________________\n",
            "block1_conv1 (Conv2D)        (None, 224, 224, 64)      1792      \n",
            "_________________________________________________________________\n",
            "block1_conv2 (Conv2D)        (None, 224, 224, 64)      36928     \n",
            "_________________________________________________________________\n",
            "block1_pool (MaxPooling2D)   (None, 112, 112, 64)      0         \n",
            "_________________________________________________________________\n",
            "block2_conv1 (Conv2D)        (None, 112, 112, 128)     73856     \n",
            "_________________________________________________________________\n",
            "block2_conv2 (Conv2D)        (None, 112, 112, 128)     147584    \n",
            "_________________________________________________________________\n",
            "block2_pool (MaxPooling2D)   (None, 56, 56, 128)       0         \n",
            "_________________________________________________________________\n",
            "block3_conv1 (Conv2D)        (None, 56, 56, 256)       295168    \n",
            "_________________________________________________________________\n",
            "block3_conv2 (Conv2D)        (None, 56, 56, 256)       590080    \n",
            "_________________________________________________________________\n",
            "block3_conv3 (Conv2D)        (None, 56, 56, 256)       590080    \n",
            "_________________________________________________________________\n",
            "block3_pool (MaxPooling2D)   (None, 28, 28, 256)       0         \n",
            "_________________________________________________________________\n",
            "block4_conv1 (Conv2D)        (None, 28, 28, 512)       1180160   \n",
            "_________________________________________________________________\n",
            "block4_conv2 (Conv2D)        (None, 28, 28, 512)       2359808   \n",
            "_________________________________________________________________\n",
            "block4_conv3 (Conv2D)        (None, 28, 28, 512)       2359808   \n",
            "_________________________________________________________________\n",
            "block4_pool (MaxPooling2D)   (None, 14, 14, 512)       0         \n",
            "_________________________________________________________________\n",
            "block5_conv1 (Conv2D)        (None, 14, 14, 512)       2359808   \n",
            "_________________________________________________________________\n",
            "block5_conv2 (Conv2D)        (None, 14, 14, 512)       2359808   \n",
            "_________________________________________________________________\n",
            "block5_conv3 (Conv2D)        (None, 14, 14, 512)       2359808   \n",
            "_________________________________________________________________\n",
            "block5_pool (MaxPooling2D)   (None, 7, 7, 512)         0         \n",
            "_________________________________________________________________\n",
            "sequential (Sequential)      (None, 20)                70292     \n",
            "=================================================================\n",
            "Total params: 14,784,980\n",
            "Trainable params: 69,268\n",
            "Non-trainable params: 14,715,712\n",
            "_________________________________________________________________\n"
          ]
        }
      ]
    },
    {
      "cell_type": "markdown",
      "metadata": {
        "id": "w-IDhU-nZxCS"
      },
      "source": [
        "##### 模型 compile"
      ]
    },
    {
      "cell_type": "code",
      "metadata": {
        "id": "Wz16ZkEsk_tC"
      },
      "source": [
        "from tensorflow.keras.losses import SparseCategoricalCrossentropy\n",
        "modle.compile(\n",
        "        loss=SparseCategoricalCrossentropy(),\n",
        "        optimizer=\"adam\",\n",
        "        metrics=[\"accuracy\"]\n",
        ")"
      ],
      "execution_count": null,
      "outputs": []
    },
    {
      "cell_type": "code",
      "metadata": {
        "id": "owMIiM0sx12R"
      },
      "source": [
        "from tensorflow.keras.losses import SparseCategoricalCrossentropy\n",
        "selfmymodel.compile(\n",
        "        loss=SparseCategoricalCrossentropy(),\n",
        "        optimizer=\"adam\",\n",
        "        metrics=[\"accuracy\"]\n",
        ")"
      ],
      "execution_count": null,
      "outputs": []
    },
    {
      "cell_type": "markdown",
      "metadata": {
        "id": "O-axp9LJl_Xy"
      },
      "source": [
        "###### 先看一下圖片"
      ]
    },
    {
      "cell_type": "code",
      "metadata": {
        "id": "tHkCt1KTmmiJ"
      },
      "source": [
        "import random\n",
        "import matplotlib.pyplot as plt\n",
        "from PIL import Image\n",
        "import numpy as np\n",
        "# import 匯入 當初預處理的方式\n",
        "from tensorflow.keras.applications.inception_resnet_v2 import preprocess_input \n",
        "p = df[\"path\"]\n",
        "idx = random.randint(0, len(p)-1)\n",
        "img = Image.open(p[idx]).resize((224, 224)).convert(\"RGB\")\n",
        "img_np = np.array(img)\n",
        "img_np_pre = preprocess_input(img_np)\n",
        "print(img_np_pre)\n",
        "plt.imshow(img)"
      ],
      "execution_count": null,
      "outputs": []
    },
    {
      "cell_type": "code",
      "metadata": {
        "colab": {
          "base_uri": "https://localhost:8080/"
        },
        "id": "x-jv6gU4patC",
        "outputId": "483b352b-6b99-4756-96d2-55402ae70973"
      },
      "source": [
        "p"
      ],
      "execution_count": null,
      "outputs": [
        {
          "output_type": "execute_result",
          "data": {
            "text/plain": [
              "0        /content/drive/MyDrive/Tebame_第四組_機車辨識/原始照片(含外...\n",
              "1        /content/drive/MyDrive/Tebame_第四組_機車辨識/原始照片(含外...\n",
              "2        /content/drive/MyDrive/Tebame_第四組_機車辨識/原始照片(含外...\n",
              "3        /content/drive/MyDrive/Tebame_第四組_機車辨識/原始照片(含外...\n",
              "4        /content/drive/MyDrive/Tebame_第四組_機車辨識/原始照片(含外...\n",
              "                               ...                        \n",
              "11343    /content/drive/MyDrive/Tebame_第四組_機車辨識/裁剪照片(不含...\n",
              "11344    /content/drive/MyDrive/Tebame_第四組_機車辨識/裁剪照片(不含...\n",
              "11345    /content/drive/MyDrive/Tebame_第四組_機車辨識/裁剪照片(不含...\n",
              "11346    /content/drive/MyDrive/Tebame_第四組_機車辨識/裁剪照片(不含...\n",
              "11347    /content/drive/MyDrive/Tebame_第四組_機車辨識/裁剪照片(不含...\n",
              "Name: path, Length: 11348, dtype: object"
            ]
          },
          "metadata": {},
          "execution_count": 14
        }
      ]
    },
    {
      "cell_type": "markdown",
      "metadata": {
        "id": "4SdWQzdQ8prx"
      },
      "source": [
        "### generator"
      ]
    },
    {
      "cell_type": "code",
      "metadata": {
        "id": "r107hGfBCRN4"
      },
      "source": [
        "x = np.array(df[\"path\"])\n",
        "y = np.array(df[\"ans\"])"
      ],
      "execution_count": null,
      "outputs": []
    },
    {
      "cell_type": "code",
      "metadata": {
        "id": "vdqPn6pQ-yxK",
        "colab": {
          "base_uri": "https://localhost:8080/"
        },
        "outputId": "9512ecb4-d5ee-492c-8f12-eb080421f8b4"
      },
      "source": [
        "def data_generator(x, y, batch_size=19):\n",
        "  while True:\n",
        "    idx = np.random.randint(0, len(x), size=batch_size)\n",
        "    x_batch, y_batch = x[idx], y[idx]\n",
        "    x_final = []\n",
        "    for path in x_batch:\n",
        "      img = Image.open(path).resize((224, 224)).convert(\"RGB\")    #  開啟路徑圖檔並改大小、轉成RGB\n",
        "      img_pre = preprocess_input(np.array(img))              # 轉成陣列再預處理\n",
        "      x_final.append(img_pre)            \n",
        "    x_final = np.array(x_final)\n",
        "    y_batch = np.array(y_batch)\n",
        "    yield (x_final, y_batch)\n",
        "gen = data_generator(x, y)\n",
        "x_gen, y_gen = gen.__next__()\n",
        "print(x_gen.shape)\n",
        "print(y_gen.shape)\n",
        "print(x_gen)\n",
        "print(y_gen)\n"
      ],
      "execution_count": null,
      "outputs": [
        {
          "output_type": "stream",
          "name": "stdout",
          "text": [
            "(19, 224, 224, 3)\n",
            "(19,)\n",
            "[[[[-0.10588235 -0.3490196  -0.45098037]\n",
            "   [-0.10588235 -0.31764704 -0.45098037]\n",
            "   [-0.03529412 -0.12156862 -0.15294117]\n",
            "   ...\n",
            "   [ 0.32549024  0.41960788  0.33333337]\n",
            "   [ 0.27058828  0.34901965  0.27843142]\n",
            "   [ 0.22352946  0.30196083  0.2313726 ]]\n",
            "\n",
            "  [[-0.06666666 -0.30196077 -0.44313723]\n",
            "   [-0.0745098  -0.2862745  -0.44313723]\n",
            "   [-0.04313725 -0.15294117 -0.20784312]\n",
            "   ...\n",
            "   [ 0.10588241  0.17647064  0.12941182]\n",
            "   [ 0.10588241  0.18431377  0.12941182]\n",
            "   [ 0.10588241  0.19215691  0.12156868]]\n",
            "\n",
            "  [[-0.00392157 -0.2235294  -0.38823527]\n",
            "   [-0.05098039 -0.27058822 -0.42745095]\n",
            "   [-0.09019607 -0.21568626 -0.2862745 ]\n",
            "   ...\n",
            "   [ 0.14509809  0.20000005  0.12156868]\n",
            "   [ 0.14509809  0.20784318  0.12941182]\n",
            "   [ 0.15294123  0.21568632  0.13725495]]\n",
            "\n",
            "  ...\n",
            "\n",
            "  [[-0.5294118  -0.5294118  -0.5137255 ]\n",
            "   [-0.52156866 -0.5294118  -0.5137255 ]\n",
            "   [-0.5058824  -0.52156866 -0.5058824 ]\n",
            "   ...\n",
            "   [ 0.5686275   0.58431375  0.54509807]\n",
            "   [ 0.54509807  0.58431375  0.5372549 ]\n",
            "   [ 0.5921569   0.6313726   0.58431375]]\n",
            "\n",
            "  [[-0.52156866 -0.52156866 -0.5137255 ]\n",
            "   [-0.5137255  -0.52156866 -0.4980392 ]\n",
            "   [-0.49019605 -0.5058824  -0.49019605]\n",
            "   ...\n",
            "   [ 0.5294118   0.5372549   0.49803925]\n",
            "   [ 0.6         0.6156863   0.5764706 ]\n",
            "   [ 0.5686275   0.5921569   0.54509807]]\n",
            "\n",
            "  [[-0.6156863  -0.64705884 -0.62352943]\n",
            "   [-0.6392157  -0.6627451  -0.6313726 ]\n",
            "   [-0.62352943 -0.6392157  -0.60784316]\n",
            "   ...\n",
            "   [ 0.5529412   0.56078434  0.52156866]\n",
            "   [ 0.52156866  0.5294118   0.4901961 ]\n",
            "   [ 0.5686275   0.58431375  0.54509807]]]\n",
            "\n",
            "\n",
            " [[[ 0.36470592  0.34901965  0.27843142]\n",
            "   [ 0.09803927  0.09803927  0.02745104]\n",
            "   [-0.04313725 -0.04313725 -0.09019607]\n",
            "   ...\n",
            "   [ 1.          1.          1.        ]\n",
            "   [ 1.          1.          1.        ]\n",
            "   [ 1.          1.          1.        ]]\n",
            "\n",
            "  [[-0.09019607 -0.08235294 -0.14509803]\n",
            "   [ 0.23921573  0.21568632  0.1686275 ]\n",
            "   [ 0.14509809  0.12156868  0.082353  ]\n",
            "   ...\n",
            "   [ 1.          1.          1.        ]\n",
            "   [ 1.          1.          1.        ]\n",
            "   [ 1.          1.          1.        ]]\n",
            "\n",
            "  [[-0.0745098  -0.05882353 -0.09019607]\n",
            "   [-0.2235294  -0.20784312 -0.24705881]\n",
            "   [ 0.01176476 -0.00392157 -0.03529412]\n",
            "   ...\n",
            "   [ 1.          1.          1.        ]\n",
            "   [ 1.          1.          1.        ]\n",
            "   [ 1.          1.          1.        ]]\n",
            "\n",
            "  ...\n",
            "\n",
            "  [[-0.20784312 -0.21568626 -0.24705881]\n",
            "   [-0.27843136 -0.2862745  -0.31764704]\n",
            "   [-0.38039213 -0.38823527 -0.3960784 ]\n",
            "   ...\n",
            "   [ 0.20000005  0.20000005  0.24705887]\n",
            "   [ 0.15294123  0.14509809  0.18431377]\n",
            "   [ 0.15294123  0.14509809  0.19215691]]\n",
            "\n",
            "  [[-0.5137255  -0.5137255  -0.5137255 ]\n",
            "   [-0.4823529  -0.49019605 -0.49019605]\n",
            "   [-0.4980392  -0.5058824  -0.5137255 ]\n",
            "   ...\n",
            "   [ 0.21568632  0.21568632  0.24705887]\n",
            "   [ 0.27058828  0.27058828  0.28627455]\n",
            "   [ 0.20784318  0.20784318  0.22352946]]\n",
            "\n",
            "  [[-0.44313723 -0.44313723 -0.44313723]\n",
            "   [-0.47450978 -0.47450978 -0.47450978]\n",
            "   [-0.5372549  -0.5529412  -0.54509807]\n",
            "   ...\n",
            "   [ 0.17647064  0.17647064  0.20784318]\n",
            "   [ 0.33333337  0.33333337  0.32549024]\n",
            "   [ 0.39607847  0.39607847  0.38823533]]]\n",
            "\n",
            "\n",
            " [[[ 0.12941182 -0.17647058 -0.5764706 ]\n",
            "   [ 0.19215691 -0.1372549  -0.6       ]\n",
            "   [ 0.2941177  -0.01176471 -0.47450978]\n",
            "   ...\n",
            "   [ 0.9607843   0.79607844  0.5764706 ]\n",
            "   [ 0.92941177  0.78039217  0.6       ]\n",
            "   [ 0.9843137   0.92156863  0.8509804 ]]\n",
            "\n",
            "  [[ 0.2313726  -0.08235294 -0.49019605]\n",
            "   [ 0.33333337  0.04313731 -0.3960784 ]\n",
            "   [ 0.33333337  0.05098045 -0.38823527]\n",
            "   ...\n",
            "   [ 0.8980392   0.7411765   0.5294118 ]\n",
            "   [ 0.9137255   0.78039217  0.6156863 ]\n",
            "   [ 0.9843137   0.8901961   0.8039216 ]]\n",
            "\n",
            "  [[ 0.35686278  0.06666672 -0.3333333 ]\n",
            "   [ 0.2941177   0.00392163 -0.3960784 ]\n",
            "   [ 0.20784318 -0.09019607 -0.5137255 ]\n",
            "   ...\n",
            "   [ 0.8509804   0.6862745   0.5137255 ]\n",
            "   [ 0.96862745  0.8745098   0.79607844]\n",
            "   [ 0.99215686  0.9372549   0.8745098 ]]\n",
            "\n",
            "  ...\n",
            "\n",
            "  [[ 0.4666667   0.14509809 -0.34117645]\n",
            "   [ 0.47450984  0.16078436 -0.3490196 ]\n",
            "   [ 0.427451    0.10588241 -0.36470586]\n",
            "   ...\n",
            "   [ 0.7411765   0.49803925  0.17647064]\n",
            "   [ 0.6         0.30980396 -0.04313725]\n",
            "   [ 0.49803925  0.254902   -0.10588235]]\n",
            "\n",
            "  [[ 0.48235297  0.15294123 -0.3333333 ]\n",
            "   [ 0.4666667   0.13725495 -0.35686272]\n",
            "   [ 0.5137255   0.19215691 -0.27058822]\n",
            "   ...\n",
            "   [ 0.67058825  0.39607847  0.04313731]\n",
            "   [ 0.6156863   0.32549024 -0.03529412]\n",
            "   [ 0.49803925  0.26274514  0.03529418]]\n",
            "\n",
            "  [[ 0.52156866  0.21568632 -0.25490195]\n",
            "   [ 0.4901961   0.1686275  -0.31764704]\n",
            "   [ 0.5529412   0.23921573 -0.21568626]\n",
            "   ...\n",
            "   [ 0.73333335  0.45882356  0.11372554]\n",
            "   [ 0.6784314   0.38823533  0.06666672]\n",
            "   [ 0.4666667   0.18431377 -0.03529412]]]\n",
            "\n",
            "\n",
            " ...\n",
            "\n",
            "\n",
            " [[[-0.7176471  -0.7254902  -0.6862745 ]\n",
            "   [-0.70980394 -0.7019608  -0.6862745 ]\n",
            "   [-0.73333335 -0.7019608  -0.67058825]\n",
            "   ...\n",
            "   [ 0.8352941   0.70980394  0.4431373 ]\n",
            "   [ 0.8980392   0.75686276  0.45882356]\n",
            "   [ 0.96862745  0.8039216   0.48235297]]\n",
            "\n",
            "  [[-0.70980394 -0.7176471  -0.6784314 ]\n",
            "   [-0.7176471  -0.70980394 -0.6862745 ]\n",
            "   [-0.7254902  -0.6862745  -0.67058825]\n",
            "   ...\n",
            "   [ 0.5529412   0.5058824   0.4666667 ]\n",
            "   [ 0.58431375  0.5372549   0.4666667 ]\n",
            "   [ 0.6156863   0.5686275   0.47450984]]\n",
            "\n",
            "  [[-0.7019608  -0.69411767 -0.654902  ]\n",
            "   [-0.70980394 -0.69411767 -0.654902  ]\n",
            "   [-0.70980394 -0.69411767 -0.6627451 ]\n",
            "   ...\n",
            "   [ 0.5529412   0.5294118   0.4901961 ]\n",
            "   [ 0.56078434  0.5372549   0.5137255 ]\n",
            "   [ 0.5372549   0.5137255   0.4901961 ]]\n",
            "\n",
            "  ...\n",
            "\n",
            "  [[ 0.0196079  -0.04313725 -0.06666666]\n",
            "   [ 0.02745104 -0.03529412 -0.05882353]\n",
            "   [ 0.05098045 -0.02745098 -0.04313725]\n",
            "   ...\n",
            "   [ 0.8666667   0.09803927  0.3176471 ]\n",
            "   [ 0.88235295  0.1686275   0.37254906]\n",
            "   [ 0.88235295  0.15294123  0.34901965]]\n",
            "\n",
            "  [[-0.01960784 -0.06666666 -0.10588235]\n",
            "   [ 0.00392163 -0.05098039 -0.09019607]\n",
            "   [ 0.04313731 -0.02745098 -0.04313725]\n",
            "   ...\n",
            "   [ 0.85882354  0.07450986  0.2941177 ]\n",
            "   [ 0.85882354  0.12941182  0.33333337]\n",
            "   [ 0.8666667   0.13725495  0.3411765 ]]\n",
            "\n",
            "  [[-0.04313725 -0.0745098  -0.12941176]\n",
            "   [ 0.01176476 -0.05098039 -0.09019607]\n",
            "   [ 0.02745104 -0.05098039 -0.06666666]\n",
            "   ...\n",
            "   [ 0.85882354  0.04313731  0.27058828]\n",
            "   [ 0.85882354  0.14509809  0.3411765 ]\n",
            "   [ 0.85882354  0.14509809  0.3411765 ]]]\n",
            "\n",
            "\n",
            " [[[-0.42745095 -0.3960784  -0.11372548]\n",
            "   [-0.3333333  -0.2862745   0.03529418]\n",
            "   [-0.31764704 -0.2235294   0.11372554]\n",
            "   ...\n",
            "   [ 0.04313731  0.07450986  0.34901965]\n",
            "   [ 0.03529418  0.06666672  0.34901965]\n",
            "   [-0.00392157  0.0196079   0.30980396]]\n",
            "\n",
            "  [[-0.41176468 -0.38823527 -0.12156862]\n",
            "   [-0.35686272 -0.30196077  0.00392163]\n",
            "   [-0.31764704 -0.23137254  0.11372554]\n",
            "   ...\n",
            "   [ 0.03529418  0.06666672  0.35686278]\n",
            "   [ 0.00392163  0.04313731  0.33333337]\n",
            "   [-0.00392157  0.04313731  0.3176471 ]]\n",
            "\n",
            "  [[-0.38039213 -0.3490196  -0.09019607]\n",
            "   [-0.3960784  -0.3490196  -0.04313725]\n",
            "   [-0.31764704 -0.23921567  0.10588241]\n",
            "   ...\n",
            "   [-0.05098039  0.0196079   0.30196083]\n",
            "   [-0.00392157  0.05882359  0.34901965]\n",
            "   [ 0.03529418  0.09803927  0.36470592]]\n",
            "\n",
            "  ...\n",
            "\n",
            "  [[-0.01960784 -0.05098039  0.20784318]\n",
            "   [-0.02745098 -0.05882353  0.20000005]\n",
            "   [-0.00392157 -0.03529412  0.22352946]\n",
            "   ...\n",
            "   [ 0.12941182  0.09803927  0.35686278]\n",
            "   [ 0.12156868  0.09803927  0.35686278]\n",
            "   [ 0.18431377  0.15294123  0.41176474]]\n",
            "\n",
            "  [[-0.03529412 -0.06666666  0.19215691]\n",
            "   [-0.03529412 -0.06666666  0.19215691]\n",
            "   [ 0.0196079  -0.01176471  0.254902  ]\n",
            "   ...\n",
            "   [ 0.17647064  0.14509809  0.4039216 ]\n",
            "   [ 0.12156868  0.09803927  0.35686278]\n",
            "   [ 0.09803927  0.082353    0.3411765 ]]\n",
            "\n",
            "  [[-0.05882353 -0.09019607  0.1686275 ]\n",
            "   [-0.01960784 -0.05098039  0.20000005]\n",
            "   [ 0.01176476 -0.01176471  0.23921573]\n",
            "   ...\n",
            "   [ 0.18431377  0.15294123  0.4039216 ]\n",
            "   [ 0.2313726   0.19215691  0.4431373 ]\n",
            "   [ 0.20784318  0.1686275   0.43529415]]]\n",
            "\n",
            "\n",
            " [[[-0.45098037 -0.4352941  -0.20784312]\n",
            "   [-0.3490196  -0.36470586 -0.1372549 ]\n",
            "   [-0.16862744 -0.19999999  0.05098045]\n",
            "   ...\n",
            "   [ 0.8901961   0.8509804   0.8039216 ]\n",
            "   [ 0.8901961   0.8509804   0.8039216 ]\n",
            "   [ 0.8980392   0.85882354  0.8117647 ]]\n",
            "\n",
            "  [[-0.5137255  -0.4980392  -0.24705881]\n",
            "   [-0.49019605 -0.4980392  -0.25490195]\n",
            "   [-0.4588235  -0.4588235  -0.23921567]\n",
            "   ...\n",
            "   [ 0.8745098   0.8352941   0.7882353 ]\n",
            "   [ 0.8901961   0.8509804   0.8117647 ]\n",
            "   [ 0.88235295  0.8509804   0.8039216 ]]\n",
            "\n",
            "  [[-0.46666664 -0.44313723 -0.12156862]\n",
            "   [-0.49019605 -0.46666664 -0.17647058]\n",
            "   [-0.4980392  -0.4823529  -0.2235294 ]\n",
            "   ...\n",
            "   [ 0.56078434  0.49803925  0.3803922 ]\n",
            "   [ 0.7411765   0.7019608   0.62352943]\n",
            "   [ 0.85882354  0.81960785  0.78039217]]\n",
            "\n",
            "  ...\n",
            "\n",
            "  [[ 0.43529415  0.45098042  0.49803925]\n",
            "   [ 0.43529415  0.4431373   0.4901961 ]\n",
            "   [ 0.38823533  0.37254906  0.41176474]\n",
            "   ...\n",
            "   [ 0.38823533  0.30196083  0.27058828]\n",
            "   [ 0.38823533  0.2941177   0.27058828]\n",
            "   [ 0.41176474  0.32549024  0.2941177 ]]\n",
            "\n",
            "  [[ 0.43529415  0.41960788  0.4666667 ]\n",
            "   [ 0.5372549   0.5137255   0.5686275 ]\n",
            "   [ 0.4901961   0.4666667   0.52156866]\n",
            "   ...\n",
            "   [ 0.36470592  0.2941177   0.23921573]\n",
            "   [ 0.41960788  0.3411765   0.30980396]\n",
            "   [ 0.24705887  0.15294123  0.12941182]]\n",
            "\n",
            "  [[ 0.27843142  0.254902    0.30980396]\n",
            "   [ 0.5372549   0.52156866  0.5764706 ]\n",
            "   [ 0.4666667   0.4431373   0.49803925]\n",
            "   ...\n",
            "   [ 0.24705887  0.18431377  0.12941182]\n",
            "   [ 0.26274514  0.18431377  0.13725495]\n",
            "   [ 0.43529415  0.34901965  0.30196083]]]]\n",
            "[ 0  2  4  8  9  8  4 18 11 16 11  1  0 16  4  3 14 11  9]\n"
          ]
        }
      ]
    },
    {
      "cell_type": "code",
      "metadata": {
        "colab": {
          "base_uri": "https://localhost:8080/"
        },
        "id": "awHkn662E1-g",
        "outputId": "a6874844-1ab0-4594-bbc3-60cdba432efd"
      },
      "source": [
        "from sklearn.model_selection import train_test_split\n",
        "\n",
        " # gp + vivo + gryphus6 + SR + DRG + FIDDLE + S2\n",
        "group_tol = [[0] for i in range(20)]\n",
        "group_tr = [[0] for i in range(20)]\n",
        "group_te = [[0] for i in range(20)]\n",
        "indexcontrastvalue = [gp, vivo, gryphus6, SR, SL, JOG, BWS, LIMI, LIKE, DRG, FIDDLE, S2, S3, VIVAMIX, xml125, JH, KRV, MANY, Force, xdj]\n",
        "\n",
        "x_train = []\n",
        "y_train = []\n",
        "x_test = []\n",
        "y_test = []\n",
        "print(type(indexcontrastvalue[0]))\n",
        "#print(len(indexcontrastvalue[0]))\n",
        "for i in range(20):\n",
        "  #print(i)\n",
        "  group_tol[i] = np.random.choice(indexcontrastvalue[i], len(indexcontrastvalue[i]), replace=False)\n",
        "  group_tr[i], group_te[i] = train_test_split(group_tol[i], test_size=0.1)\n",
        "  x_train = np.concatenate((x_train, group_tr[i]))\n",
        "  y_train = y_train + ([i] * len(group_tr[i]))\n",
        "  x_test = np.concatenate((x_test,group_te[i]))\n",
        "  y_test = y_test + ([i] * len(group_te[i]))\n",
        "y_train = np.array(y_train)\n",
        "y_test = np.array(y_test)\n",
        "\n",
        "\n",
        "\n",
        "print(x_train.shape)\n",
        "print(x_test.shape)\n",
        "print(y_train.shape)\n",
        "print(y_test.shape)\n",
        "print(type(x_test))\n",
        "type(y_test)"
      ],
      "execution_count": null,
      "outputs": [
        {
          "output_type": "stream",
          "name": "stdout",
          "text": [
            "<class 'list'>\n",
            "(10204,)\n",
            "(1144,)\n",
            "(10204,)\n",
            "(1144,)\n",
            "<class 'numpy.ndarray'>\n"
          ]
        },
        {
          "output_type": "execute_result",
          "data": {
            "text/plain": [
              "numpy.ndarray"
            ]
          },
          "metadata": {},
          "execution_count": 130
        }
      ]
    },
    {
      "cell_type": "code",
      "metadata": {
        "id": "3Rmi0ZnLJFFD"
      },
      "source": [
        "train_generator = data_generator(x_train, y_train)\n",
        "test_generator = data_generator(x_test, y_test)"
      ],
      "execution_count": null,
      "outputs": []
    },
    {
      "cell_type": "code",
      "metadata": {
        "colab": {
          "base_uri": "https://localhost:8080/"
        },
        "id": "KAiI051ZsIv9",
        "outputId": "f34c54da-9576-4f4c-e9e6-675edd65a473"
      },
      "source": [
        "from tensorflow.keras.callbacks import EarlyStopping, ModelCheckpoint\n",
        "callbacks = [\n",
        "             EarlyStopping(patience=5, restore_best_weights=True),\n",
        "             ModelCheckpoint(\"myall.h5\", save_best_only=True)\n",
        "]\n",
        "\n",
        "selfmymodel.fit_generator(\n",
        "    train_generator,\n",
        "    steps_per_epoch=20,\n",
        "    epochs=100,\n",
        "    validation_data=test_generator,\n",
        "    validation_steps=2, \n",
        "    callbacks=callbacks\n",
        "                    )"
      ],
      "execution_count": null,
      "outputs": [
        {
          "output_type": "stream",
          "name": "stderr",
          "text": [
            "/usr/local/lib/python3.7/dist-packages/keras/engine/training.py:1972: UserWarning: `Model.fit_generator` is deprecated and will be removed in a future version. Please use `Model.fit`, which supports generators.\n",
            "  warnings.warn('`Model.fit_generator` is deprecated and '\n"
          ]
        },
        {
          "output_type": "stream",
          "name": "stdout",
          "text": [
            "Epoch 1/100\n",
            "20/20 [==============================] - 48s 3s/step - loss: 1.9195 - accuracy: 0.4500 - val_loss: 2.1997 - val_accuracy: 0.3684\n"
          ]
        },
        {
          "output_type": "stream",
          "name": "stderr",
          "text": [
            "/usr/local/lib/python3.7/dist-packages/keras/utils/generic_utils.py:497: CustomMaskWarning: Custom mask layers require a config and must override get_config. When loading, the custom mask layer must be passed to the custom_objects argument.\n",
            "  category=CustomMaskWarning)\n"
          ]
        },
        {
          "output_type": "stream",
          "name": "stdout",
          "text": [
            "Epoch 2/100\n",
            "20/20 [==============================] - 48s 3s/step - loss: 1.9415 - accuracy: 0.4316 - val_loss: 2.0789 - val_accuracy: 0.3158\n",
            "Epoch 3/100\n",
            "20/20 [==============================] - 47s 2s/step - loss: 1.8665 - accuracy: 0.4237 - val_loss: 2.5349 - val_accuracy: 0.3158\n",
            "Epoch 4/100\n",
            "20/20 [==============================] - 47s 2s/step - loss: 1.9528 - accuracy: 0.4026 - val_loss: 1.5593 - val_accuracy: 0.5263\n",
            "Epoch 5/100\n",
            "20/20 [==============================] - 51s 3s/step - loss: 1.8861 - accuracy: 0.4368 - val_loss: 1.8525 - val_accuracy: 0.4211\n",
            "Epoch 6/100\n",
            "20/20 [==============================] - 47s 2s/step - loss: 1.8372 - accuracy: 0.4579 - val_loss: 2.2302 - val_accuracy: 0.2632\n",
            "Epoch 7/100\n",
            " 7/20 [=========>....................] - ETA: 25s - loss: 1.9430 - accuracy: 0.4060"
          ]
        }
      ]
    },
    {
      "cell_type": "code",
      "metadata": {
        "colab": {
          "base_uri": "https://localhost:8080/"
        },
        "id": "Hs3-V8_q9RUL",
        "outputId": "202eed14-0afe-4770-c333-87eac864ee63"
      },
      "source": [
        "selfmymodel.evaluate_generator(test_generator, steps=1)"
      ],
      "execution_count": null,
      "outputs": [
        {
          "output_type": "stream",
          "name": "stderr",
          "text": [
            "/usr/local/lib/python3.7/dist-packages/keras/engine/training.py:2006: UserWarning: `Model.evaluate_generator` is deprecated and will be removed in a future version. Please use `Model.evaluate`, which supports generators.\n",
            "  warnings.warn('`Model.evaluate_generator` is deprecated and '\n"
          ]
        },
        {
          "output_type": "execute_result",
          "data": {
            "text/plain": [
              "[2.348963737487793, 0.2631579041481018]"
            ]
          },
          "metadata": {},
          "execution_count": 145
        }
      ]
    },
    {
      "cell_type": "code",
      "metadata": {
        "colab": {
          "base_uri": "https://localhost:8080/"
        },
        "id": "O6fli7ASzyIg",
        "outputId": "35a675bc-823b-4aac-d42b-3042c4969e4f"
      },
      "source": [
        "selfmymodel.save(\"selfmymodel_5_e5_allclass_run4.h5\")"
      ],
      "execution_count": null,
      "outputs": [
        {
          "output_type": "stream",
          "name": "stderr",
          "text": [
            "/usr/local/lib/python3.7/dist-packages/keras/utils/generic_utils.py:497: CustomMaskWarning: Custom mask layers require a config and must override get_config. When loading, the custom mask layer must be passed to the custom_objects argument.\n",
            "  category=CustomMaskWarning)\n"
          ]
        }
      ]
    },
    {
      "cell_type": "code",
      "metadata": {
        "id": "5GEyohnyJa-E"
      },
      "source": [
        "\n",
        "from tensorflow.keras.callbacks import EarlyStopping, ModelCheckpoint\n",
        "callbacks = [\n",
        "             EarlyStopping(patience=5, restore_best_weights=True),\n",
        "             ModelCheckpoint(\"scooterall.h5\", save_best_only=True)\n",
        "]\n",
        "\n",
        "modle.fit_generator(\n",
        "    train_generator,\n",
        "    steps_per_epoch=20,\n",
        "    epochs=100,\n",
        "    validation_data=test_generator,\n",
        "    validation_steps=2, \n",
        "    callbacks=callbacks\n",
        "                    )"
      ],
      "execution_count": null,
      "outputs": []
    },
    {
      "cell_type": "code",
      "metadata": {
        "id": "0EZRL1z5c8Wn"
      },
      "source": [
        "modle.save(\"VGG16_allclass_V2_run3.h5\")"
      ],
      "execution_count": null,
      "outputs": []
    },
    {
      "cell_type": "code",
      "metadata": {
        "id": "zAWAFr1zkdHK"
      },
      "source": [
        "from tensorflow.keras.models import load_model\n",
        "modle = load_model(\"/content/VGG16_allclass.h5\")"
      ],
      "execution_count": null,
      "outputs": []
    },
    {
      "cell_type": "code",
      "metadata": {
        "colab": {
          "base_uri": "https://localhost:8080/"
        },
        "id": "fonXtJPWj5I_",
        "outputId": "cc71c816-4808-458a-9047-5e241af791ab"
      },
      "source": [
        "modle.evaluate_generator(test_generator, steps=1)"
      ],
      "execution_count": null,
      "outputs": [
        {
          "output_type": "stream",
          "name": "stderr",
          "text": [
            "/usr/local/lib/python3.7/dist-packages/keras/engine/training.py:2006: UserWarning: `Model.evaluate_generator` is deprecated and will be removed in a future version. Please use `Model.evaluate`, which supports generators.\n",
            "  warnings.warn('`Model.evaluate_generator` is deprecated and '\n"
          ]
        },
        {
          "output_type": "execute_result",
          "data": {
            "text/plain": [
              "[0.41217660903930664, 0.8947368264198303]"
            ]
          },
          "metadata": {},
          "execution_count": 41
        }
      ]
    },
    {
      "cell_type": "code",
      "metadata": {
        "colab": {
          "base_uri": "https://localhost:8080/",
          "height": 778
        },
        "id": "etfXu_DUqfXx",
        "outputId": "f0d5a568-fd01-4706-ce72-c1973c38bd7f"
      },
      "source": [
        "import requests\n",
        "from PIL import Image\n",
        "url = input(\"輸入網址\")\n",
        "response = requests.get(url, stream=True, verify=False)\n",
        "img = Image.open(response.raw).resize((224,224))\n",
        "img_np = preprocess_input(np.array(img))\n",
        "print(\"預測:\", modle.predict([[img_np]]))\n",
        "plt.imshow(img, cmap=\"gray\")"
      ],
      "execution_count": null,
      "outputs": [
        {
          "name": "stdout",
          "output_type": "stream",
          "text": [
            "輸入網址https://cdn2.ettoday.net/images/3780/d3780165.jpg\n"
          ]
        },
        {
          "output_type": "stream",
          "name": "stderr",
          "text": [
            "/usr/local/lib/python3.7/dist-packages/urllib3/connectionpool.py:847: InsecureRequestWarning: Unverified HTTPS request is being made. Adding certificate verification is strongly advised. See: https://urllib3.readthedocs.io/en/latest/advanced-usage.html#ssl-warnings\n",
            "  InsecureRequestWarning)\n"
          ]
        },
        {
          "output_type": "error",
          "ename": "ValueError",
          "evalue": "ignored",
          "traceback": [
            "\u001b[0;31m---------------------------------------------------------------------------\u001b[0m",
            "\u001b[0;31mValueError\u001b[0m                                Traceback (most recent call last)",
            "\u001b[0;32m<ipython-input-51-2748e53b5068>\u001b[0m in \u001b[0;36m<module>\u001b[0;34m()\u001b[0m\n\u001b[1;32m      5\u001b[0m \u001b[0mimg\u001b[0m \u001b[0;34m=\u001b[0m \u001b[0mImage\u001b[0m\u001b[0;34m.\u001b[0m\u001b[0mopen\u001b[0m\u001b[0;34m(\u001b[0m\u001b[0mresponse\u001b[0m\u001b[0;34m.\u001b[0m\u001b[0mraw\u001b[0m\u001b[0;34m)\u001b[0m\u001b[0;34m.\u001b[0m\u001b[0mresize\u001b[0m\u001b[0;34m(\u001b[0m\u001b[0;34m(\u001b[0m\u001b[0;36m224\u001b[0m\u001b[0;34m,\u001b[0m\u001b[0;36m224\u001b[0m\u001b[0;34m)\u001b[0m\u001b[0;34m)\u001b[0m\u001b[0;34m\u001b[0m\u001b[0;34m\u001b[0m\u001b[0m\n\u001b[1;32m      6\u001b[0m \u001b[0mimg_np\u001b[0m \u001b[0;34m=\u001b[0m \u001b[0mpreprocess_input\u001b[0m\u001b[0;34m(\u001b[0m\u001b[0mnp\u001b[0m\u001b[0;34m.\u001b[0m\u001b[0marray\u001b[0m\u001b[0;34m(\u001b[0m\u001b[0mimg\u001b[0m\u001b[0;34m)\u001b[0m\u001b[0;34m)\u001b[0m\u001b[0;34m\u001b[0m\u001b[0;34m\u001b[0m\u001b[0m\n\u001b[0;32m----> 7\u001b[0;31m \u001b[0mprint\u001b[0m\u001b[0;34m(\u001b[0m\u001b[0;34m\"預測:\"\u001b[0m\u001b[0;34m,\u001b[0m \u001b[0mmodle\u001b[0m\u001b[0;34m.\u001b[0m\u001b[0mpredict\u001b[0m\u001b[0;34m(\u001b[0m\u001b[0;34m[\u001b[0m\u001b[0;34m[\u001b[0m\u001b[0mimg_np\u001b[0m\u001b[0;34m]\u001b[0m\u001b[0;34m]\u001b[0m\u001b[0;34m)\u001b[0m\u001b[0;34m)\u001b[0m\u001b[0;34m\u001b[0m\u001b[0;34m\u001b[0m\u001b[0m\n\u001b[0m\u001b[1;32m      8\u001b[0m \u001b[0mplt\u001b[0m\u001b[0;34m.\u001b[0m\u001b[0mimshow\u001b[0m\u001b[0;34m(\u001b[0m\u001b[0mimg\u001b[0m\u001b[0;34m,\u001b[0m \u001b[0mcmap\u001b[0m\u001b[0;34m=\u001b[0m\u001b[0;34m\"gray\"\u001b[0m\u001b[0;34m)\u001b[0m\u001b[0;34m\u001b[0m\u001b[0;34m\u001b[0m\u001b[0m\n",
            "\u001b[0;32m/usr/local/lib/python3.7/dist-packages/keras/engine/training.py\u001b[0m in \u001b[0;36mpredict\u001b[0;34m(self, x, batch_size, verbose, steps, callbacks, max_queue_size, workers, use_multiprocessing)\u001b[0m\n\u001b[1;32m   1749\u001b[0m           \u001b[0;32mfor\u001b[0m \u001b[0mstep\u001b[0m \u001b[0;32min\u001b[0m \u001b[0mdata_handler\u001b[0m\u001b[0;34m.\u001b[0m\u001b[0msteps\u001b[0m\u001b[0;34m(\u001b[0m\u001b[0;34m)\u001b[0m\u001b[0;34m:\u001b[0m\u001b[0;34m\u001b[0m\u001b[0;34m\u001b[0m\u001b[0m\n\u001b[1;32m   1750\u001b[0m             \u001b[0mcallbacks\u001b[0m\u001b[0;34m.\u001b[0m\u001b[0mon_predict_batch_begin\u001b[0m\u001b[0;34m(\u001b[0m\u001b[0mstep\u001b[0m\u001b[0;34m)\u001b[0m\u001b[0;34m\u001b[0m\u001b[0;34m\u001b[0m\u001b[0m\n\u001b[0;32m-> 1751\u001b[0;31m             \u001b[0mtmp_batch_outputs\u001b[0m \u001b[0;34m=\u001b[0m \u001b[0mself\u001b[0m\u001b[0;34m.\u001b[0m\u001b[0mpredict_function\u001b[0m\u001b[0;34m(\u001b[0m\u001b[0miterator\u001b[0m\u001b[0;34m)\u001b[0m\u001b[0;34m\u001b[0m\u001b[0;34m\u001b[0m\u001b[0m\n\u001b[0m\u001b[1;32m   1752\u001b[0m             \u001b[0;32mif\u001b[0m \u001b[0mdata_handler\u001b[0m\u001b[0;34m.\u001b[0m\u001b[0mshould_sync\u001b[0m\u001b[0;34m:\u001b[0m\u001b[0;34m\u001b[0m\u001b[0;34m\u001b[0m\u001b[0m\n\u001b[1;32m   1753\u001b[0m               \u001b[0mcontext\u001b[0m\u001b[0;34m.\u001b[0m\u001b[0masync_wait\u001b[0m\u001b[0;34m(\u001b[0m\u001b[0;34m)\u001b[0m\u001b[0;34m\u001b[0m\u001b[0;34m\u001b[0m\u001b[0m\n",
            "\u001b[0;32m/usr/local/lib/python3.7/dist-packages/tensorflow/python/eager/def_function.py\u001b[0m in \u001b[0;36m__call__\u001b[0;34m(self, *args, **kwds)\u001b[0m\n\u001b[1;32m    883\u001b[0m \u001b[0;34m\u001b[0m\u001b[0m\n\u001b[1;32m    884\u001b[0m       \u001b[0;32mwith\u001b[0m \u001b[0mOptionalXlaContext\u001b[0m\u001b[0;34m(\u001b[0m\u001b[0mself\u001b[0m\u001b[0;34m.\u001b[0m\u001b[0m_jit_compile\u001b[0m\u001b[0;34m)\u001b[0m\u001b[0;34m:\u001b[0m\u001b[0;34m\u001b[0m\u001b[0;34m\u001b[0m\u001b[0m\n\u001b[0;32m--> 885\u001b[0;31m         \u001b[0mresult\u001b[0m \u001b[0;34m=\u001b[0m \u001b[0mself\u001b[0m\u001b[0;34m.\u001b[0m\u001b[0m_call\u001b[0m\u001b[0;34m(\u001b[0m\u001b[0;34m*\u001b[0m\u001b[0margs\u001b[0m\u001b[0;34m,\u001b[0m \u001b[0;34m**\u001b[0m\u001b[0mkwds\u001b[0m\u001b[0;34m)\u001b[0m\u001b[0;34m\u001b[0m\u001b[0;34m\u001b[0m\u001b[0m\n\u001b[0m\u001b[1;32m    886\u001b[0m \u001b[0;34m\u001b[0m\u001b[0m\n\u001b[1;32m    887\u001b[0m       \u001b[0mnew_tracing_count\u001b[0m \u001b[0;34m=\u001b[0m \u001b[0mself\u001b[0m\u001b[0;34m.\u001b[0m\u001b[0mexperimental_get_tracing_count\u001b[0m\u001b[0;34m(\u001b[0m\u001b[0;34m)\u001b[0m\u001b[0;34m\u001b[0m\u001b[0;34m\u001b[0m\u001b[0m\n",
            "\u001b[0;32m/usr/local/lib/python3.7/dist-packages/tensorflow/python/eager/def_function.py\u001b[0m in \u001b[0;36m_call\u001b[0;34m(self, *args, **kwds)\u001b[0m\n\u001b[1;32m    922\u001b[0m       \u001b[0;31m# In this case we have not created variables on the first call. So we can\u001b[0m\u001b[0;34m\u001b[0m\u001b[0;34m\u001b[0m\u001b[0;34m\u001b[0m\u001b[0m\n\u001b[1;32m    923\u001b[0m       \u001b[0;31m# run the first trace but we should fail if variables are created.\u001b[0m\u001b[0;34m\u001b[0m\u001b[0;34m\u001b[0m\u001b[0;34m\u001b[0m\u001b[0m\n\u001b[0;32m--> 924\u001b[0;31m       \u001b[0mresults\u001b[0m \u001b[0;34m=\u001b[0m \u001b[0mself\u001b[0m\u001b[0;34m.\u001b[0m\u001b[0m_stateful_fn\u001b[0m\u001b[0;34m(\u001b[0m\u001b[0;34m*\u001b[0m\u001b[0margs\u001b[0m\u001b[0;34m,\u001b[0m \u001b[0;34m**\u001b[0m\u001b[0mkwds\u001b[0m\u001b[0;34m)\u001b[0m\u001b[0;34m\u001b[0m\u001b[0;34m\u001b[0m\u001b[0m\n\u001b[0m\u001b[1;32m    925\u001b[0m       \u001b[0;32mif\u001b[0m \u001b[0mself\u001b[0m\u001b[0;34m.\u001b[0m\u001b[0m_created_variables\u001b[0m \u001b[0;32mand\u001b[0m \u001b[0;32mnot\u001b[0m \u001b[0mALLOW_DYNAMIC_VARIABLE_CREATION\u001b[0m\u001b[0;34m:\u001b[0m\u001b[0;34m\u001b[0m\u001b[0;34m\u001b[0m\u001b[0m\n\u001b[1;32m    926\u001b[0m         raise ValueError(\"Creating variables on a non-first call to a function\"\n",
            "\u001b[0;32m/usr/local/lib/python3.7/dist-packages/tensorflow/python/eager/function.py\u001b[0m in \u001b[0;36m__call__\u001b[0;34m(self, *args, **kwargs)\u001b[0m\n\u001b[1;32m   3036\u001b[0m     \u001b[0;32mwith\u001b[0m \u001b[0mself\u001b[0m\u001b[0;34m.\u001b[0m\u001b[0m_lock\u001b[0m\u001b[0;34m:\u001b[0m\u001b[0;34m\u001b[0m\u001b[0;34m\u001b[0m\u001b[0m\n\u001b[1;32m   3037\u001b[0m       (graph_function,\n\u001b[0;32m-> 3038\u001b[0;31m        filtered_flat_args) = self._maybe_define_function(args, kwargs)\n\u001b[0m\u001b[1;32m   3039\u001b[0m     return graph_function._call_flat(\n\u001b[1;32m   3040\u001b[0m         filtered_flat_args, captured_inputs=graph_function.captured_inputs)  # pylint: disable=protected-access\n",
            "\u001b[0;32m/usr/local/lib/python3.7/dist-packages/tensorflow/python/eager/function.py\u001b[0m in \u001b[0;36m_maybe_define_function\u001b[0;34m(self, args, kwargs)\u001b[0m\n\u001b[1;32m   3458\u001b[0m               call_context_key in self._function_cache.missed):\n\u001b[1;32m   3459\u001b[0m             return self._define_function_with_shape_relaxation(\n\u001b[0;32m-> 3460\u001b[0;31m                 args, kwargs, flat_args, filtered_flat_args, cache_key_context)\n\u001b[0m\u001b[1;32m   3461\u001b[0m \u001b[0;34m\u001b[0m\u001b[0m\n\u001b[1;32m   3462\u001b[0m           \u001b[0mself\u001b[0m\u001b[0;34m.\u001b[0m\u001b[0m_function_cache\u001b[0m\u001b[0;34m.\u001b[0m\u001b[0mmissed\u001b[0m\u001b[0;34m.\u001b[0m\u001b[0madd\u001b[0m\u001b[0;34m(\u001b[0m\u001b[0mcall_context_key\u001b[0m\u001b[0;34m)\u001b[0m\u001b[0;34m\u001b[0m\u001b[0;34m\u001b[0m\u001b[0m\n",
            "\u001b[0;32m/usr/local/lib/python3.7/dist-packages/tensorflow/python/eager/function.py\u001b[0m in \u001b[0;36m_define_function_with_shape_relaxation\u001b[0;34m(self, args, kwargs, flat_args, filtered_flat_args, cache_key_context)\u001b[0m\n\u001b[1;32m   3380\u001b[0m \u001b[0;34m\u001b[0m\u001b[0m\n\u001b[1;32m   3381\u001b[0m     graph_function = self._create_graph_function(\n\u001b[0;32m-> 3382\u001b[0;31m         args, kwargs, override_flat_arg_shapes=relaxed_arg_shapes)\n\u001b[0m\u001b[1;32m   3383\u001b[0m     \u001b[0mself\u001b[0m\u001b[0;34m.\u001b[0m\u001b[0m_function_cache\u001b[0m\u001b[0;34m.\u001b[0m\u001b[0marg_relaxed\u001b[0m\u001b[0;34m[\u001b[0m\u001b[0mrank_only_cache_key\u001b[0m\u001b[0;34m]\u001b[0m \u001b[0;34m=\u001b[0m \u001b[0mgraph_function\u001b[0m\u001b[0;34m\u001b[0m\u001b[0;34m\u001b[0m\u001b[0m\n\u001b[1;32m   3384\u001b[0m \u001b[0;34m\u001b[0m\u001b[0m\n",
            "\u001b[0;32m/usr/local/lib/python3.7/dist-packages/tensorflow/python/eager/function.py\u001b[0m in \u001b[0;36m_create_graph_function\u001b[0;34m(self, args, kwargs, override_flat_arg_shapes)\u001b[0m\n\u001b[1;32m   3306\u001b[0m             \u001b[0marg_names\u001b[0m\u001b[0;34m=\u001b[0m\u001b[0marg_names\u001b[0m\u001b[0;34m,\u001b[0m\u001b[0;34m\u001b[0m\u001b[0;34m\u001b[0m\u001b[0m\n\u001b[1;32m   3307\u001b[0m             \u001b[0moverride_flat_arg_shapes\u001b[0m\u001b[0;34m=\u001b[0m\u001b[0moverride_flat_arg_shapes\u001b[0m\u001b[0;34m,\u001b[0m\u001b[0;34m\u001b[0m\u001b[0;34m\u001b[0m\u001b[0m\n\u001b[0;32m-> 3308\u001b[0;31m             capture_by_value=self._capture_by_value),\n\u001b[0m\u001b[1;32m   3309\u001b[0m         \u001b[0mself\u001b[0m\u001b[0;34m.\u001b[0m\u001b[0m_function_attributes\u001b[0m\u001b[0;34m,\u001b[0m\u001b[0;34m\u001b[0m\u001b[0;34m\u001b[0m\u001b[0m\n\u001b[1;32m   3310\u001b[0m         \u001b[0mfunction_spec\u001b[0m\u001b[0;34m=\u001b[0m\u001b[0mself\u001b[0m\u001b[0;34m.\u001b[0m\u001b[0mfunction_spec\u001b[0m\u001b[0;34m,\u001b[0m\u001b[0;34m\u001b[0m\u001b[0;34m\u001b[0m\u001b[0m\n",
            "\u001b[0;32m/usr/local/lib/python3.7/dist-packages/tensorflow/python/framework/func_graph.py\u001b[0m in \u001b[0;36mfunc_graph_from_py_func\u001b[0;34m(name, python_func, args, kwargs, signature, func_graph, autograph, autograph_options, add_control_dependencies, arg_names, op_return_value, collections, capture_by_value, override_flat_arg_shapes, acd_record_initial_resource_uses)\u001b[0m\n\u001b[1;32m   1005\u001b[0m         \u001b[0m_\u001b[0m\u001b[0;34m,\u001b[0m \u001b[0moriginal_func\u001b[0m \u001b[0;34m=\u001b[0m \u001b[0mtf_decorator\u001b[0m\u001b[0;34m.\u001b[0m\u001b[0munwrap\u001b[0m\u001b[0;34m(\u001b[0m\u001b[0mpython_func\u001b[0m\u001b[0;34m)\u001b[0m\u001b[0;34m\u001b[0m\u001b[0;34m\u001b[0m\u001b[0m\n\u001b[1;32m   1006\u001b[0m \u001b[0;34m\u001b[0m\u001b[0m\n\u001b[0;32m-> 1007\u001b[0;31m       \u001b[0mfunc_outputs\u001b[0m \u001b[0;34m=\u001b[0m \u001b[0mpython_func\u001b[0m\u001b[0;34m(\u001b[0m\u001b[0;34m*\u001b[0m\u001b[0mfunc_args\u001b[0m\u001b[0;34m,\u001b[0m \u001b[0;34m**\u001b[0m\u001b[0mfunc_kwargs\u001b[0m\u001b[0;34m)\u001b[0m\u001b[0;34m\u001b[0m\u001b[0;34m\u001b[0m\u001b[0m\n\u001b[0m\u001b[1;32m   1008\u001b[0m \u001b[0;34m\u001b[0m\u001b[0m\n\u001b[1;32m   1009\u001b[0m       \u001b[0;31m# invariant: `func_outputs` contains only Tensors, CompositeTensors,\u001b[0m\u001b[0;34m\u001b[0m\u001b[0;34m\u001b[0m\u001b[0;34m\u001b[0m\u001b[0m\n",
            "\u001b[0;32m/usr/local/lib/python3.7/dist-packages/tensorflow/python/eager/def_function.py\u001b[0m in \u001b[0;36mwrapped_fn\u001b[0;34m(*args, **kwds)\u001b[0m\n\u001b[1;32m    666\u001b[0m         \u001b[0;31m# the function a weak reference to itself to avoid a reference cycle.\u001b[0m\u001b[0;34m\u001b[0m\u001b[0;34m\u001b[0m\u001b[0;34m\u001b[0m\u001b[0m\n\u001b[1;32m    667\u001b[0m         \u001b[0;32mwith\u001b[0m \u001b[0mOptionalXlaContext\u001b[0m\u001b[0;34m(\u001b[0m\u001b[0mcompile_with_xla\u001b[0m\u001b[0;34m)\u001b[0m\u001b[0;34m:\u001b[0m\u001b[0;34m\u001b[0m\u001b[0;34m\u001b[0m\u001b[0m\n\u001b[0;32m--> 668\u001b[0;31m           \u001b[0mout\u001b[0m \u001b[0;34m=\u001b[0m \u001b[0mweak_wrapped_fn\u001b[0m\u001b[0;34m(\u001b[0m\u001b[0;34m)\u001b[0m\u001b[0;34m.\u001b[0m\u001b[0m__wrapped__\u001b[0m\u001b[0;34m(\u001b[0m\u001b[0;34m*\u001b[0m\u001b[0margs\u001b[0m\u001b[0;34m,\u001b[0m \u001b[0;34m**\u001b[0m\u001b[0mkwds\u001b[0m\u001b[0;34m)\u001b[0m\u001b[0;34m\u001b[0m\u001b[0;34m\u001b[0m\u001b[0m\n\u001b[0m\u001b[1;32m    669\u001b[0m         \u001b[0;32mreturn\u001b[0m \u001b[0mout\u001b[0m\u001b[0;34m\u001b[0m\u001b[0;34m\u001b[0m\u001b[0m\n\u001b[1;32m    670\u001b[0m \u001b[0;34m\u001b[0m\u001b[0m\n",
            "\u001b[0;32m/usr/local/lib/python3.7/dist-packages/tensorflow/python/framework/func_graph.py\u001b[0m in \u001b[0;36mwrapper\u001b[0;34m(*args, **kwargs)\u001b[0m\n\u001b[1;32m    992\u001b[0m           \u001b[0;32mexcept\u001b[0m \u001b[0mException\u001b[0m \u001b[0;32mas\u001b[0m \u001b[0me\u001b[0m\u001b[0;34m:\u001b[0m  \u001b[0;31m# pylint:disable=broad-except\u001b[0m\u001b[0;34m\u001b[0m\u001b[0;34m\u001b[0m\u001b[0m\n\u001b[1;32m    993\u001b[0m             \u001b[0;32mif\u001b[0m \u001b[0mhasattr\u001b[0m\u001b[0;34m(\u001b[0m\u001b[0me\u001b[0m\u001b[0;34m,\u001b[0m \u001b[0;34m\"ag_error_metadata\"\u001b[0m\u001b[0;34m)\u001b[0m\u001b[0;34m:\u001b[0m\u001b[0;34m\u001b[0m\u001b[0;34m\u001b[0m\u001b[0m\n\u001b[0;32m--> 994\u001b[0;31m               \u001b[0;32mraise\u001b[0m \u001b[0me\u001b[0m\u001b[0;34m.\u001b[0m\u001b[0mag_error_metadata\u001b[0m\u001b[0;34m.\u001b[0m\u001b[0mto_exception\u001b[0m\u001b[0;34m(\u001b[0m\u001b[0me\u001b[0m\u001b[0;34m)\u001b[0m\u001b[0;34m\u001b[0m\u001b[0;34m\u001b[0m\u001b[0m\n\u001b[0m\u001b[1;32m    995\u001b[0m             \u001b[0;32melse\u001b[0m\u001b[0;34m:\u001b[0m\u001b[0;34m\u001b[0m\u001b[0;34m\u001b[0m\u001b[0m\n\u001b[1;32m    996\u001b[0m               \u001b[0;32mraise\u001b[0m\u001b[0;34m\u001b[0m\u001b[0;34m\u001b[0m\u001b[0m\n",
            "\u001b[0;31mValueError\u001b[0m: in user code:\n\n    /usr/local/lib/python3.7/dist-packages/keras/engine/training.py:1586 predict_function  *\n        return step_function(self, iterator)\n    /usr/local/lib/python3.7/dist-packages/keras/engine/training.py:1576 step_function  **\n        outputs = model.distribute_strategy.run(run_step, args=(data,))\n    /usr/local/lib/python3.7/dist-packages/tensorflow/python/distribute/distribute_lib.py:1286 run\n        return self._extended.call_for_each_replica(fn, args=args, kwargs=kwargs)\n    /usr/local/lib/python3.7/dist-packages/tensorflow/python/distribute/distribute_lib.py:2849 call_for_each_replica\n        return self._call_for_each_replica(fn, args, kwargs)\n    /usr/local/lib/python3.7/dist-packages/tensorflow/python/distribute/distribute_lib.py:3632 _call_for_each_replica\n        return fn(*args, **kwargs)\n    /usr/local/lib/python3.7/dist-packages/keras/engine/training.py:1569 run_step  **\n        outputs = model.predict_step(data)\n    /usr/local/lib/python3.7/dist-packages/keras/engine/training.py:1537 predict_step\n        return self(x, training=False)\n    /usr/local/lib/python3.7/dist-packages/keras/engine/base_layer.py:1020 __call__\n        input_spec.assert_input_compatibility(self.input_spec, inputs, self.name)\n    /usr/local/lib/python3.7/dist-packages/keras/engine/input_spec.py:269 assert_input_compatibility\n        ', found shape=' + display_shape(x.shape))\n\n    ValueError: Input 0 is incompatible with layer model_1: expected shape=(None, 224, 224, 3), found shape=(32, 224, 3)\n"
          ]
        }
      ]
    },
    {
      "cell_type": "code",
      "metadata": {
        "id": "rj02IubUlGKT",
        "colab": {
          "base_uri": "https://localhost:8080/",
          "height": 214
        },
        "outputId": "a763abc3-1d6d-4240-b4ce-121d72a201ba"
      },
      "source": [
        "ori_imgs = []\n",
        "for p in x_test:\n",
        "    img = Image.open(p).resize((224, 224)).convert(\"RGB\")\n",
        "    ori_imgs.append(np.array(img))\n",
        "ori_imgs = np.array(ori_imgs)\n",
        "preprocess_imgs = preprocess_input(ori_imgs)\n",
        "\n",
        "pre = model.predict(preprocess_imgs)\n",
        "\n"
      ],
      "execution_count": null,
      "outputs": [
        {
          "output_type": "error",
          "ename": "NameError",
          "evalue": "ignored",
          "traceback": [
            "\u001b[0;31m---------------------------------------------------------------------------\u001b[0m",
            "\u001b[0;31mNameError\u001b[0m                                 Traceback (most recent call last)",
            "\u001b[0;32m<ipython-input-30-c05320115a0c>\u001b[0m in \u001b[0;36m<module>\u001b[0;34m()\u001b[0m\n\u001b[1;32m      6\u001b[0m \u001b[0mpreprocess_imgs\u001b[0m \u001b[0;34m=\u001b[0m \u001b[0mpreprocess_input\u001b[0m\u001b[0;34m(\u001b[0m\u001b[0mori_imgs\u001b[0m\u001b[0;34m)\u001b[0m\u001b[0;34m\u001b[0m\u001b[0;34m\u001b[0m\u001b[0m\n\u001b[1;32m      7\u001b[0m \u001b[0;34m\u001b[0m\u001b[0m\n\u001b[0;32m----> 8\u001b[0;31m \u001b[0mpre\u001b[0m \u001b[0;34m=\u001b[0m \u001b[0mmodel\u001b[0m\u001b[0;34m.\u001b[0m\u001b[0mpredict\u001b[0m\u001b[0;34m(\u001b[0m\u001b[0mpreprocess_imgs\u001b[0m\u001b[0;34m)\u001b[0m\u001b[0;34m\u001b[0m\u001b[0;34m\u001b[0m\u001b[0m\n\u001b[0m\u001b[1;32m      9\u001b[0m \u001b[0;34m\u001b[0m\u001b[0m\n",
            "\u001b[0;31mNameError\u001b[0m: name 'model' is not defined"
          ]
        }
      ]
    },
    {
      "cell_type": "code",
      "metadata": {
        "id": "i3xlSmZkRh9S"
      },
      "source": [
        "pre = pre.argmax(axis=1)"
      ],
      "execution_count": null,
      "outputs": []
    },
    {
      "cell_type": "code",
      "metadata": {
        "id": "OYj1_Dg2NkTG"
      },
      "source": [
        "trans = [\"gp\", \"vivo\", \"gryphus6\", \"SR\", \"DRG\", \"FIDDLE\", \"S2\"]\n",
        " # gp + vivo + gryphus6 + SR + DRG + FIDDLE + S2\n",
        "idx = np.nonzero(pre != y_test)[0]\n",
        "pre_false_img = ori_imgs[idx]\n",
        "pre_false_val = pre[idx]\n",
        "pre_false_ori = y_test[idx]\n",
        "\n",
        "plt.figure(figsize=(15, 15))\n",
        "width = 10\n",
        "height = len(idx) // width + 1\n",
        "for i in range(len(idx)):\n",
        "    plt.subplot(height, width, i+1)\n",
        "    t = \"[O]:{}\\n[P]:{}\".format(trans[pre_false_ori[i]],\n",
        "                                trans[pre_false_val[i]])\n",
        "    plt.title(t)\n",
        "    plt.axis(\"off\")\n",
        "    plt.imshow(pre_false_img[i])\n"
      ],
      "execution_count": null,
      "outputs": []
    },
    {
      "cell_type": "code",
      "metadata": {
        "id": "-nFnhFduWCe7"
      },
      "source": [
        "import pandas as pd\n",
        "from sklearn.metrics import confusion_matrix\n",
        "mat = confusion_matrix(y_test, pre)\n",
        "pd.DataFrame(\n",
        "        mat,\n",
        "        index=[\"{}(正確)\".format(trans[i]) for i in range(7)],\n",
        "        columns=[\"{}(預測)\".format(trans[i]) for i in range(7)]\n",
        ")"
      ],
      "execution_count": null,
      "outputs": []
    },
    {
      "cell_type": "code",
      "metadata": {
        "id": "BCsJGileOuHS"
      },
      "source": [
        "import requests\n",
        "url = input(\"Enter:\")\n",
        "response = requests.get(url, stream=True, verify=False)\n",
        "img = Image.open(response.raw).resize((224, 224)).convert(\"RGB\")\n",
        "img_np = preprocess_input(np.array(img).reshape(1, 224, 224, 3))\n",
        "proba = model.predict(img_np)\n",
        "ans = proba.argmax(axis=1)\n",
        "print(\"預測:\", trans[ans[0]])\n",
        "print(\"機率:\", proba[0])\n",
        "plt.imshow(img)\n",
        "#trans = [\"gp\", \"vivo\", \"gryphus6\", \"SR\", \"DRG\", \"FIDDLE\", \"S2\"]"
      ],
      "execution_count": null,
      "outputs": []
    },
    {
      "cell_type": "code",
      "metadata": {
        "id": "jfjT8VfHp9Q8"
      },
      "source": [
        "#01:33:12"
      ],
      "execution_count": null,
      "outputs": []
    }
  ]
}